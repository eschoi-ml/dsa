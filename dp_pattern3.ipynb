{
  "nbformat": 4,
  "nbformat_minor": 0,
  "metadata": {
    "colab": {
      "name": "dp-pattern3.ipynb",
      "provenance": [],
      "authorship_tag": "ABX9TyMXjQ+r9XW6BjTAg/Qs42KA",
      "include_colab_link": true
    },
    "kernelspec": {
      "name": "python3",
      "display_name": "Python 3"
    },
    "language_info": {
      "name": "python"
    }
  },
  "cells": [
    {
      "cell_type": "markdown",
      "metadata": {
        "id": "view-in-github",
        "colab_type": "text"
      },
      "source": [
        "<a href=\"https://colab.research.google.com/github/eschoi-ml/dsa/blob/main/dp_pattern3.ipynb\" target=\"_parent\"><img src=\"https://colab.research.google.com/assets/colab-badge.svg\" alt=\"Open In Colab\"/></a>"
      ]
    },
    {
      "cell_type": "markdown",
      "metadata": {
        "id": "xaAX80zBBewv"
      },
      "source": [
        "# Dynamic Programming\n",
        "# Pattern 3. Merging intervals\n",
        "Given a set of numbers find an optimal solution for a problem considering the current number and the best you can get from the left and right sides.\n",
        "\n",
        "    l = 1/2, ..., n-1\n",
        "    i = 0, ..., n-1-l\n",
        "    j = i + l = l, ..., n-1\n",
        "    k = i/i+1, ..., j-1/j\n",
        "\n",
        "- Unique Binary Search Trees\n",
        "- Minimum Cost Tree From Leaf Values\n",
        "- Minimum Score Triangulation of Polygon\n",
        "- Burst Balloons\n",
        "- Remove Boxes\n",
        "- Guess Number Higher or Lower II\n",
        "- Minimum Cost to Merge Stones"
      ]
    },
    {
      "cell_type": "markdown",
      "metadata": {
        "id": "bCvx8Ed8aMjV"
      },
      "source": [
        "## [Unique Binary Search Trees](https://leetcode.com/problems/unique-binary-search-trees/)\n",
        "*Given an integer n, return the number of structurally unique BST's (binary search trees)*"
      ]
    },
    {
      "cell_type": "code",
      "metadata": {
        "id": "5o4NixDxabEd"
      },
      "source": [
        "def numTrees(self, n: int) -> int:\n",
        "    \"\"\"\n",
        "    dp[i]: the number of structurally unique BST's\n",
        "    \n",
        "    1, 2, 3, ..., j-1, j, j+1, ..., i\n",
        "    |_______________|      |________|\n",
        "        j - 1                i - j\n",
        "        dp[j-1]         *   dp[i-j]   \n",
        "    \"\"\"\n",
        "    \n",
        "    dp = [0] * (n + 1)\n",
        "    dp[1] = dp[0] = 1\n",
        "    \n",
        "    for i in range(2, n + 1):\n",
        "        for j in range(1, i + 1):\n",
        "            dp[i] += dp[j-1] * dp[i-j]\n",
        "    \n",
        "    return dp[-1]"
      ],
      "execution_count": null,
      "outputs": []
    },
    {
      "cell_type": "markdown",
      "metadata": {
        "id": "Px68jJvqSgxO"
      },
      "source": [
        "## [Minimum Cost Tree From Leaf Values](https://leetcode.com/problems/minimum-cost-tree-from-leaf-values/)\n",
        "*Among all possible binary trees considered, return the smallest possible sum of the values of each non-leaf node.*"
      ]
    },
    {
      "cell_type": "code",
      "metadata": {
        "id": "QATb8Lc9Bze0"
      },
      "source": [
        "def mctFromLeafValues(self, arr: List[int]) -> int:\n",
        "    \"\"\"\n",
        "    dp[i][j]: the minimum sum of non-leaf nodes from arr[i] to arr[j] \n",
        "    \n",
        "    l = 1 ~ n-1\n",
        "    i = 0 ~ n-l-1\n",
        "    j = i + l = l ~ n-1\n",
        "    i~k/ k+1:j\n",
        "    k = i~j-1\n",
        "    \n",
        "    for k in range(i, j+1):\n",
        "        dp[i][j] = min(dp[i][k] + max(arr[i:k+1]) * max(arr[k+1:j+1]) + dp[k+1][j])\n",
        "        6   2   4\n",
        "    i\\j 0   1   2 \n",
        "    6 0 0      ans\n",
        "    2 1 -   0   \n",
        "    4 2 -   -   0\n",
        "    \n",
        "    \"\"\"\n",
        "    n = len(arr)\n",
        "    dp = [[float('inf')] * n for _ in range(n)]\n",
        "    for i in range(n):\n",
        "        dp[i][i] = 0\n",
        "        \n",
        "    for l in range(1, n): \n",
        "        for i in range(n - l): \n",
        "            j = i + l \n",
        "            for k in range(i, j):\n",
        "                rootVal = max(arr[i:k+1]) * max(arr[k+1:j+1])\n",
        "                dp[i][j] = min(dp[i][j], dp[i][k] + rootVal + dp[k+1][j])\n",
        "\n",
        "    return dp[0][-1]"
      ],
      "execution_count": null,
      "outputs": []
    },
    {
      "cell_type": "markdown",
      "metadata": {
        "id": "sG-ahDcViDTO"
      },
      "source": [
        "## [Minimum Score Triangulation of Polygon](https://leetcode.com/problems/minimum-score-triangulation-of-polygon/)\n",
        "*Return the smallest possible total score that you can achieve with some triangulation of the polygon.*"
      ]
    },
    {
      "cell_type": "code",
      "metadata": {
        "id": "NvWP4VksiJ_U"
      },
      "source": [
        "def minScoreTriangulation(self, values: List[int]) -> int:\n",
        "    \"\"\"\n",
        "    dp[i][j]: the smallest possilbe total score from i to j\n",
        "           \n",
        "       i\\j 0  1  2  3\n",
        "        0  _  0    ans \n",
        "        1  _  _  0\n",
        "        2  _  _  _  0\n",
        "        3  _  _  _  _ \n",
        "    \n",
        "    - l: the distance from a start point to an end point of a triangle bottom, l = 2, ..., n-1\n",
        "    range = i, i+1, ..., j-1, j\n",
        "    - i: start point, i = 0, ..., n-l-1\n",
        "    - j: end point, j = i + l = l, ..., n-1\n",
        "    - k: triangle third point, k = i+1, ..., j-1 \n",
        "    i~k//k~j\n",
        "    \n",
        "    dp[i][j] = min(dp[i][j], dp[i][k] + values[i] * values[k] * values[j] + dp[k][j])\n",
        "    \n",
        "    \"\"\"\n",
        "    n = len(values)\n",
        "    dp = [[float('inf')] * n for _ in range(n)]\n",
        "    for i in range(n-1):\n",
        "        dp[i][i+1] = 0\n",
        "    \n",
        "    for l in range(2, n):\n",
        "        for i in range(n-l):\n",
        "            j = i + l\n",
        "            value = values[i] * values[j]\n",
        "            for k in range(i+1, j):\n",
        "                dp[i][j] = min(dp[i][j], dp[i][k] + value * values[k] + dp[k][j])\n",
        "    \n",
        "    return dp[0][-1]"
      ],
      "execution_count": null,
      "outputs": []
    },
    {
      "cell_type": "markdown",
      "metadata": {
        "id": "sRnxdVlAPTKp"
      },
      "source": [
        "## [Burst Balloons](https://leetcode.com/problems/burst-balloons/)\n",
        "*Return the maximum coins you can collect by bursting the balloons wisely.*"
      ]
    },
    {
      "cell_type": "code",
      "metadata": {
        "id": "S1oFcyt9PbSD"
      },
      "source": [
        "def maxCoins(self, nums: List[int]) -> int:\n",
        "    \"\"\"\n",
        "    brute force: n! \n",
        "    n = n + 2\n",
        "    dp[i][j]: the maximum coins you can collect by bursting the balloons \n",
        "                between nums[i] to nums[j] exclusively (i, j)\n",
        "    \n",
        "    \n",
        "    nums = [1,3,1,5,8,1]\n",
        "          i\\j 0 1 2 3 4 5\n",
        "            0 _ _      ans\n",
        "            1 _ _ _ \n",
        "            2 _ _ _ _ \n",
        "            3 _ _ _ _ _ \n",
        "            4 _ _ _ _ _ _ \n",
        "            5 _ _ _ _ _ _\n",
        "    \n",
        "    - l: the length of subarray, l=2, ..., n-1 (min=3)\n",
        "    - i: start point exclusively, i=0, ..., n-l-1\n",
        "    - j: end point exclusively, j=i+l=l, ..., n-1\n",
        "    - k: last bursting point, k = i+1, ..., j-1\n",
        "    k=i+1, ..., j-1\n",
        "    \n",
        "    dp[i][j] = max(dp[i][j], dp[i][k] + nums[i]*nums[k]*nums[j] + dp[k][j])\n",
        "          \n",
        "    \"\"\"\n",
        "    nums = [1] + nums + [1]\n",
        "    n = len(nums)\n",
        "    dp = [[0] * n for _ in range(n)]\n",
        "    \n",
        "    for l in range(2, n):\n",
        "        for i in range(n - l):\n",
        "            j = i + l\n",
        "            for k in range(i+1, j):\n",
        "                dp[i][j] = max(dp[i][j], dp[i][k] + nums[i] * nums[k] * nums[j] + dp[k][j])\n",
        "    \n",
        "    nums.pop()\n",
        "    nums = nums[1:]\n",
        "    \n",
        "    return dp[0][-1]"
      ],
      "execution_count": null,
      "outputs": []
    },
    {
      "cell_type": "markdown",
      "metadata": {
        "id": "puGn24PBMf7Y"
      },
      "source": [
        "## [Remove Boxes](https://leetcode.com/problems/remove-boxes/)\n",
        "*Return the maximum points you can get.*"
      ]
    },
    {
      "cell_type": "code",
      "metadata": {
        "id": "BQDNVIi8MmoR"
      },
      "source": [
        "def removeBoxes(self, boxes: List[int]) -> int:\n",
        "    \"\"\"\n",
        "    dp[i][j][k]: the maximum points you can get from i to j\n",
        "                    with k boxes \"right before\" i that has the same color as i\n",
        "            k=2  i  j     \n",
        "    [1, 2, 2, 2, 3, 1]\n",
        "\n",
        "    l = 1, ..., n-1\n",
        "    i = 0, ..., n-1-l\n",
        "    j = i + l = l, ..., n-1\n",
        "    k = 0, ..., i\n",
        "    \n",
        "    m = i+1, ..., j\n",
        "    \n",
        "    i, i+1, ...,m-1, m, m+1, ..., j-1, j\n",
        "    \n",
        "    Choice: either to remove or keep ith box\n",
        "    1) remove ith box: k + 1 continuous boxes until i and 0 continuous box before (i+1)th box \n",
        "    dp[i][j][k] = (k + 1) * (k + 1) + dp[i+1][j][0]\n",
        "    2) keep ith box: find mth box from i+1 to j that has the same color as ith box\n",
        "    dp[i][j][k] = dp[i+1][m-1][0] (exclusively take into account all boxes from i+1 to m-1) \n",
        "                + dp[m+1][j][k+1] (mergingly take into account k continuous boxes before mth box)\n",
        "    \n",
        "    return dp[0][-1][0]: return the maximum points from 0 to n-1 with 0 boxes same color as 0th box\n",
        "    \n",
        "    \"\"\"\n",
        "    \n",
        "    n = len(boxes)\n",
        "    dp = [[[0] * n for _ in range(n)] for _ in range(n)]\n",
        "    \n",
        "    for i in range(n):\n",
        "        for k in range(i+1):\n",
        "            dp[i][i][k] = (k+1)*(k+1)\n",
        "    \n",
        "    for l in range(1, n):\n",
        "        for i in range(n-l):\n",
        "            j = i + l\n",
        "            for k in range(i+1):\n",
        "                # remove ith box \n",
        "                dp[i][j][k] = (k + 1) * (k + 1) + dp[i+1][j][0]\n",
        "                \n",
        "                # keep ith box\n",
        "                for m in range(i+1, j+1):\n",
        "                    if boxes[i] == boxes[m]:\n",
        "                        dp[i][j][k] = max(dp[i][j][k], dp[i+1][m-1][0] + dp[m][j][k+1])\n",
        "                    \n",
        "    return dp[0][n-1][0]"
      ],
      "execution_count": null,
      "outputs": []
    },
    {
      "cell_type": "markdown",
      "metadata": {
        "id": "K0lI2Cyh9rX0"
      },
      "source": [
        "## [Guess Number Higher or Lower II](https://leetcode.com/problems/guess-number-higher-or-lower-ii/)\n",
        "*Return the minimum amount of money you need to guarantee a win regardless of what number I pick.*"
      ]
    },
    {
      "cell_type": "code",
      "metadata": {
        "id": "cqSR8nL4929f"
      },
      "source": [
        "def getMoneyAmount(self, n: int) -> int:\n",
        "    \"\"\"\n",
        "    dp[i][j]: the minimum amount of money you need to guarantee a win from i to j\n",
        "    \n",
        "    k = i, ..., j\n",
        "    dp[i][j] = min(dp[i][j], k+1 + max(dp[i][k-1], dp[k+1][j]))\n",
        "    n = 5\n",
        "      i\\j 0 1 2 3 4\n",
        "        0 0 1\n",
        "        1 _ 0 2\n",
        "        2 _ _ 0 3\n",
        "        3 _ _ _ 0 4\n",
        "        4 _ _ _ _ 0\n",
        "    \n",
        "    l = 2, ..., n-1\n",
        "    i = 0, ..., n-1-l\n",
        "    j = i + l = l, ..., n-1\n",
        "    k = i+1, ..., j-1\n",
        "    \n",
        "    \"\"\"\n",
        "    \n",
        "    dp = [[float('inf')] * n for _ in range(n)]\n",
        "    for i in range(n):\n",
        "        dp[i][i] = 0\n",
        "        if i < n-1:\n",
        "            dp[i][i+1] = i+1\n",
        "    \n",
        "    for l in range(2, n):\n",
        "        for i in range(n-l):\n",
        "            j = i + l\n",
        "            for k in range(i+1, j):\n",
        "                dp[i][j] = min(dp[i][j], k+1 + max(dp[i][k-1], dp[k+1][j]))\n",
        "\n",
        "    return dp[0][-1]"
      ],
      "execution_count": null,
      "outputs": []
    },
    {
      "cell_type": "markdown",
      "metadata": {
        "id": "wnKML6m5o800"
      },
      "source": [
        "## [Minimum Cost to Merge Stones](https://leetcode.com/problems/minimum-cost-to-merge-stones/)\n",
        "*Return the minimum cost to merge all piles of stones into one pile.*"
      ]
    },
    {
      "cell_type": "code",
      "metadata": {
        "id": "UnbEuXCdpGTj"
      },
      "source": [
        "def mergeStones(self, stones: List[int], K: int) -> int:\n",
        "    \"\"\"\n",
        "    \n",
        "    # edge case\n",
        "    n  - k(K - 1) = 1\n",
        "    n - 1 = k * (K - 1)\n",
        "    (n - 1) % (K - 1) = 0\n",
        "    \n",
        "    dp[i][j]: the minimum cost to merge piles from stones[i] to stones[j] into one pile\n",
        "    l = K-1, ..., n-1\n",
        "    i = 0, ..., n - l - 1\n",
        "    j = i + l = l, ..., n - 1\n",
        "    i, i+1, ..., j-1, j\n",
        "    |_______ l+1______|\n",
        "    k = i, i + (K - 1), i + 2*(K - 1), ..., j-1 # size: (1, l) (1 + (K-1), rest), (1 + 2 * (K-1), rest)\n",
        "    dp[i][j] = min(dp[i][j], dp[i][k] + dp[k+1][j])\n",
        "    \n",
        "    K = 3\n",
        "      i\\j 0 1 2 3 4\n",
        "        0 0 0    ans\n",
        "        1 _ 0 0\n",
        "        2 _ _ 0 0\n",
        "        3 _ _ _ 0 0\n",
        "        4 _ _ _ _ 0\n",
        "    \n",
        "    \"\"\"\n",
        "    n = len(stones)\n",
        "    # edge case\n",
        "    if (n - 1) % (K - 1) != 0:\n",
        "        return -1\n",
        "    \n",
        "    # partial sum\n",
        "    p = [0]\n",
        "    for i in range(n):\n",
        "        p.append(p[i] + stones[i])\n",
        "    \n",
        "    # dp\n",
        "    dp = [[float('inf')] * n for _ in range(n)]\n",
        "    for i in range(n):\n",
        "        for j in range(i, min(n, i + K - 1)):\n",
        "            dp[i][j] = 0\n",
        "    \n",
        "    for l in range(K-1, n):\n",
        "        for i in range(n - l):\n",
        "            j = i + l\n",
        "            for k in range(i, j, K-1):\n",
        "                dp[i][j] = min(dp[i][j], dp[i][k] + dp[k+1][j])\n",
        "            if (j - i + 1 - 1) % (K - 1) == 0:\n",
        "                dp[i][j] += p[j+1] - p[i]\n",
        "\n",
        "    return dp[0][-1]"
      ],
      "execution_count": null,
      "outputs": []
    }
  ]
}
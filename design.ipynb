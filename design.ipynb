{
  "nbformat": 4,
  "nbformat_minor": 0,
  "metadata": {
    "colab": {
      "name": "design.ipynb",
      "provenance": [],
      "toc_visible": true,
      "authorship_tag": "ABX9TyMX+oSqIA/apMuV/uECjUPh",
      "include_colab_link": true
    },
    "kernelspec": {
      "name": "python3",
      "display_name": "Python 3"
    },
    "language_info": {
      "name": "python"
    }
  },
  "cells": [
    {
      "cell_type": "markdown",
      "metadata": {
        "id": "view-in-github",
        "colab_type": "text"
      },
      "source": [
        "<a href=\"https://colab.research.google.com/github/eschoi-ml/dsa/blob/main/design.ipynb\" target=\"_parent\"><img src=\"https://colab.research.google.com/assets/colab-badge.svg\" alt=\"Open In Colab\"/></a>"
      ]
    },
    {
      "cell_type": "markdown",
      "metadata": {
        "id": "8EWUP8icApq7"
      },
      "source": [
        "# Design\n",
        "- [System](#system)\n",
        "- [Cache](#cache)\n",
        "- [Tic Tac Toe](#tic-tac-toe)"
      ]
    },
    {
      "cell_type": "markdown",
      "metadata": {
        "id": "1FSytxkcCifJ"
      },
      "source": [
        "# System\n",
        "- [Design In-Memory File System](https://leetcode.com/problems/design-in-memory-file-system/): Trie\n",
        "- [Design Log Storage System](https://leetcode.com/problems/design-log-storage-system/): dict & binary search"
      ]
    },
    {
      "cell_type": "markdown",
      "metadata": {
        "id": "5nA536YIC2XU"
      },
      "source": [
        "## [Design In-Memory File System](https://leetcode.com/problems/design-in-memory-file-system/)"
      ]
    },
    {
      "cell_type": "code",
      "metadata": {
        "id": "x0ojI4jiDAEY"
      },
      "source": [
        "# Trie\n",
        "class Node:\n",
        "    def __init__(self):\n",
        "        self.directory = collections.defaultdict(Node)\n",
        "        self.content = \"\"\n",
        "        \n",
        "class FileSystem:\n",
        "\n",
        "    def __init__(self):\n",
        "        self.root = Node()\n",
        "    \n",
        "    def _find(self, path):\n",
        "        \n",
        "        if path == '/':\n",
        "            return self.root\n",
        "        \n",
        "        node = self.root\n",
        "        for p in path.split('/')[1:]:\n",
        "            node = node.directory[p]\n",
        "        return node\n",
        "        \n",
        "    def ls(self, path: str) -> List[str]:\n",
        "        \n",
        "        node = self._find(path)\n",
        "        if node.content:\n",
        "            return [path.split('/')[-1]]\n",
        "        \n",
        "        return sorted(node.directory.keys())\n",
        "                        \n",
        "\n",
        "    def mkdir(self, path: str) -> None:\n",
        "        \n",
        "        self._find(path)\n",
        "\n",
        "        \n",
        "    def addContentToFile(self, filePath: str, content: str) -> None:\n",
        "        \n",
        "        node = self._find(filePath)\n",
        "        node.content += content\n",
        " \n",
        "\n",
        "    def readContentFromFile(self, filePath: str) -> str:\n",
        "        \n",
        "        node = self._find(filePath)\n",
        "        return node.content\n"
      ],
      "execution_count": null,
      "outputs": []
    },
    {
      "cell_type": "markdown",
      "metadata": {
        "id": "Nb7PXO2rD8G9"
      },
      "source": [
        "## [Design Log Storage System](https://leetcode.com/problems/design-log-storage-system/)"
      ]
    },
    {
      "cell_type": "code",
      "metadata": {
        "id": "KXXzUcs4D-DG"
      },
      "source": [
        "class LogSystem:\n",
        "\n",
        "    def __init__(self):\n",
        "        \n",
        "        # {timestamp:id}\n",
        "        self.dic = dict()\n",
        "        # [timestamp1, timestamp2] as sorted\n",
        "        self.ts = []\n",
        "        \n",
        "        self.gmap = {'Year': 4, 'Month': 7, 'Day': 10, 'Hour': 13, 'Minute': 16, 'Second': 19}\n",
        "        self.start = '2000:00:00:00:00:00'\n",
        "        self.end = '2017:12:31:23:59:59'\n",
        "\n",
        "    def put(self, id: int, timestamp: str) -> None:\n",
        "        # O(log n) & O(n)\n",
        "        self.dic[timestamp] = id \n",
        "        bisect.insort_left(self.ts, timestamp)        \n",
        "        \n",
        "        \n",
        "    def retrieve(self, start: str, end: str, granularity: str) -> List[int]:\n",
        "        \n",
        "        # O(log n), O(1)\n",
        "        \n",
        "        idx = self.gmap[granularity]\n",
        "        \n",
        "        start = start[:idx]  + self.start[idx:]\n",
        "        end = end[:idx] + self.end[idx:]\n",
        "        \n",
        "        l = bisect.bisect_left(self.ts, start)\n",
        "        r = bisect.bisect_right(self.ts, end)\n",
        "        \n",
        "        res = []\n",
        "        for i in range(l, r):\n",
        "            res.append(self.dic[self.ts[i]])\n",
        "        \n",
        "        return res"
      ],
      "execution_count": null,
      "outputs": []
    },
    {
      "cell_type": "markdown",
      "metadata": {
        "id": "T6sD76jcFdYD"
      },
      "source": [
        "# Cache\n",
        "- [LRU Cache](https://leetcode.com/problems/lru-cache/): OrderedDict\n",
        "- [LFU Cache](https://leetcode.com/problems/lfu-cache/): dict, defaultdict(deque) "
      ]
    },
    {
      "cell_type": "markdown",
      "metadata": {
        "id": "5Ncg9Nt4DaYq"
      },
      "source": [
        "## [LRU Cache](https://leetcode.com/problems/lru-cache/)"
      ]
    },
    {
      "cell_type": "code",
      "metadata": {
        "id": "q-mQj7Y9DcM7"
      },
      "source": [
        "# OrderedDict\n",
        "class LRUCache:\n",
        "\n",
        "    def __init__(self, capacity: int):\n",
        "        \n",
        "        self.dic = collections.OrderedDict()\n",
        "        self.capacity = capacity\n",
        "\n",
        "    def get(self, key: int) -> int:\n",
        "        \n",
        "        if key not in self.dic:\n",
        "            return -1\n",
        "        \n",
        "        self.dic.move_to_end(key)\n",
        "        return self.dic[key]\n",
        "        \n",
        "    def put(self, key: int, value: int) -> None:\n",
        "        \n",
        "        if key in self.dic:\n",
        "            self.dic.move_to_end(key)\n",
        "        self.dic[key] = value\n",
        "        if len(self.dic) > self.capacity:\n",
        "            self.dic.popitem(last=False)"
      ],
      "execution_count": null,
      "outputs": []
    },
    {
      "cell_type": "markdown",
      "metadata": {
        "id": "p2PCCqIEDgW9"
      },
      "source": [
        "## [LFU Cache](https://leetcode.com/problems/lfu-cache/)"
      ]
    },
    {
      "cell_type": "code",
      "metadata": {
        "id": "OkwwAVPZDg_x"
      },
      "source": [
        "# dict, defaultdict(deque)\n",
        "class LFUCache:\n",
        "\n",
        "    def __init__(self, capacity: int):\n",
        "        \n",
        "        # {key:(val, freq)}\n",
        "        self.key2node = {} \n",
        "        # {freq: [key1, key2, key3]}\n",
        "        self.freq2key = collections.defaultdict(collections.deque) \n",
        "        self.minfreq = 0\n",
        "        \n",
        "        self.capacity = capacity\n",
        "    \n",
        "    def _update(self, key, val):\n",
        "        \n",
        "        _, freq = self.key2node[key]\n",
        "        self.key2node[key] = [val, freq + 1]\n",
        "        self.freq2key[freq].remove(key)\n",
        "        if not self.freq2key[freq]:\n",
        "            del self.freq2key[freq]\n",
        "        self.freq2key[freq + 1].append(key)\n",
        "        \n",
        "        if not self.freq2key[self.minfreq]:\n",
        "            self.minfreq += 1\n",
        "        \n",
        "    def get(self, key: int) -> int:\n",
        "        \n",
        "        if key not in self.key2node:\n",
        "            return -1\n",
        "        \n",
        "        val = self.key2node[key][0]\n",
        "        self._update(key, val)\n",
        "            \n",
        "        return val\n",
        "        \n",
        "    def put(self, key: int, value: int) -> None:\n",
        "        \n",
        "        if self.capacity == 0:\n",
        "            return\n",
        "        \n",
        "        if key in self.key2node:\n",
        "            self._update(key, value)\n",
        "            return \n",
        "        \n",
        "        if len(self.key2node) == self.capacity:\n",
        "            oldkey = self.freq2key[self.minfreq].popleft()\n",
        "            if not self.freq2key[self.minfreq]:\n",
        "                del self.freq2key[self.minfreq]  \n",
        "            del self.key2node[oldkey]\n",
        "\n",
        "        self.minfreq = 1\n",
        "        self.key2node[key] = [value, 1]\n",
        "        self.freq2key[1].append(key)"
      ],
      "execution_count": null,
      "outputs": []
    },
    {
      "cell_type": "markdown",
      "metadata": {
        "id": "8458EjRMAhL-"
      },
      "source": [
        "# Tic Tac Toe\n",
        "- [Design Tic-Tac-Toe](https://leetcode.com/problems/design-tic-tac-toe/)\n",
        "- [Find Winner on a Tic Tac Toe Game](https://leetcode.com/problems/find-winner-on-a-tic-tac-toe-game/)\n",
        "- [Valid Tic-Tac-Toe State](https://leetcode.com/problems/valid-tic-tac-toe-state/)\n"
      ]
    },
    {
      "cell_type": "markdown",
      "metadata": {
        "id": "RDtXWeohAvMG"
      },
      "source": [
        "## [Design Tic-Tac-Toe](https://leetcode.com/problems/design-tic-tac-toe/)"
      ]
    },
    {
      "cell_type": "code",
      "metadata": {
        "id": "sPhhNHb-ASWw"
      },
      "source": [
        "class TicTacToe:\n",
        "\n",
        "    def __init__(self, n: int):\n",
        "        \"\"\"\n",
        "        Initialize your data structure here.\n",
        "        \"\"\"\n",
        "        \n",
        "        self.rows = [0] * n\n",
        "        self.cols = [0] * n\n",
        "        self.diag = [0] * 2\n",
        "        self.n = n\n",
        "    \n",
        "    def _winCheck(self, dic, key, player):\n",
        "        \n",
        "        playerval = 2 * (player - 1.5)\n",
        "        return dic[key] == playerval * self.n\n",
        "\n",
        "    def move(self, row: int, col: int, player: int) -> int:\n",
        "        \"\"\"\n",
        "        Player {player} makes a move at ({row}, {col}).\n",
        "        @param row The row of the board.\n",
        "        @param col The column of the board.\n",
        "        @param player The player, can be either 1 or 2.\n",
        "        @return The current winning condition, can be either:\n",
        "                0: No one wins.\n",
        "                1: Player 1 wins.\n",
        "                2: Player 2 wins.\n",
        "        \"\"\"\n",
        "\n",
        "        playerval = 2 * (player - 1.5)\n",
        "        \n",
        "        self.rows[row] += playerval\n",
        "        self.cols[col] += playerval\n",
        "        \n",
        "        if row - col == 0:\n",
        "            self.diag[0] += playerval\n",
        "        if row + col == self.n - 1:\n",
        "            self.diag[1] += playerval\n",
        "        \n",
        "        \n",
        "        if self._winCheck(self.rows, row, player) or self._winCheck(self.cols, col, player) or self._winCheck(self.diag, 0, player) or self._winCheck(self.diag, 1, player):\n",
        "            return player\n",
        "        \n",
        "        return 0"
      ],
      "execution_count": null,
      "outputs": []
    },
    {
      "cell_type": "markdown",
      "metadata": {
        "id": "VQoViUl_A5Rj"
      },
      "source": [
        "## [Find Winner on a Tic Tac Toe Game](https://leetcode.com/problems/find-winner-on-a-tic-tac-toe-game/)"
      ]
    },
    {
      "cell_type": "code",
      "metadata": {
        "id": "3m9Ny0MbA8QX"
      },
      "source": [
        "class Solution:\n",
        "    def tictactoe(self, moves: List[List[int]]) -> str:\n",
        "        \n",
        "        def checkBingo(player):\n",
        "            \n",
        "            playerval = 2 * (player - 0.5)\n",
        "            for i in range(n):\n",
        "                if rows[i] == playerval * n or cols[i] == playerval * n:\n",
        "                    return True\n",
        "            return diag[0] == playerval * n or diag[1] == playerval * n\n",
        "        \n",
        "        n = 3\n",
        "        rows = [0] * n \n",
        "        cols = [0] * n\n",
        "        diag = [0] * 2 # r == c, r + c == n-1\n",
        "        \n",
        "        for i in range(len(moves)):\n",
        "            player = i % 2\n",
        "            playerval = 2*(player - 0.5)\n",
        "            r, c = moves[i][0], moves[i][1]\n",
        "            rows[r] += playerval\n",
        "            cols[c] += playerval\n",
        "            if r == c:\n",
        "                diag[0] += playerval\n",
        "            if r + c == n - 1:\n",
        "                diag[1] += playerval\n",
        "        \n",
        "        if checkBingo(0):\n",
        "            return 'A'\n",
        "        elif checkBingo(1):\n",
        "            return 'B'\n",
        "        elif len(moves) == n*n:\n",
        "            return 'Draw'\n",
        "        else:\n",
        "            return 'Pending'\n",
        "        "
      ],
      "execution_count": null,
      "outputs": []
    },
    {
      "cell_type": "markdown",
      "metadata": {
        "id": "AKI1yfIOBF6P"
      },
      "source": [
        "## [Valid Tic-Tac-Toe State](https://leetcode.com/problems/valid-tic-tac-toe-state/)"
      ]
    },
    {
      "cell_type": "code",
      "metadata": {
        "id": "o-Qv8KR_BHBq"
      },
      "source": [
        "class Solution:\n",
        "    def validTicTacToe(self, board: List[str]) -> bool:\n",
        "        \"\"\"\n",
        "        # nx, no\n",
        "        # bx, bo\n",
        "        \n",
        "        if (nx == no and not bx) or (nx == no + 1 and not bo):\n",
        "            return True\n",
        "        return False\n",
        "        \n",
        "        \n",
        "        \"\"\"\n",
        "        def checkBingo(player):\n",
        "            \n",
        "            # row, col 0 to n-1\n",
        "            diagcnt = antidiagcnt = 0\n",
        "            for i in range(n):\n",
        "                \n",
        "                rowcnt = colcnt = 0\n",
        "                for j in range(n):   \n",
        "                    if board[i][j] == player:\n",
        "                        rowcnt += 1\n",
        "                    if board[j][i] == player:\n",
        "                        colcnt += 1\n",
        "                if rowcnt == n or colcnt == n:\n",
        "                    return True\n",
        "                \n",
        "                if board[i][i] == player:\n",
        "                    diagcnt += 1\n",
        "                \n",
        "                if board[i][n-1-i] == player:\n",
        "                    antidiagcnt += 1\n",
        "                    \n",
        "            return (diagcnt == n) or (antidiagcnt == n)\n",
        "   \n",
        "\n",
        "        n = len(board)\n",
        "        \n",
        "        # nx, no\n",
        "        nx = no = 0\n",
        "        for i in range(n):\n",
        "            for j in range(n):\n",
        "                if board[i][j] == 'O':\n",
        "                    no += 1\n",
        "                elif board[i][j] == 'X':\n",
        "                    nx += 1\n",
        "        # bx, bo\n",
        "        bx = bo = False\n",
        "        if nx >= n:\n",
        "            bx = checkBingo('X')\n",
        "        if no >= n:\n",
        "            bo = checkBingo('O')\n",
        "        \n",
        "        if (nx == no and not bx) or (nx == no + 1 and not bo):\n",
        "            return True\n",
        "        return False"
      ],
      "execution_count": null,
      "outputs": []
    }
  ]
}
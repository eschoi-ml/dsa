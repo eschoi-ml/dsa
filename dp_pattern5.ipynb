{
  "nbformat": 4,
  "nbformat_minor": 0,
  "metadata": {
    "colab": {
      "name": "dp-pattern5.ipynb",
      "provenance": [],
      "toc_visible": true,
      "authorship_tag": "ABX9TyOEFyDa67n96s7H7VcI5H+H",
      "include_colab_link": true
    },
    "kernelspec": {
      "name": "python3",
      "display_name": "Python 3"
    },
    "language_info": {
      "name": "python"
    }
  },
  "cells": [
    {
      "cell_type": "markdown",
      "metadata": {
        "id": "view-in-github",
        "colab_type": "text"
      },
      "source": [
        "<a href=\"https://colab.research.google.com/github/eschoi-ml/dsa/blob/main/dp_pattern5.ipynb\" target=\"_parent\"><img src=\"https://colab.research.google.com/assets/colab-badge.svg\" alt=\"Open In Colab\"/></a>"
      ]
    },
    {
      "cell_type": "markdown",
      "metadata": {
        "id": "a-Wyt2Kur_dD"
      },
      "source": [
        "# Dynamic Programming\n",
        "# Pattern 5. State machine \n",
        "\n",
        "**Maximum Subarray**\n",
        "> dp[i][j]: the largest sum/product/... using nums[i] when j = 0 min state and j = 1 max state\n",
        "\n",
        "- Maximum Subarray\n",
        "- Maximum Product Subarray\n",
        "- Maximum Absolute Sum of Any Subarray\n",
        "- Maximum Subarray Sum After One Operation\n",
        "- Longest Turbulent Subarray\n",
        "\n",
        "**House Robber**\n",
        "> dp[i]: dp[i][j]: the maximum amount of money you can rob on ith day when j = 0 no rob or j = 1 rob\n",
        "\n",
        "- House Robber\n",
        "- House Robber II\n",
        "- House Robber III\n",
        "\n",
        "**Best Time to Buy and Sell Stock**\n",
        "> dp[i][j]: the maximum profit you can achieve upto ith transaction when j = 0 sell state or j = 1 buy state\n",
        "\n",
        "- Best Time to Buy and Sell Stock (k = 1)\n",
        "- Best Time to Buy and Sell Stock with Cooldown (k = 1 with cooldown)\n",
        "- Best Time to Buy and Sell Stock II (k = inf)\n",
        "- Best Time to Buy and Sell Stock with Transaction Fee (k = inf with transaction fee)\n",
        "- Best Time to Buy and Sell Stock IV (arbitrary k)\n",
        "- Best Time to Buy and Sell Stock III (k = 2)"
      ]
    },
    {
      "cell_type": "markdown",
      "metadata": {
        "id": "pmCz7KlXRyzW"
      },
      "source": [
        "## Maximum Subarray"
      ]
    },
    {
      "cell_type": "markdown",
      "metadata": {
        "id": "Oao8CfBvRQ-g"
      },
      "source": [
        "### [Maximum Subarray](https://leetcode.com/problems/maximum-subarray/)\n",
        "*Given an integer array nums, find the contiguous subarray (containing at least one number) which has the largest sum and return its sum.*"
      ]
    },
    {
      "cell_type": "code",
      "metadata": {
        "id": "xKVopCcCReTZ"
      },
      "source": [
        "def maxSubArray(self, nums: List[int]) -> int:\n",
        "    \"\"\"\n",
        "    dp[i]: the largest sum using nums[i]\n",
        "    \n",
        "    \"\"\"\n",
        "    # Solution 1\n",
        "    n = len(nums)\n",
        "    dp = [0] * n        \n",
        "    dp[0] = nums[0]\n",
        "    max_sum = nums[0]\n",
        "    for i in range(1, n):\n",
        "        num = nums[i]\n",
        "        dp[i] = max(num, dp[i-1] + num)\n",
        "        max_sum = max(max_sum, dp[i])\n",
        "    return max_sum \n",
        "\n",
        "    # Space-optimized Solution\n",
        "    n = len(nums)\n",
        "    curr_sum = nums[0]\n",
        "    max_sum = curr_sum\n",
        "    \n",
        "    for i in range(1, n):\n",
        "        \n",
        "        num = nums[i]\n",
        "        \n",
        "        curr_sum = max(num, curr_sum + num)\n",
        "        max_sum = max(max_sum, curr_sum)\n",
        "    \n",
        "    return max_sum"
      ],
      "execution_count": null,
      "outputs": []
    },
    {
      "cell_type": "markdown",
      "metadata": {
        "id": "O6B54VXTRinO"
      },
      "source": [
        "### [Maximum Product Subarray](https://leetcode.com/problems/maximum-product-subarray/)\n",
        "*Given an integer array nums, find a contiguous non-empty subarray within the array that has the largest product, and return the product.*"
      ]
    },
    {
      "cell_type": "code",
      "metadata": {
        "id": "rCxWnYIMRuQ6"
      },
      "source": [
        "def maxProduct(self, nums: List[int]) -> int:\n",
        "    \"\"\"\n",
        "    dp[i][j]: the largest product using nums[i]\n",
        "              j = 0 min, j = 1 max\n",
        "    \"\"\"\n",
        "    # Solution 1\n",
        "    n = len(nums)\n",
        "    dp = [[0, 0] for _ in range(n)]\n",
        "    dp[0][0] = dp[0][1] = nums[0]\n",
        "    max_prod = nums[0]\n",
        "    \n",
        "    for i in range(1, n):\n",
        "        num = nums[i]\n",
        "        dp[i][0] = min(num, dp[i-1][0] * num, dp[i-1][1] * num)\n",
        "        dp[i][1] = max(num, dp[i-1][0] * num, dp[i-1][1] * num)\n",
        "        max_prod = max(max_prod, dp[i][1])\n",
        "    \n",
        "    return max_prod\n",
        "\n",
        "    # Space-optimized solution\n",
        "    Max = Min = nums[0]\n",
        "    max_prod = Max\n",
        "    \n",
        "    for i in range(1, len(nums)):\n",
        "        \n",
        "        num = nums[i]\n",
        "        \n",
        "        curr_max = max(num, Max * num, Min * num)\n",
        "        curr_min = min(num, Max * num, Min * num)\n",
        "        \n",
        "        Max = curr_max\n",
        "        Min = curr_min\n",
        "        max_prod = max(max_prod, Max)\n",
        "    \n",
        "    return max_prod"
      ],
      "execution_count": null,
      "outputs": []
    },
    {
      "cell_type": "markdown",
      "metadata": {
        "id": "2T91fAiDUlZe"
      },
      "source": [
        "###[Maximum Absolute Sum of Any Subarray](https://leetcode.com/problems/maximum-absolute-sum-of-any-subarray/)\n",
        "*Return the maximum absolute sum of any (possibly empty) subarray of nums.*"
      ]
    },
    {
      "cell_type": "code",
      "metadata": {
        "id": "C8vYEepAUtZD"
      },
      "source": [
        "def maxAbsoluteSum(self, nums: List[int]) -> int:\n",
        "    \"\"\"\n",
        "    dp[i][j]: the maximum sum using nums[i]\n",
        "              j = 0 min, j = 1 max\n",
        "    \"\"\"\n",
        "    # Solution 1\n",
        "    n = len(nums)\n",
        "    dp = [[0, 0] for _ in range(n)]\n",
        "    dp[0][0] = dp[0][1] = nums[0]\n",
        "    max_abs_sum = abs(nums[0])\n",
        "    \n",
        "    for i in range(1, n):\n",
        "        num = nums[i]\n",
        "        dp[i][0] = min(num, dp[i-1][0] + num, dp[i-1][1] + num)\n",
        "        dp[i][1] = max(num, dp[i-1][0] + num, dp[i-1][1] + num)\n",
        "        max_abs_sum = max(max_abs_sum, abs(dp[i][0]), abs(dp[i][1]))\n",
        "    \n",
        "    return max_abs_sum\n",
        "    \n",
        "    # Space-optimized solution\n",
        "    Max = Min = nums[0]\n",
        "    max_abs_sum = abs(Max)\n",
        "    \n",
        "    for i in range(1, len(nums)):\n",
        "        \n",
        "        num = nums[i]\n",
        "        \n",
        "        curr_max = max(num, Max + num, Min + num)\n",
        "        curr_min = min(num, Max + num, Min + num)\n",
        "        \n",
        "        Max = curr_max\n",
        "        Min = curr_min\n",
        "        max_abs_sum = max(max_abs_sum, abs(Max), abs(Min))\n",
        "        \n",
        "    return max_abs_sum"
      ],
      "execution_count": null,
      "outputs": []
    },
    {
      "cell_type": "markdown",
      "metadata": {
        "id": "2Q4EEQDOWqEC"
      },
      "source": [
        "### [ Maximum Subarray Sum After One Operation](https://leetcode.com/problems/maximum-subarray-sum-after-one-operation/)\n",
        "*Return the maximum possible subarray sum after exactly one operation.*"
      ]
    },
    {
      "cell_type": "code",
      "metadata": {
        "id": "Uf-chNboWzlV"
      },
      "source": [
        "def maxSumAfterOperation(self, nums: List[int]) -> int:\n",
        "    \"\"\"\n",
        "    dp[i][j]: the maximum possible subarray sum using nums[i] \n",
        "              when j = 0 nums[i] or j = 1 squared nums[i]\n",
        "                \n",
        "    \"\"\"\n",
        "    # Solution 1 \n",
        "    n = len(nums)\n",
        "    dp = [[0, 0] for _ in range(n)]\n",
        "    dp[0][0] = nums[0]\n",
        "    dp[0][1] = nums[0]*nums[0]\n",
        "    max_sum = dp[0][1]\n",
        "    \n",
        "    for i in range(1, n):\n",
        "        num = nums[i]\n",
        "        squared_num = num * num\n",
        "        dp[i][0] = max(num, dp[i-1][0] + num)\n",
        "        dp[i][1] = max(squared_num, dp[i-1][0] + squared_num, dp[i-1][1] + num)\n",
        "        max_sum = max(max_sum, dp[i][1])\n",
        "    \n",
        "    return max_sum\n",
        "    \n",
        "    # Space-optimized solution\n",
        "    n = len(nums)\n",
        "    non_squared, squared = nums[0], nums[0]*nums[0]\n",
        "    max_sum = squared\n",
        "    \n",
        "    for i in range(1, n):\n",
        "        \n",
        "        num = nums[i]\n",
        "        num_squared = num * num\n",
        "        \n",
        "        curr_non_squared = max(num, non_squared + num)\n",
        "        curr_squared = max(num_squared, non_squared + num_squared, squared + num)\n",
        "        \n",
        "        non_squared = curr_non_squared\n",
        "        squared = curr_squared\n",
        "        \n",
        "        max_sum = max(max_sum, squared)\n",
        "    \n",
        "    return max_sum"
      ],
      "execution_count": null,
      "outputs": []
    },
    {
      "cell_type": "markdown",
      "metadata": {
        "id": "IdnEygxwdQuQ"
      },
      "source": [
        "### [Longest Turbulent Subarray](https://leetcode.com/problems/longest-turbulent-subarray/)\n",
        "*Given an integer array arr, return the length of a maximum size turbulent subarray of arr.*"
      ]
    },
    {
      "cell_type": "code",
      "metadata": {
        "id": "k7jr457AdZLa"
      },
      "source": [
        "def maxTurbulenceSize(self, arr: List[int]) -> int:\n",
        "    \"\"\"\n",
        "    dp[i][j]: the length of a maximum size turbulent subarray using arr[i]\n",
        "              when j = 0 arr[i] is smaller, j = 1 arr[i] is greater\n",
        "    \"\"\"\n",
        "    # Solution 1\n",
        "    \n",
        "    n = len(arr)\n",
        "    dp = [[0, 0] for _ in range(n)]\n",
        "    dp[0][0] = dp[0][1] = 1\n",
        "    max_len = 1\n",
        "    for i in range(1, n):\n",
        "        if arr[i-1] > arr[i]:\n",
        "            dp[i][0] = dp[i-1][1] + 1\n",
        "            dp[i][1] = 1\n",
        "            \n",
        "        \n",
        "        elif arr[i-1] < arr[i]:\n",
        "            dp[i][0] = 1\n",
        "            dp[i][1] = dp[i-1][0] + 1\n",
        "            \n",
        "        \n",
        "        else: # arr[i] == arr[i-1]\n",
        "            dp[i][0] = 1\n",
        "            dp[i][1] = 1\n",
        "        \n",
        "        max_len = max(max_len, dp[i][0], dp[i][1])\n",
        "    return max_len\n",
        "\n",
        "\n",
        "    # Space-optimized solution\n",
        "    n = len(arr)\n",
        "    low, high = 1, 1\n",
        "    max_len = 1\n",
        "    \n",
        "    for i in range(1, n):\n",
        "        \n",
        "        if arr[i-1] > arr[i]:\n",
        "            curr_low = high + 1\n",
        "            curr_high = 1\n",
        "        elif arr[i-1] < arr[i]:\n",
        "            curr_low = 1\n",
        "            curr_high = low + 1\n",
        "        else:\n",
        "            curr_low = 1\n",
        "            curr_high = 1\n",
        "        \n",
        "        low = curr_low\n",
        "        high = curr_high\n",
        "        max_len = max(max_len, low, high)\n",
        "\n",
        "    return max_len"
      ],
      "execution_count": null,
      "outputs": []
    },
    {
      "cell_type": "markdown",
      "metadata": {
        "id": "YGrAFbOvP5bG"
      },
      "source": [
        "## House Robber"
      ]
    },
    {
      "cell_type": "markdown",
      "metadata": {
        "id": "gd4_EfrKssMO"
      },
      "source": [
        "### [House Robber](https://leetcode.com/problems/house-robber/)\n",
        "*Given an integer array nums representing the amount of money of each house, return the maximum amount of money you can rob tonight without alerting the police.*"
      ]
    },
    {
      "cell_type": "code",
      "metadata": {
        "id": "1DBJHVghr7F2"
      },
      "source": [
        "def rob(self, nums: List[int]) -> int:\n",
        "    \"\"\"\n",
        "    dp[i][j]: the maximum amount of money you can rob on ith day \n",
        "              when j = 0 no rob or j = 1 rob\n",
        "    \n",
        "    dp[i][0] = max(dp[i-1])\n",
        "    dp[i][1] = dp[i-1][0] + nums[i-1]\n",
        "    \n",
        "    \"\"\"\n",
        "    # Solution 1\n",
        "    n = len(nums)        \n",
        "    dp = [[0, 0] for _ in range(n + 1)]\n",
        "\n",
        "    for i in range(1, n + 1):\n",
        "        dp[i][0] = max(dp[i-1][0], dp[i-1][1])\n",
        "        dp[i][1] = dp[i-1][0] + nums[i-1]\n",
        "    \n",
        "    return max(dp[-1])\n",
        "\n",
        "    # Solution 2\n",
        "    n = len(nums)\n",
        "    dp = [0] * (n + 1)\n",
        "    dp[1] = nums[0]\n",
        "    \n",
        "    for i in range(2, n + 1):\n",
        "        dp[i] = max(dp[i-2] + nums[i-1], dp[i-1])\n",
        "    \n",
        "    return dp[-1]\n",
        "\n",
        "    # Solution 3\n",
        "    n = len(nums)\n",
        "    prev2 = 0\n",
        "    prev1 = nums[0]\n",
        "    \n",
        "    for i in range(2, n + 1):\n",
        "        temp = prev1\n",
        "        prev1 = max(prev2 + nums[i-1], prev1)\n",
        "        prev2 = temp\n",
        "    return prev1"
      ],
      "execution_count": null,
      "outputs": []
    },
    {
      "cell_type": "markdown",
      "metadata": {
        "id": "S7Mnqy2T2c2s"
      },
      "source": [
        "### [House Robber II](https://leetcode.com/problems/house-robber-ii/)\n",
        "*Given an integer array nums representing the amount of money of each house, return the maximum amount of money you can rob tonight without alerting the police when all houses at this place are arranged in a circle.*"
      ]
    },
    {
      "cell_type": "code",
      "metadata": {
        "id": "en1Yv4mm2wXk"
      },
      "source": [
        "def rob(self, nums: List[int]) -> int:\n",
        "    def rob_helper(nums, l, r):\n",
        "        \n",
        "        n = r - l + 1\n",
        "        dp = [0] * (n + 1)\n",
        "        dp[1] = nums[l]\n",
        "        \n",
        "        for i in range(2, n + 1):\n",
        "            dp[i] = max(dp[i-2] + nums[l+i-1], dp[i-1])\n",
        "        \n",
        "        return dp[-1]\n",
        "    \n",
        "    n = len(nums)\n",
        "    if n == 1:\n",
        "        return nums[0]\n",
        "    if n == 2:\n",
        "        return max(nums)\n",
        "    return max(rob_helper(nums, 0, n-2), rob_helper(nums, 1, n-1))"
      ],
      "execution_count": null,
      "outputs": []
    },
    {
      "cell_type": "markdown",
      "metadata": {
        "id": "qIs93PD-J4_A"
      },
      "source": [
        "### [House Robber III](https://leetcode.com/problems/house-robber-iii/)\n",
        "*Given the root of the binary tree, return the maximum amount of money the thief can rob without alerting the police.*"
      ]
    },
    {
      "cell_type": "code",
      "metadata": {
        "id": "52v8KrYMKB21"
      },
      "source": [
        "def rob(self, root: TreeNode) -> int:\n",
        "    \n",
        "    def helper(node):\n",
        "        \n",
        "        if not node:\n",
        "            return [0, 0]\n",
        "        \n",
        "        left = helper(node.left)\n",
        "        right = helper(node.right)\n",
        "        \n",
        "        state0 = max(left) + max(right)\n",
        "        state1 = node.val + left[0] + right[0]\n",
        "        \n",
        "        return [state0, state1]\n",
        "    \n",
        "    return max(helper(root))"
      ],
      "execution_count": null,
      "outputs": []
    },
    {
      "cell_type": "markdown",
      "metadata": {
        "id": "dfVCeXEolH1r"
      },
      "source": [
        "## Best Time to Buy and Sell Stock"
      ]
    },
    {
      "cell_type": "markdown",
      "metadata": {
        "id": "8kUXvfddlMnQ"
      },
      "source": [
        "### [Best Time to Buy and Sell Stock](https://leetcode.com/problems/best-time-to-buy-and-sell-stock/) (k = 1)\n",
        "*Return the maximum profit you can achieve from this transaction.*"
      ]
    },
    {
      "cell_type": "code",
      "metadata": {
        "id": "Mw5W2C8JlL_w"
      },
      "source": [
        "def maxProfit(self, prices: List[int]) -> int:\n",
        "    \"\"\"\n",
        "    dp[i][j]: the maximum profit you can achieve upto ith transaction\n",
        "              when j = 0 sell state or j = 1 buy state\n",
        "    \n",
        "    \"\"\"\n",
        "    # Solution 1\n",
        "    n = len(prices)\n",
        "    dp = [[0, 0] for _ in range(n)]\n",
        "    dp[0][1] = -prices[0]\n",
        "    for i in range(1, n):\n",
        "        price = prices[i]\n",
        "        dp[i][0] = max(dp[i-1][0], price + dp[i-1][1])\n",
        "        dp[i][1] = max(dp[i-1][1], -price)\n",
        "    \n",
        "    return dp[-1][0]\n",
        "\n",
        "    # Space-optimized solution\n",
        "    n = len(prices)\n",
        "    sell = 0\n",
        "    buy = -prices[0]\n",
        "    for i in range(1, n):\n",
        "        price = prices[i]\n",
        "        sell = max(sell, price + buy)\n",
        "        buy = max(buy, -price)\n",
        "    \n",
        "    return sell"
      ],
      "execution_count": null,
      "outputs": []
    },
    {
      "cell_type": "markdown",
      "metadata": {
        "id": "tCag9ktfqZe1"
      },
      "source": [
        "###[Best Time to Buy and Sell Stock with Cooldown](https://leetcode.com/problems/best-time-to-buy-and-sell-stock-with-cooldown/) (k = 1 with cooldown)\n",
        "*Find the maximum profit you can achieve. You may complete as many transactions as you like with the following restrictions:\n",
        "After you sell your stock, you cannot buy stock on the next day (i.e., cooldown one day).*"
      ]
    },
    {
      "cell_type": "code",
      "metadata": {
        "id": "749e_cwHqmZh"
      },
      "source": [
        "def maxProfit(self, prices: List[int]) -> int:\n",
        "    \"\"\"\n",
        "    dp[i][j]: the maximum profit you can achieve upto ith transaction\n",
        "              when j = 0 sell state     <- j = 1\n",
        "                   j = 1 buy state      <- j = 1, 2\n",
        "                   j = 2 cooldown state <- j = 0, 2 \n",
        "    \"\"\"\n",
        "    # Solution 1\n",
        "    n = len(prices)  \n",
        "    dp = [[0, 0, 0] for _ in range(n)]\n",
        "    dp[0][1] = -prices[0]\n",
        "    \n",
        "    for i in range(1, n):\n",
        "        price = prices[i]\n",
        "        dp[i][0] = dp[i-1][1] + price\n",
        "        dp[i][1] = max(dp[i-1][1], dp[i-1][2] - price)\n",
        "        dp[i][2] = max(dp[i-1][2], dp[i-1][0])\n",
        "    \n",
        "    return max(dp[-1][0], dp[-1][2])\n",
        "\n",
        "    \n",
        "    # Space-optimized solution\n",
        "    n = len(prices)\n",
        "    sell = 0\n",
        "    buy = -prices[0]\n",
        "    cooldown = 0\n",
        "    \n",
        "    for i in range(1, n):\n",
        "        price = prices[i]\n",
        "        curr_sell = buy + price\n",
        "        curr_buy = max(buy, cooldown - price)\n",
        "        curr_cooldown = max(cooldown, sell)\n",
        "        \n",
        "        sell = curr_sell\n",
        "        buy = curr_buy\n",
        "        cooldown = curr_cooldown\n",
        "    \n",
        "    return max(sell, cooldown) "
      ],
      "execution_count": null,
      "outputs": []
    },
    {
      "cell_type": "markdown",
      "metadata": {
        "id": "N1RjXOLWoU3H"
      },
      "source": [
        "### [Best Time to Buy and Sell Stock II](https://leetcode.com/problems/best-time-to-buy-and-sell-stock-ii/) (k = inf)\n",
        "*Find the maximum profit you can achieve. You may complete as many transactions as you like (i.e., buy one and sell one share of the stock multiple times).*"
      ]
    },
    {
      "cell_type": "code",
      "metadata": {
        "id": "vkSFG0EboonW"
      },
      "source": [
        "def maxProfit(self, prices: List[int]) -> int:\n",
        "    \"\"\"\n",
        "    dp[i][j]: the maximum profit you can achieve upto ith transaction\n",
        "              when j = 0 sell state, j = 1 buy state        \n",
        "    \"\"\"\n",
        "    # Solution 1\n",
        "    n = len(prices)\n",
        "    dp = [[0, 0] for _ in range(n)]\n",
        "    dp[0][1] = - prices[0]\n",
        "    \n",
        "    for i in range(1, n):\n",
        "        price = prices[i]\n",
        "        dp[i][0] = max(dp[i-1][0], dp[i-1][1] + price)\n",
        "        dp[i][1] = max(dp[i-1][1], dp[i-1][0] - price)\n",
        "    return dp[-1][0]\n",
        "    \n",
        "    # Space-optimized solution\n",
        "    n = len(prices)\n",
        "    sell = 0\n",
        "    buy = -prices[0]\n",
        "    for i in range(1, n):\n",
        "        price = prices[i]\n",
        "        curr_sell = max(sell, buy + price)\n",
        "        curr_buy = max(buy, sell - price)\n",
        "        \n",
        "        sell = curr_sell\n",
        "        buy = curr_buy\n",
        "    \n",
        "    return sell\n",
        "    \n",
        "    # Intuitive solution\n",
        "    n = len(prices)\n",
        "    res = 0\n",
        "    for i in range(1, n):\n",
        "        diff = prices[i] - prices[i-1]\n",
        "        if diff > 0:\n",
        "            res += diff\n",
        "    return res"
      ],
      "execution_count": null,
      "outputs": []
    },
    {
      "cell_type": "markdown",
      "metadata": {
        "id": "408tcJCLrm5h"
      },
      "source": [
        "###[Best Time to Buy and Sell Stock with Transaction Fee](https://leetcode.com/problems/best-time-to-buy-and-sell-stock-with-transaction-fee/) (k = inf with transaction fee)\n",
        "*Find the maximum profit you can achieve. You may complete as many transactions as you like, but you need to pay the transaction fee for each transaction.*"
      ]
    },
    {
      "cell_type": "code",
      "metadata": {
        "id": "RUpvJLZFr0At"
      },
      "source": [
        "def maxProfit(self, prices: List[int], fee: int) -> int:\n",
        "    \"\"\"\n",
        "    dp[i][j]: the maximum profit you can achieve upto ith transaction\n",
        "              when j = 0 sell state(+ transaction) or j = 1 buy state \n",
        "    \"\"\"\n",
        "    # Solution 1\n",
        "    n = len(prices)\n",
        "    dp = [[0, 0] for i in range(n)]\n",
        "    dp[0][1] = -prices[0]\n",
        "    \n",
        "    for i in range(1, n):\n",
        "        price = prices[i]\n",
        "        dp[i][0] = max(dp[i-1][0], dp[i-1][1] + price - fee)\n",
        "        dp[i][1] = max(dp[i-1][1], dp[i-1][0] - price)\n",
        "    return dp[-1][0]\n",
        "\n",
        "    # Space-optimized solution\n",
        "    n = len(prices)\n",
        "    sell = 0\n",
        "    buy = -prices[0]\n",
        "    \n",
        "    for i in range(1, n):\n",
        "        price = prices[i]\n",
        "        curr_sell = max(sell, buy + price - fee)\n",
        "        curr_buy = max(buy, sell - price)\n",
        "        \n",
        "        sell = curr_sell\n",
        "        buy = curr_buy\n",
        "    return sell"
      ],
      "execution_count": null,
      "outputs": []
    },
    {
      "cell_type": "markdown",
      "metadata": {
        "id": "_9UxC8KGqNh2"
      },
      "source": [
        "### [Best Time to Buy and Sell Stock IV](https://leetcode.com/problems/best-time-to-buy-and-sell-stock-iv/) (arbitrary k)\n",
        "*Find the maximum profit you can achieve. You may complete at most k transactions.*"
      ]
    },
    {
      "cell_type": "code",
      "metadata": {
        "id": "pBWbJszoqUvF"
      },
      "source": [
        "def maxProfit(self, k: int, prices: List[int]) -> int:\n",
        "    \"\"\"\n",
        "    dp[i][k][j]: the maximum profit you can achieve at kth transaction\n",
        "                 when j = 0 sell state j = 1 buy state\n",
        "                                   /*from the same transaction*/\n",
        "    dp[i][k][0] = max(dp[i-1][k][0], dp[i-1][k][1] + price)\n",
        "                                   /*from the previous transaction*/\n",
        "    dp[i][k][1] = max(dp[i-1][k][1], dp[i-1][k-1][0] - price)\n",
        "    \"\"\"        \n",
        "    n = len(prices)\n",
        "    \n",
        "    # edge case\n",
        "    if not prices or n == 1 or k == 0: \n",
        "        return 0\n",
        "    \n",
        "    if n < 2 * k:\n",
        "        res = 0\n",
        "        for i in range(1, n):\n",
        "            diff = prices[i] - prices[i-1]\n",
        "            if diff > 0:\n",
        "                res += diff\n",
        "        return res\n",
        "    \n",
        "    # Solution 1\n",
        "    dp = [[[0, 0] for _ in range(k + 1)] for _ in range(n)]\n",
        "    \n",
        "    for j in range(1, k + 1):\n",
        "        dp[0][j][1] = -prices[0]\n",
        "    \n",
        "    for i in range(1, n):\n",
        "        price = prices[i]\n",
        "        for j in range(1, k + 1):\n",
        "            dp[i][j][0] = max(dp[i-1][j][0], dp[i-1][j][1] + price)\n",
        "            dp[i][j][1] = max(dp[i-1][j][1], dp[i-1][j-1][0] - price)\n",
        "    return dp[-1][-1][0]\n",
        "    \n",
        "    # Space-optimized solution \n",
        "    n = len(prices)\n",
        "    sell = [0] * (k + 1)\n",
        "    buy = [0] * (k + 1)\n",
        "    for i in range(1, k + 1):\n",
        "        buy[i] = -prices[0]\n",
        "    \n",
        "    for i in range(1, n):\n",
        "        price = prices[i]\n",
        "        for j in range(1, k + 1):\n",
        "            sell[j] = max(sell[j], buy[j] + price) \n",
        "            buy[j] = max(buy[j], sell[j-1] - price)\n",
        "            \n",
        "    return sell[-1]"
      ],
      "execution_count": null,
      "outputs": []
    },
    {
      "cell_type": "markdown",
      "metadata": {
        "id": "LabcF02Np6hf"
      },
      "source": [
        "### [Best Time to Buy and Sell Stock III](https://leetcode.com/problems/best-time-to-buy-and-sell-stock-iii/) (k = 2)\n",
        "*Find the maximum profit you can achieve. You may complete at most two transactions.*"
      ]
    },
    {
      "cell_type": "code",
      "metadata": {
        "id": "1eCy9-auqGvp"
      },
      "source": [
        "def maxProfit(self, prices: List[int]) -> int:\n",
        "    \"\"\"\n",
        "    dp[i][k][j]: the maximum profit you can achieve at kth transaction \n",
        "                    when j = 0 sell state and j = 1 buy state\n",
        "    \n",
        "    \"\"\"\n",
        "    # Solution 1\n",
        "    k = 2\n",
        "    n = len(prices)\n",
        "    dp = [[[0, 0] for _ in range(k + 1)] for _ in range(n)]\n",
        "    \n",
        "    for i in range(1, k + 1):\n",
        "        dp[0][i][1] = -prices[0]\n",
        "    \n",
        "    for i in range(1, n):\n",
        "        price = prices[i]\n",
        "        for j in range(1, k + 1):\n",
        "            dp[i][j][0] = max(dp[i-1][j][0], dp[i-1][j][1] + price)\n",
        "            dp[i][j][1] = max(dp[i-1][j][1], dp[i-1][j-1][0] - price)\n",
        "    \n",
        "    return dp[-1][-1][0]\n",
        "\n",
        "    # Space-optimized solution\n",
        "    k = 2\n",
        "    n = len(prices)\n",
        "    sell = [0] * (k + 1)\n",
        "    buy = [0] * (k + 1)\n",
        "    for i in range(1, k+1):\n",
        "        buy[i] = -prices[0]\n",
        "    \n",
        "    for i in range(1, n):\n",
        "        price = prices[i]\n",
        "        for j in range(1, k + 1):\n",
        "            sell[j] = max(sell[j], buy[j] + price)\n",
        "            buy[j] = max(buy[j], sell[j-1] - price)\n",
        "            \n",
        "    return sell[-1]"
      ],
      "execution_count": null,
      "outputs": []
    }
  ]
}
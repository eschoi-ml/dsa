{
  "nbformat": 4,
  "nbformat_minor": 0,
  "metadata": {
    "colab": {
      "name": "bst.ipynb",
      "provenance": [],
      "authorship_tag": "ABX9TyOQ50+gVfZbmrpV9DbCf+hj",
      "include_colab_link": true
    },
    "kernelspec": {
      "name": "python3",
      "display_name": "Python 3"
    },
    "language_info": {
      "name": "python"
    }
  },
  "cells": [
    {
      "cell_type": "markdown",
      "metadata": {
        "id": "view-in-github",
        "colab_type": "text"
      },
      "source": [
        "<a href=\"https://colab.research.google.com/github/eschoi-ml/dsa/blob/main/bst.ipynb\" target=\"_parent\"><img src=\"https://colab.research.google.com/assets/colab-badge.svg\" alt=\"Open In Colab\"/></a>"
      ]
    },
    {
      "cell_type": "markdown",
      "metadata": {
        "id": "pfcE3lw2K59v"
      },
      "source": [
        "# Binary Search Tree\n",
        "\n",
        "- Inorder traversal of BST is an array sorted in the ascending order.\n",
        "- Successor = \"after node\", i.e. the next node, or the smallest node after the current one.\n",
        "- Predecessor = \"before node\", i.e. the previous node, or the largest node before the current one. [[1]](https://leetcode.com/problems/delete-node-in-a-bst/solution/)"
      ]
    },
    {
      "cell_type": "markdown",
      "metadata": {
        "id": "ZM9w1iIsLgUY"
      },
      "source": [
        "## [Search in a Binary Search Tree](https://leetcode.com/problems/search-in-a-binary-search-tree/)"
      ]
    },
    {
      "cell_type": "code",
      "metadata": {
        "id": "B27HKoKZK2tv"
      },
      "source": [
        "def searchBST(self, root: TreeNode, val: int) -> TreeNode:\n",
        "    \n",
        "    if not root:\n",
        "        return None\n",
        "    \n",
        "    if root.val == val:\n",
        "        return root\n",
        "    \n",
        "    if root.val > val:\n",
        "        return self.searchBST(root.left, val)\n",
        "    \n",
        "    return self.searchBST(root.right, val)"
      ],
      "execution_count": null,
      "outputs": []
    },
    {
      "cell_type": "markdown",
      "metadata": {
        "id": "zGao0-8GLqb7"
      },
      "source": [
        "## [Insert into a Binary Search Tree](https://leetcode.com/problems/insert-into-a-binary-search-tree/)"
      ]
    },
    {
      "cell_type": "code",
      "metadata": {
        "id": "sSb-5VzELxRo"
      },
      "source": [
        "def insertIntoBST(self, root: TreeNode, val: int) -> TreeNode:\n",
        "    \n",
        "    if not root:\n",
        "        return TreeNode(val)\n",
        "\n",
        "    if root.val < val:\n",
        "        root.right = self.insertIntoBST(root.right, val)\n",
        "\n",
        "    elif root.val > val:\n",
        "        root.left = self.insertIntoBST(root.left, val)\n",
        "        \n",
        "    return root"
      ],
      "execution_count": null,
      "outputs": []
    },
    {
      "cell_type": "markdown",
      "metadata": {
        "id": "BMqur18GL9gk"
      },
      "source": [
        "## [Delete Node in a BST](https://leetcode.com/problems/delete-node-in-a-bst/)"
      ]
    },
    {
      "cell_type": "code",
      "metadata": {
        "id": "X2hOr4keMEdH"
      },
      "source": [
        "def deleteNode(self, root: TreeNode, key: int) -> TreeNode:\n",
        "    \n",
        "    if not root:\n",
        "        return None\n",
        "    \n",
        "    if root.val > key:\n",
        "        root.left = self.deleteNode(root.left, key)\n",
        "    \n",
        "    elif root.val < key:\n",
        "        root.right = self.deleteNode(root.right, key)\n",
        "        \n",
        "    else: # root.val == key\n",
        "        if not root.left and not root.right:\n",
        "            root = None\n",
        "        elif root.left and not root.right:\n",
        "            root = root.left\n",
        "        elif not root.left and root.right:\n",
        "            root = root.right\n",
        "        else:\n",
        "            # Find a successor\n",
        "            node = root.right\n",
        "            while node.left:\n",
        "                node = node.left\n",
        "            root.val = node.val\n",
        "            root.right = self.deleteNode(root.right, root.val)\n",
        "    return root"
      ],
      "execution_count": null,
      "outputs": []
    },
    {
      "cell_type": "markdown",
      "metadata": {
        "id": "QLsyU1jTMHjV"
      },
      "source": [
        "## [Merge Two Binary Trees](https://leetcode.com/problems/merge-two-binary-trees/)"
      ]
    },
    {
      "cell_type": "code",
      "metadata": {
        "id": "qRBNkEk0MPBi"
      },
      "source": [
        "def mergeTrees(self, root1: TreeNode, root2: TreeNode) -> TreeNode:\n",
        "\n",
        "    if not root1 and not root2:\n",
        "        return None\n",
        "    \n",
        "    if not root1 or not root2:\n",
        "        return root1 or root2\n",
        "    \n",
        "    root1.val += root2.val\n",
        "    root1.left = self.mergeTrees(root1.left, root2.left)\n",
        "    root1.right = self.mergeTrees(root1.right, root2.right)\n",
        "    \n",
        "    return root1 "
      ],
      "execution_count": null,
      "outputs": []
    },
    {
      "cell_type": "markdown",
      "metadata": {
        "id": "i_mWYQwqMQtp"
      },
      "source": [
        "## [Split BST](https://leetcode.com/problems/split-bst/)"
      ]
    },
    {
      "cell_type": "code",
      "metadata": {
        "id": "Bdea2U-QMW9i"
      },
      "source": [
        "def splitBST(self, root: TreeNode, target: int) -> List[TreeNode]:\n",
        "    \n",
        "    if not root:\n",
        "        return None, None\n",
        "    \n",
        "    if root.val <= target:\n",
        "        sub = self.splitBST(root.right, target)\n",
        "        root.right = sub[0]\n",
        "        return root, sub[1]\n",
        "    else: # root.val > target\n",
        "        sub = self.splitBST(root.left, target)\n",
        "        root.left = sub[1]\n",
        "        return sub[0], root"
      ],
      "execution_count": null,
      "outputs": []
    }
  ]
}
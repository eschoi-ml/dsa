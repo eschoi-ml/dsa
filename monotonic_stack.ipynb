{
  "nbformat": 4,
  "nbformat_minor": 0,
  "metadata": {
    "colab": {
      "name": "monotonic_stack.ipynb",
      "provenance": [],
      "toc_visible": true,
      "authorship_tag": "ABX9TyNF70isQWvJV68MqeTB7aOy",
      "include_colab_link": true
    },
    "kernelspec": {
      "name": "python3",
      "display_name": "Python 3"
    },
    "language_info": {
      "name": "python"
    }
  },
  "cells": [
    {
      "cell_type": "markdown",
      "metadata": {
        "id": "view-in-github",
        "colab_type": "text"
      },
      "source": [
        "<a href=\"https://colab.research.google.com/github/eschoi-ml/dsa/blob/main/monotonic_stack.ipynb\" target=\"_parent\"><img src=\"https://colab.research.google.com/assets/colab-badge.svg\" alt=\"Open In Colab\"/></a>"
      ]
    },
    {
      "cell_type": "markdown",
      "metadata": {
        "id": "poPaHPIV5Bbb"
      },
      "source": [
        "# Monotonic Stack\n",
        "- Monotonic **increasing** vs. **decreasing** stack\n",
        "- Save **value** vs. **index**\n",
        "\n",
        "\n",
        "Problem list: \n",
        "- [Minimum Cost Tree From Leaf Values](https://leetcode.com/problems/minimum-cost-tree-from-leaf-values/)\n",
        "- [Next Greater Element I](https://leetcode.com/problems/next-greater-element-i/)\n",
        "- [Next Greater Element II](https://leetcode.com/problems/next-greater-element-ii/)\n"
      ]
    },
    {
      "cell_type": "markdown",
      "metadata": {
        "id": "-mbmEAOq8For"
      },
      "source": [
        "## [Minimum Cost Tree From Leaf Values](https://leetcode.com/problems/minimum-cost-tree-from-leaf-values/)"
      ]
    },
    {
      "cell_type": "code",
      "metadata": {
        "id": "uHLAXCvD8Ls_"
      },
      "source": [
        "def mctFromLeafValues(self, arr: List[int]) -> int:\n",
        "    \"\"\"\n",
        "    dp[i][j]: the minimum sum of non-leaf nodes from arr[i] to arr[j] \n",
        "    \n",
        "    for k in range(i, j+1):\n",
        "        dp[i][j] = min(dp[i][k] + max(arr[i:k+1]) * max(arr[k+1:j+1]) + dp[k+1][j])\n",
        "    \n",
        "    l = 1, ..., n-1\n",
        "    i = 0, ..., n-l-1\n",
        "    j = i + l = l, ..., n-1\n",
        "    k: left(i~k) and right(k+1~j) subtrees dividor, k = i, ..., j-1 \n",
        "    \n",
        "    \n",
        "        6   2   4\n",
        "    i\\j 0   1   2 \n",
        "    6 0 0      ans\n",
        "    2 1 -   0   \n",
        "    4 2 -   -   0\n",
        "    \n",
        "    \"\"\"\n",
        "    # Solution1. dynamic programming\n",
        "    # O(n^4) & O(n^2)\n",
        "    \n",
        "    n = len(arr)\n",
        "    dp = [[float('inf')] * n for _ in range(n)]\n",
        "    for i in range(n):\n",
        "        dp[i][i] = 0\n",
        "        \n",
        "    for l in range(1, n): # O(n)\n",
        "        for i in range(n - l): # *O(n)\n",
        "            j = i + l \n",
        "            for k in range(i, j):\n",
        "                rootVal = max(arr[i:k+1]) * max(arr[k+1:j+1])   # *O(n*n)\n",
        "                dp[i][j] = min(dp[i][j], dp[i][k] + rootVal + dp[k+1][j])\n",
        "\n",
        "    return dp[0][-1]\n",
        "    \n",
        "    \"\"\"\n",
        "    arr = [6, 2, 4]\n",
        "    min = 2: 2*4 = 8\n",
        "    arr = [6, 4]\n",
        "    min = 4: 6*4 = 24\n",
        "    arr = [6]\n",
        "        24 \n",
        "        (6) 8\n",
        "        (2) (4)\n",
        "    \"\"\"\n",
        "    # Solution 2. greedy algorithm \n",
        "    # O(n^2), O(1)\n",
        "    res = 0\n",
        "    while len(arr) > 1: # O(n)\n",
        "        idx = arr.index(min(arr)) # O(n)\n",
        "        if idx == 0:\n",
        "            res += arr[idx] * arr[idx + 1]            \n",
        "        elif idx == len(arr) - 1:\n",
        "            res += arr[idx-1] * arr[idx]\n",
        "        else:\n",
        "            res += arr[idx] * min(arr[idx-1], arr[idx + 1])\n",
        "        \n",
        "        arr.pop(idx)\n",
        "        \n",
        "    return res\n",
        "\n",
        "    \"\"\"\n",
        "    arr = [6, 2, 4]\n",
        "    num = 6\n",
        "    stack = [inf, 6]\n",
        "    num = 2\n",
        "    stack = [inf, 6, 2]\n",
        "    num = 4\n",
        "        stack = [inf, 6]\n",
        "        curr = 2\n",
        "        res += 2 * min(4, 6) += 8\n",
        "    stack = [inf, 6, 4]    \n",
        "    \n",
        "    res += 4 * 6 += 24\n",
        "    \n",
        "    \"\"\"\n",
        "    # Solution3. monotonic decresing stack\n",
        "    # O(n), O(1)\n",
        "    stack = []\n",
        "    res = 0\n",
        "    for num in arr:\n",
        "        while stack and stack[-1] <= num:\n",
        "            curr = stack.pop()\n",
        "            if stack:\n",
        "                res += curr * min(stack[-1], num)\n",
        "            else:\n",
        "                res += curr * num\n",
        "        stack.append(num)\n",
        "        \n",
        "    while len(stack) >= 2:\n",
        "        res += stack.pop() * stack[-1]\n",
        "    \n",
        "    return res"
      ],
      "execution_count": null,
      "outputs": []
    },
    {
      "cell_type": "markdown",
      "metadata": {
        "id": "v3SfTxF75yRU"
      },
      "source": [
        "## [Next Greater Element I](https://leetcode.com/problems/next-greater-element-i/)"
      ]
    },
    {
      "cell_type": "code",
      "metadata": {
        "id": "3jmKj8d34-iq"
      },
      "source": [
        "def nextGreaterElement(self, nums1: List[int], nums2: List[int]) -> List[int]:\n",
        "    \n",
        "    # Solution1. Brute force\n",
        "    # O(m * n) & O(m)\n",
        "    \n",
        "    h = {}\n",
        "    for num in nums1:\n",
        "        h[num] = -1\n",
        "        \n",
        "    m = len(nums2)\n",
        "    for i, num in enumerate(nums2):\n",
        "        if num in h:\n",
        "            j = i+1\n",
        "            while j < m and num >= nums2[j]:\n",
        "                j += 1\n",
        "            if j < m:\n",
        "                h[num] = nums2[j]\n",
        "    \n",
        "    return h.values()\n",
        "    \n",
        "    \"\"\"\n",
        "    h = {4:-1, 1:3, 2:-1}\n",
        "    nums2 = [1, 3, 4, 2]\n",
        "    num = 1\n",
        "    stack = [1]\n",
        "    num = 3\n",
        "    stack = [3]\n",
        "    num = 4\n",
        "    stack = [4]\n",
        "    num = 2\n",
        "    stack = [4, 2]\n",
        "    \n",
        "    \"\"\"\n",
        "    # Solution2. monotonic decreasing stack\n",
        "    # O(m + n) & O(m + n)\n",
        "    \n",
        "    h = {}\n",
        "    for num in nums1:\n",
        "        h[num] = -1\n",
        "    \n",
        "    stack = []\n",
        "    for num in nums2:\n",
        "        while stack and stack[-1] < num:\n",
        "            curr = stack.pop()\n",
        "            if curr in h:\n",
        "                h[curr] = num\n",
        "        stack.append(num)\n",
        "\n",
        "    return h.values()"
      ],
      "execution_count": null,
      "outputs": []
    },
    {
      "cell_type": "markdown",
      "metadata": {
        "id": "FOFUdvcI52U2"
      },
      "source": [
        "## [Next Greater Element II](https://leetcode.com/problems/next-greater-element-ii/)"
      ]
    },
    {
      "cell_type": "code",
      "metadata": {
        "id": "PN9UM03s55cW"
      },
      "source": [
        "def nextGreaterElements(self, nums: List[int]) -> List[int]:\n",
        "    \"\"\"\n",
        "            0  1. 2.  3. 4\n",
        "    nums = [4, 5, 10, 3, 10]\n",
        "                0  1.  2. 3. 4\n",
        "                3. 4.  0. 1. 2\n",
        "    nums2 = [3, 10, 4, 5, 10]\n",
        "    res =   [-1,-1,-1,-1,-1]\n",
        "\n",
        "    \"\"\"\n",
        "    # O(n) & O(n)\n",
        "\n",
        "    maxIdx = nums.index(max(nums))\n",
        "    n = len(nums)\n",
        "    res = [-1] * n\n",
        "    stack = []\n",
        "\n",
        "    for i in range(n):\n",
        "        \n",
        "        idx = (maxIdx + 1 + i) % n\n",
        "        num = nums[idx]\n",
        "        \n",
        "        while stack and nums[stack[-1]] < num:\n",
        "            curr = stack.pop()\n",
        "            res[curr] = num\n",
        "        stack.append(idx)\n",
        "\n",
        "    return res   "
      ],
      "execution_count": null,
      "outputs": []
    }
  ]
}
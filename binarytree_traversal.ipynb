{
  "nbformat": 4,
  "nbformat_minor": 0,
  "metadata": {
    "colab": {
      "name": "binarytree-traversal.ipynb",
      "provenance": [],
      "toc_visible": true,
      "authorship_tag": "ABX9TyMcLwiql0V6sJSWOA2nGS0z",
      "include_colab_link": true
    },
    "kernelspec": {
      "name": "python3",
      "display_name": "Python 3"
    },
    "language_info": {
      "name": "python"
    }
  },
  "cells": [
    {
      "cell_type": "markdown",
      "metadata": {
        "id": "view-in-github",
        "colab_type": "text"
      },
      "source": [
        "<a href=\"https://colab.research.google.com/github/eschoi-ml/dsa/blob/main/binarytree_traversal.ipynb\" target=\"_parent\"><img src=\"https://colab.research.google.com/assets/colab-badge.svg\" alt=\"Open In Colab\"/></a>"
      ]
    },
    {
      "cell_type": "markdown",
      "metadata": {
        "id": "sH05lCG4QWBk"
      },
      "source": [
        "# Binary Tree Traversal\n",
        "- dfs: Use a stack\n",
        "    - pre-order: root - left - right\n",
        "    - in-order: left - root - right\n",
        "    - post-order: left - right - root\n",
        "- bfs: Use a queue(deque)\n",
        "    - level-order"
      ]
    },
    {
      "cell_type": "markdown",
      "metadata": {
        "id": "g3dUQ1f3RnRU"
      },
      "source": [
        "## Pre-order tree traversal"
      ]
    },
    {
      "cell_type": "code",
      "metadata": {
        "id": "NgNTz5cpQQmE"
      },
      "source": [
        "def preorder_recursive(node):\n",
        "    if not node:\n",
        "        return\n",
        "    res.append(node.val)\n",
        "    preorder_recursive(node.left)\n",
        "    preorder_recursive(node.right)\n",
        "\n",
        "def preorder_iterative(root):\n",
        "\n",
        "    if not root:\n",
        "        return []\n",
        "\n",
        "    stack = [root]\n",
        "    res = []\n",
        "    \n",
        "    while stack:\n",
        "        node = stack.pop()\n",
        "        res.append(node.val)\n",
        "\n",
        "        if node.right:\n",
        "            res.append(node.right)\n",
        "        if node.left:\n",
        "            res.append(node.left)\n",
        "    return res"
      ],
      "execution_count": 1,
      "outputs": []
    },
    {
      "cell_type": "markdown",
      "metadata": {
        "id": "JZFxfI8BRtW8"
      },
      "source": [
        "## In-order tree traversal"
      ]
    },
    {
      "cell_type": "code",
      "metadata": {
        "id": "0LRZTlstRidw"
      },
      "source": [
        "def inorder_recursive(node):\n",
        "    if not node:\n",
        "        return \n",
        "\n",
        "    inorder_recursive(node.left)\n",
        "    res.append(node.val)\n",
        "    inorder_recursive(node.right)\n",
        "\n",
        "def inorder_iterative(root):\n",
        "\n",
        "    if not root:\n",
        "        return None\n",
        "    \n",
        "    stack = []\n",
        "    res = []\n",
        "\n",
        "    node = root\n",
        "    while node or stack:\n",
        "        while node:\n",
        "            stack.append(node)\n",
        "            node = node.left\n",
        "        \n",
        "        node = stack.pop()\n",
        "        res.append(node.val)\n",
        "\n",
        "        node = node.right\n",
        "    return res"
      ],
      "execution_count": null,
      "outputs": []
    },
    {
      "cell_type": "markdown",
      "metadata": {
        "id": "nX8cndh4Spi_"
      },
      "source": [
        "## Post-order tree traversal"
      ]
    },
    {
      "cell_type": "code",
      "metadata": {
        "id": "mNYVyQq9StGW"
      },
      "source": [
        "def postorder_recursive(node):\n",
        "\n",
        "    if not node:\n",
        "        return \n",
        "\n",
        "    postorder_recursive(node.left)\n",
        "    postorder_recursive(node.right)\n",
        "    res.append(node.val)\n",
        "\n",
        "def postorder_iterative(root):\n",
        "\n",
        "    if not root:\n",
        "        return None\n",
        "    \n",
        "    stack = []\n",
        "    res = []\n",
        "\n",
        "    node = root\n",
        "    while True:\n",
        "        while node:\n",
        "            if node.right:\n",
        "                stack.append(node.right)\n",
        "            stack.append(node)\n",
        "            node = node.left\n",
        "\n",
        "        node = stack.pop()\n",
        "        if node.right and stack and stack[-1] == node.right:\n",
        "            stack.pop()\n",
        "            stack.append(node)\n",
        "            node = node.right\n",
        "        else:\n",
        "            res.append(node.val)\n",
        "            node = None\n",
        "        if not stack:\n",
        "            break\n",
        "    \n",
        "    return res"
      ],
      "execution_count": null,
      "outputs": []
    },
    {
      "cell_type": "markdown",
      "metadata": {
        "id": "EzhmSbqpTkaY"
      },
      "source": [
        "## Level-order tree traversal"
      ]
    },
    {
      "cell_type": "code",
      "metadata": {
        "id": "NqP_q_0YTugW"
      },
      "source": [
        "def levelorder_iterative1(root):\n",
        "\n",
        "    if not root:\n",
        "        return None\n",
        "\n",
        "    queue = collections.deque([(root, 0)])\n",
        "    res = []\n",
        "\n",
        "    while queue:\n",
        "        node, depth = queue.popleft()\n",
        "        if len(res) == depth:\n",
        "            res.append([node.val])\n",
        "        else:\n",
        "            res[depth].append(node.val)\n",
        "\n",
        "        if node.left:\n",
        "            queue.append((node.left, depth + 1))\n",
        "        if node.right:\n",
        "            queue.append((node.right, depth + 1))\n",
        "    return res\n",
        "\n",
        "def levelorder_iterative2(root):\n",
        "\n",
        "    if not root:\n",
        "        return None\n",
        "    \n",
        "    queue = collections.deque([root])\n",
        "    res = []\n",
        "    depth = -1\n",
        "    \n",
        "    while queue:\n",
        "\n",
        "        depth += 1\n",
        "        size = len(queue)\n",
        "        temp_res = []\n",
        "        \n",
        "        for i in range(size):\n",
        "            node = queue.popleft()\n",
        "            temp_res.append(node.val)\n",
        "            if node.left:\n",
        "                queue.append(node.left)\n",
        "            if node.right:\n",
        "                queue.append(node.right)\n",
        "        res.append(temp_res)\n",
        "    return res"
      ],
      "execution_count": null,
      "outputs": []
    }
  ]
}
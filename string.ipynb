{
  "nbformat": 4,
  "nbformat_minor": 0,
  "metadata": {
    "colab": {
      "name": "string.ipynb",
      "provenance": [],
      "toc_visible": true,
      "authorship_tag": "ABX9TyPfn5M99GfaSorn1aBAUotY",
      "include_colab_link": true
    },
    "kernelspec": {
      "name": "python3",
      "display_name": "Python 3"
    },
    "language_info": {
      "name": "python"
    }
  },
  "cells": [
    {
      "cell_type": "markdown",
      "metadata": {
        "id": "view-in-github",
        "colab_type": "text"
      },
      "source": [
        "<a href=\"https://colab.research.google.com/github/eschoi-ml/dsa/blob/main/string.ipynb\" target=\"_parent\"><img src=\"https://colab.research.google.com/assets/colab-badge.svg\" alt=\"Open In Colab\"/></a>"
      ]
    },
    {
      "cell_type": "markdown",
      "metadata": {
        "id": "7WM6CGh6vCpS"
      },
      "source": [
        "# String\n",
        "\n",
        "- [Justification]()\n",
        "- [Integer conversion]()\n",
        "- [Parentheses]()\n",
        "   \n",
        "    \n",
        "    "
      ]
    },
    {
      "cell_type": "markdown",
      "metadata": {
        "id": "x_n2wcF4I6ME"
      },
      "source": [
        "# Justification\n",
        "- [Text Justification](https://leetcode.com/problems/text-justification/)\n",
        "- [Rearrange Spaces Between Words](https://leetcode.com/problems/rearrange-spaces-between-words/)"
      ]
    },
    {
      "cell_type": "markdown",
      "metadata": {
        "id": "A_h_wz69vhAd"
      },
      "source": [
        "## [Text Justification](https://leetcode.com/problems/text-justification/)\n",
        "*Given an array of strings words and a width maxWidth, format the text such that each line has exactly maxWidth characters and is fully (left and right) justified.*"
      ]
    },
    {
      "cell_type": "code",
      "metadata": {
        "id": "2u-Y2OD2uq8K"
      },
      "source": [
        "class Solution:\n",
        "    def fullJustify(self, words, maxWidth):\n",
        "        \"\"\"\n",
        "        full jutify\n",
        "        - when not even, more on left\n",
        "        \n",
        "        left justify\n",
        "        - one word\n",
        "        - last line\n",
        "        \n",
        "        \n",
        "        \"\"\"\n",
        "\n",
        "        # O(n), \n",
        "        n = len(words)\n",
        "        res = []\n",
        "        \n",
        "        i = 0\n",
        "        while i < n:\n",
        "            \n",
        "            j = i           # index\n",
        "            wordlen = 0     # words length without space in between\n",
        "            while j < n and wordlen + len(words[j]) + j - i <= maxWidth:\n",
        "                wordlen += len(words[j])\n",
        "                j += 1\n",
        "            \n",
        "            # left justify\n",
        "            if j == i+1 or j == n:\n",
        "                res.append(\" \".join(words[i:j]) + \" \" * (maxWidth - wordlen - (j-1-i)))\n",
        " \n",
        "            # full justify\n",
        "            else:\n",
        "                space = \" \" * ((maxWidth - wordlen) // (j - i - 1))\n",
        "                tail = (maxWidth - wordlen) % (j - i - 1)            \n",
        "\n",
        "                curr_res = \"\"\n",
        "                while i < j-1:\n",
        "                    curr_res += words[i] + space\n",
        "                    if tail > 0:\n",
        "                        curr_res += \" \"\n",
        "                        tail -= 1\n",
        "                    i += 1\n",
        "                curr_res += words[i]\n",
        "                res.append(curr_res)\n",
        "            \n",
        "            i = j\n",
        "        \n",
        "        return res"
      ],
      "execution_count": null,
      "outputs": []
    },
    {
      "cell_type": "markdown",
      "metadata": {
        "id": "01dV_xLLwr9-"
      },
      "source": [
        "## [Rearrange Spaces Between Words](https://leetcode.com/problems/rearrange-spaces-between-words/)\n",
        "*Return the string after rearranging the spaces.*"
      ]
    },
    {
      "cell_type": "code",
      "metadata": {
        "id": "jFh55m2Cwv5G"
      },
      "source": [
        "class Solution:\n",
        "    def reorderSpaces(self, text):\n",
        "        \n",
        "        n = len(text)\n",
        "        word = text.split()\n",
        "        nword = len(word)\n",
        "        nspace = text.count(\" \")\n",
        "        \n",
        "        space = 0 if nword == 1 else nspace // (nword-1)\n",
        "        tailspace = nspace - space * (nword-1) \n",
        "        return (\" \" * space).join(word) + \" \"*tailspace"
      ],
      "execution_count": null,
      "outputs": []
    },
    {
      "cell_type": "markdown",
      "metadata": {
        "id": "H24quma7TJlY"
      },
      "source": [
        "# Integer conversion\n",
        "- [Integer to English Words](https://leetcode.com/problems/integer-to-english-words/)\n",
        "- [Integer to Roman](https://leetcode.com/problems/integer-to-roman/)"
      ]
    },
    {
      "cell_type": "markdown",
      "metadata": {
        "id": "e5nUfviRw0Wm"
      },
      "source": [
        "## [Integer to English Words](https://leetcode.com/problems/integer-to-english-words/)\n",
        "*Convert a non-negative integer num to its English words representation.*"
      ]
    },
    {
      "cell_type": "code",
      "metadata": {
        "id": "3u6JSLTHnvNn"
      },
      "source": [
        "class Solution:\n",
        "    def numberToWords(self, num):\n",
        "        \"\"\"\n",
        "        10^0\n",
        "        10^3: Thousand\n",
        "        10^6: Million\n",
        "        10^9: Billion\n",
        "        \n",
        "        \"\"\"\n",
        "        def helper(num):\n",
        "            \n",
        "            num2word = {1:'One', 2:'Two', 3:'Three', 4:'Four', 5:'Five', 6:'Six', 7:'Seven', 8:'Eight', 9:'Nine'}\n",
        "            num2word10 = {10:'Ten', 11:'Eleven', 12:'Twelve', 13:'Thirteen', 14:'Fourteen', 15:'Fifteen', 16:'Sixteen', 17:'Seventeen', 18:'Eighteen', 19:'Nineteen', 2:'Twenty', 3:'Thirty', 4:'Forty', 5:'Fifty', 6:'Sixty', 7:'Seventy', 8:'Eighty', 9:'Ninety'}\n",
        "            \n",
        "            word = []\n",
        "            i = 2\n",
        "            while num > 0:\n",
        "                q = num // 10**i\n",
        "                if q > 0:\n",
        "                    if i == 2:\n",
        "                            word.extend([num2word[q], 'Hundred'])\n",
        "                    elif i == 1:\n",
        "                        if q == 1:\n",
        "                            word.append(num2word10[num])\n",
        "                            return word\n",
        "                        else:\n",
        "                            word.append(num2word10[q])\n",
        "                    else:\n",
        "                        word.append(num2word[q])\n",
        "                \n",
        "                num %= 10**i\n",
        "                i -= 1\n",
        "            \n",
        "            return word\n",
        "        \n",
        "        if num == 0:\n",
        "            return 'Zero'\n",
        "                        \n",
        "        h = {9:'Billion', 6:'Million', 3:'Thousand'}\n",
        "        res = []\n",
        "        i = 9\n",
        "        while num > 0:\n",
        "            q, num = divmod(num, 10**i)\n",
        "            if q > 0:\n",
        "                res.extend(helper(q))\n",
        "                if i > 0:\n",
        "                    res.append(h[i])\n",
        "            i -= 3\n",
        "\n",
        "        return \" \".join(res)"
      ],
      "execution_count": null,
      "outputs": []
    },
    {
      "cell_type": "markdown",
      "metadata": {
        "id": "t2ZvQ2wmTSSR"
      },
      "source": [
        "## [Integer to Roman](https://leetcode.com/problems/integer-to-roman/)\n",
        "*Given an integer, convert it to a roman numeral.*"
      ]
    },
    {
      "cell_type": "code",
      "metadata": {
        "id": "UycV7p38Tard"
      },
      "source": [
        "class Solution:\n",
        "    def intToRoman(self, num: int) -> str:\n",
        "        dic = {\n",
        "            1:'I',\n",
        "            4:'IV',\n",
        "            5:'V',\n",
        "            9:'IX',\n",
        "            10:'X',\n",
        "            40:'XL',\n",
        "            50:'L',\n",
        "            90:'XC',\n",
        "            100:'C',\n",
        "            400:'CD',\n",
        "            500:'D',\n",
        "            900:'CM',\n",
        "            1000:'M'\n",
        "        }\n",
        "        res = \"\"\n",
        "        i = 3\n",
        "        while num > 0:\n",
        "            div = 10**i\n",
        "            q, num = divmod(num, div)\n",
        "            \n",
        "            if q > 0:\n",
        "                currnum = q*div\n",
        "                if currnum in dic: # q = 1, 4, 5, 9\n",
        "                    res += dic[currnum]\n",
        "                elif q < 5: # 2, 3\n",
        "                    res += dic[div]*q\n",
        "                else: # 6, 7, 8\n",
        "                    res += dic[5*div] + dic[div]*(q-5)\n",
        "            i -= 1\n",
        "        return res"
      ],
      "execution_count": null,
      "outputs": []
    },
    {
      "cell_type": "markdown",
      "metadata": {
        "id": "KWx_N9HsIsLI"
      },
      "source": [
        "# Parentheses\n",
        "- [Valid Parentheses](https://leetcode.com/problems/valid-parentheses/)\n",
        "- [Minimum Remove to Make Valid Parentheses](https://leetcode.com/problems/minimum-remove-to-make-valid-parentheses/)\n",
        "- [Longest Valid Parentheses](https://leetcode.com/problems/longest-valid-parentheses/)\n",
        "- [Generate Parentheses](https://leetcode.com/problems/generate-parentheses/)\n",
        "- [Different Ways to Add Parentheses](https://leetcode.com/problems/different-ways-to-add-parentheses/)\n",
        "- [Remove Invalid Parentheses](https://leetcode.com/problems/remove-invalid-parentheses/)\n",
        "- [Valid Parenthesis String](https://leetcode.com/problems/valid-parenthesis-string/)"
      ]
    },
    {
      "cell_type": "markdown",
      "metadata": {
        "id": "O4dAvDzoCY6U"
      },
      "source": [
        "## [Valid Parentheses](https://leetcode.com/problems/valid-parentheses/)\n",
        "*Given a string s containing just the characters '(', ')', '{', '}', '[' and ']', determine if the input string is valid.*"
      ]
    },
    {
      "cell_type": "code",
      "metadata": {
        "id": "HaKVf7YVCaLy"
      },
      "source": [
        "class Solution:\n",
        "    def isValid(self, s: str) -> bool:\n",
        "        \"\"\"\n",
        "        pair = {')':'(', }\n",
        "        \n",
        "        stack = [(]\n",
        "        if open bracket:\n",
        "            push into the stack\n",
        "        if closed bracket:\n",
        "            pop and compare\n",
        "        \"\"\"\n",
        "        # O(n), O(n)\n",
        "        \n",
        "        # edge\n",
        "        if len(s) == 0:\n",
        "            return True\n",
        "        if len(s) % 2 == 1:\n",
        "            return False\n",
        "        \n",
        "        pairs = {'(':')', '[':']', '{':'}'}\n",
        "        stack = []\n",
        "        \n",
        "        for bracket in s:\n",
        "            if bracket in pairs:\n",
        "                stack.append(bracket)\n",
        "            elif not stack or pairs[stack.pop()] != bracket:\n",
        "                return False\n",
        "        return not stack"
      ],
      "execution_count": null,
      "outputs": []
    },
    {
      "cell_type": "markdown",
      "metadata": {
        "id": "QigzfJXPCmcR"
      },
      "source": [
        "## [Minimum Remove to Make Valid Parentheses](https://leetcode.com/problems/minimum-remove-to-make-valid-parentheses/)\n",
        "*Given a string s of '(' , ')' and lowercase English characters. Your task is to remove the minimum number of parentheses ( '(' or ')', in any positions ) so that the resulting parentheses string is valid and return any valid string.*"
      ]
    },
    {
      "cell_type": "code",
      "metadata": {
        "id": "WmYcaFljCrIt"
      },
      "source": [
        "class Solution:\n",
        "    def minRemoveToMakeValid(self, s: str) -> str:\n",
        "        \n",
        "        # O(n), O(n) where n is the length of s\n",
        "        stack = []\n",
        "        s = list(s)\n",
        "        \n",
        "        for i, c in enumerate(s):\n",
        "\n",
        "            if c == '(':\n",
        "                stack.append(i)\n",
        "            elif c == ')':\n",
        "                if stack:\n",
        "                    stack.pop()\n",
        "                else:\n",
        "                    s[i] = ''\n",
        "\n",
        "        while stack:\n",
        "            s.pop(stack.pop())\n",
        "            \n",
        "        return \"\".join(s)"
      ],
      "execution_count": null,
      "outputs": []
    },
    {
      "cell_type": "markdown",
      "metadata": {
        "id": "e9O8voN3MDzL"
      },
      "source": [
        "## [Longest Valid Parentheses](https://leetcode.com/problems/longest-valid-parentheses/)\n",
        "*Given a string containing just the characters '(' and ')', find the length of the longest valid (well-formed) parentheses substring.*"
      ]
    },
    {
      "cell_type": "code",
      "metadata": {
        "id": "2_QPt2XCMH8Q"
      },
      "source": [
        "class Solution:\n",
        "    def longestValidParentheses(self, s: str) -> int:\n",
        "        # Solution 1. \n",
        "        # O(n), O(n)\n",
        "        maxlen = 0\n",
        "        stack = [-1]\n",
        "        for i, c in enumerate(s):\n",
        "            if c == '(':\n",
        "                stack.append(i)\n",
        "            else:\n",
        "                stack.pop()\n",
        "                if not stack:\n",
        "                    stack.append(i)\n",
        "                else:\n",
        "                    maxlen = max(maxlen, i - stack[-1])\n",
        "        \n",
        "        return maxlen\n",
        "    \n",
        "        # Solution2\n",
        "        maxlen = 0\n",
        "        left = right = 0\n",
        "        for c in s:\n",
        "            if c == '(':\n",
        "                left += 1\n",
        "            else:\n",
        "                right += 1\n",
        "                \n",
        "            if left == right:\n",
        "                maxlen = max(maxlen, left * 2)\n",
        "            elif right > left:\n",
        "                left = right = 0\n",
        "        \n",
        "        left = right = 0\n",
        "        for i in range(len(s)-1, -1, -1):\n",
        "            c = s[i]\n",
        "            if c == '(':\n",
        "                left += 1\n",
        "            else:\n",
        "                right += 1\n",
        "            \n",
        "            if left == right:\n",
        "                maxlen = max(maxlen, right * 2)\n",
        "            elif left > right:\n",
        "                left = right = 0\n",
        "        return maxlen"
      ],
      "execution_count": null,
      "outputs": []
    },
    {
      "cell_type": "markdown",
      "metadata": {
        "id": "Ehwyp-msCi0e"
      },
      "source": [
        "## [Generate Parentheses](https://leetcode.com/problems/generate-parentheses/)\n",
        "*Given n pairs of parentheses, write a function to generate all combinations of well-formed parentheses.*\n"
      ]
    },
    {
      "cell_type": "code",
      "metadata": {
        "id": "jt2-INkXCl9j"
      },
      "source": [
        "class Solution:\n",
        "    def generateParenthesis(self, n: int) -> List[str]:\n",
        "        \"\"\"\n",
        "        \n",
        "        if left < n: # ( \n",
        "             \n",
        "        if left > right: # ')'\n",
        "            \n",
        "        \"\"\"\n",
        "        # O(), O()\n",
        "        def helper(left, right, curr=\"\"):\n",
        "            \n",
        "            if len(curr) == 2 * n:\n",
        "                res.append(curr)\n",
        "                return                 \n",
        "            \n",
        "            if left < n:\n",
        "                helper(left + 1, right, curr + '(')\n",
        "            \n",
        "            if left > right:\n",
        "                helper(left, right + 1, curr + ')')\n",
        "\n",
        "        res = []\n",
        "        helper(0, 0, \"\")\n",
        "        return res"
      ],
      "execution_count": null,
      "outputs": []
    },
    {
      "cell_type": "markdown",
      "metadata": {
        "id": "qlnO9n60D55e"
      },
      "source": [
        "## [Different Ways to Add Parentheses](https://leetcode.com/problems/different-ways-to-add-parentheses/)\n",
        "*Given a string expression of numbers and operators, return all possible results from computing all the different possible ways to group numbers and operators. You may return the answer in any order.*"
      ]
    },
    {
      "cell_type": "code",
      "metadata": {
        "id": "hmPdE0I6D-7K"
      },
      "source": [
        "class Solution:\n",
        "    def diffWaysToCompute(self, expression: str) -> List[int]:\n",
        "        \n",
        "        # Solution 1\n",
        "        if expression.isdigit():\n",
        "            return [int(expression)]\n",
        "        \n",
        "        res = []\n",
        "        for i, c in enumerate(expression):\n",
        "            if c in {'+', '-', '*'}:\n",
        "                ls = self.diffWaysToCompute(expression[:i])\n",
        "                rs = self.diffWaysToCompute(expression[i+1:])\n",
        "                for l in ls:\n",
        "                    for r in rs:                                        \n",
        "                        if c == '+':\n",
        "                            res.append(l + r)\n",
        "                        elif c == '-':\n",
        "                            res.append(l - r)\n",
        "                        else: # c == '*'\n",
        "                            res.append(l * r)      \n",
        "        \n",
        "        return res\n",
        "        \n",
        "        # Solution 2\n",
        "        def helper(s):\n",
        "            \n",
        "            if s in memo:\n",
        "                return memo[s]\n",
        "            \n",
        "            if s.isdigit():\n",
        "                return [int(s)]\n",
        "            \n",
        "            res = []\n",
        "            for i, c in enumerate(s):\n",
        "                if c in {'+', '-', '*'}:\n",
        "                    ls = helper(s[:i])\n",
        "                    rs = helper(s[i+1:])\n",
        "                    \n",
        "                    for l in ls:\n",
        "                        for r in rs:\n",
        "                            if c == '+':\n",
        "                                res.append(l + r)\n",
        "                            elif c == '-':\n",
        "                                res.append(l - r)\n",
        "                            else: # c == '*'\n",
        "                                res.append(l * r)\n",
        "            memo[s] = res\n",
        "            return res\n",
        "                    \n",
        "        memo = {}\n",
        "        return helper(expression)\n"
      ],
      "execution_count": null,
      "outputs": []
    },
    {
      "cell_type": "markdown",
      "metadata": {
        "id": "mCS_FqhFCrzX"
      },
      "source": [
        "## [Remove Invalid Parentheses](https://leetcode.com/problems/remove-invalid-parentheses/)\n",
        "*Given a string s that contains parentheses and letters, remove the minimum number of invalid parentheses to make the input string valid. Return all the possible results.*"
      ]
    },
    {
      "cell_type": "code",
      "metadata": {
        "id": "07_m0EWfCu-d"
      },
      "source": [
        "class Solution:\n",
        "    def removeInvalidParentheses(self, s: str) -> List[str]:\n",
        "        \n",
        "        def isValid(st):\n",
        "            balance = 0\n",
        "            for c in st:\n",
        "                if c == '(':\n",
        "                    balance += 1\n",
        "                elif c == ')':\n",
        "                    balance -= 1\n",
        "                if balance < 0:\n",
        "                    return False\n",
        "            return balance == 0\n",
        "            \n",
        "        q = collections.deque()\n",
        "        q.append(s)\n",
        "        \n",
        "        res = []\n",
        "        \n",
        "        while q:\n",
        "            size = len(q)\n",
        "            visited = set()\n",
        "            for _ in range(size):\n",
        "                currs = q.popleft() \n",
        "                if isValid(currs):\n",
        "                    res.append(currs)\n",
        "                elif not res:\n",
        "                    for i in range(len(currs)):\n",
        "                        if currs[i] in {'(',')'}:\n",
        "                            nexts = currs[:i] + currs[i+1:]\n",
        "                            if nexts not in visited:\n",
        "                                q.append(nexts)\n",
        "                                visited.add(nexts)\n",
        "        return res"
      ],
      "execution_count": null,
      "outputs": []
    },
    {
      "cell_type": "markdown",
      "metadata": {
        "id": "ZfMAL5ZKIf4q"
      },
      "source": [
        "## [Valid Parenthesis String](https://leetcode.com/problems/valid-parenthesis-string/)\n",
        "*Given a string s containing only three types of characters: '(', ')' and '*', return true if s is valid.*"
      ]
    },
    {
      "cell_type": "code",
      "metadata": {
        "id": "MQLPTPHGIhem"
      },
      "source": [
        "class Solution:\n",
        "    def checkValidString(self, s: str) -> bool:\n",
        "        \n",
        "        cmin = cmax = 0\n",
        "        \n",
        "        for c in s:\n",
        "            \n",
        "            if c == '(':\n",
        "                cmin += 1\n",
        "                cmax += 1\n",
        "            \n",
        "            elif c == ')':\n",
        "                cmin = max(0, cmin - 1)\n",
        "                cmax -= 1\n",
        "                \n",
        "                if cmax < 0:\n",
        "                    return False\n",
        "                    \n",
        "            else: # c == '*'\n",
        "                cmax += 1\n",
        "                cmin = max(0, cmin - 1)\n",
        "\n",
        "        return cmin == 0 "
      ],
      "execution_count": null,
      "outputs": []
    }
  ]
}
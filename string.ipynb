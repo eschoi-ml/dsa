{
  "nbformat": 4,
  "nbformat_minor": 0,
  "metadata": {
    "colab": {
      "name": "string.ipynb",
      "provenance": [],
      "toc_visible": true,
      "authorship_tag": "ABX9TyN6a61uZRd3t8r7WiUlnXYD",
      "include_colab_link": true
    },
    "kernelspec": {
      "name": "python3",
      "display_name": "Python 3"
    },
    "language_info": {
      "name": "python"
    }
  },
  "cells": [
    {
      "cell_type": "markdown",
      "metadata": {
        "id": "view-in-github",
        "colab_type": "text"
      },
      "source": [
        "<a href=\"https://colab.research.google.com/github/eschoi-ml/dsa/blob/main/string.ipynb\" target=\"_parent\"><img src=\"https://colab.research.google.com/assets/colab-badge.svg\" alt=\"Open In Colab\"/></a>"
      ]
    },
    {
      "cell_type": "markdown",
      "metadata": {
        "id": "7WM6CGh6vCpS"
      },
      "source": [
        "# String\n",
        "- [Calculator](#calculator)\n",
        "- [Parentheses](#parentheses)\n",
        "- [Justification](#justification)\n",
        "- [Integer conversion](#integer-conversion)\n",
        "- [Palindrome](#palindrome)\n",
        "    "
      ]
    },
    {
      "cell_type": "markdown",
      "metadata": {
        "id": "Tj7sBNEPukxb"
      },
      "source": [
        "# Calculator\n",
        "\n",
        "- Basic Calculator: Given a string s which represents an expression, evaluate this expression and return its value. \n",
        "    - [Basic Calculator II](https://leetcode.com/problems/basic-calculator-ii/): +, - , *, /, ' '\n",
        "    - [Basic Calculator III](https://leetcode.com/problems/basic-calculator-iii/): +, - , *, /, ' ', (, )\n",
        "    - [Basic Calculator](https://leetcode.com/problems/basic-calculator/): +, - , ' ', (, )\n",
        "- [Evaluate Reverse Polish Notation](https://leetcode.com/problems/evaluate-reverse-polish-notation/)\n",
        "- [Expression Add Operators](https://leetcode.com/problems/expression-add-operators/)\n",
        "- [Different Ways to Add Parentheses](https://leetcode.com/problems/different-ways-to-add-parentheses/)"
      ]
    },
    {
      "cell_type": "markdown",
      "metadata": {
        "id": "0shOZPPaRWr1"
      },
      "source": [
        "## [Basic Calculator II](https://leetcode.com/problems/basic-calculator-ii/)"
      ]
    },
    {
      "cell_type": "code",
      "metadata": {
        "id": "FQrBoXoWRN2x"
      },
      "source": [
        "def calculate(self, s: str) -> int:\n",
        "    \"\"\"\n",
        "    operation = +, -, *, /, ' '\n",
        "    \"\"\"\n",
        "    # Solution 1. Use a stack\n",
        "    # O(n) & O(n)\n",
        "    \n",
        "    stack = []\n",
        "    \n",
        "    num = 0\n",
        "    op = '+'\n",
        "    \n",
        "    for c in s + '+':\n",
        "        \n",
        "        if c.isdigit():\n",
        "            num = 10 * num + int(c)\n",
        "        elif c == ' ':\n",
        "            pass\n",
        "        else:\n",
        "            if op == '+':\n",
        "                stack.append(num)                \n",
        "            elif op == '-':\n",
        "                stack.append(-num)\n",
        "            elif op == '*':\n",
        "                stack[-1] *= num\n",
        "            else:# op == '/'\n",
        "                sign = 1 if stack[-1] >= 0 else -1\n",
        "                stack[-1] = sign * (abs(stack[-1])//num) \n",
        "            num = 0\n",
        "            op = c\n",
        "    \n",
        "    return sum(stack)\n",
        "    \n",
        "    # Solution 2. O(n) & O(1)\n",
        "    stack = num = res = 0\n",
        "    op = '+'\n",
        "\n",
        "    for c in s + '+':\n",
        "            \n",
        "        if c.isdigit():\n",
        "            num = 10 * num + int(c)\n",
        "        elif c == ' ':\n",
        "            pass\n",
        "        else:\n",
        "            if op == '+':\n",
        "                res += stack\n",
        "                stack = num\n",
        "            elif op == '-':\n",
        "                res += stack\n",
        "                stack = -num\n",
        "            elif op == '*':\n",
        "                stack *= num\n",
        "            else: # op == '/'\n",
        "                sign = 1 if stack >= 0 else -1\n",
        "                stack = sign * (abs(stack)//num)\n",
        "            num = 0\n",
        "            op = c\n",
        "    \n",
        "    return res + stack"
      ],
      "execution_count": null,
      "outputs": []
    },
    {
      "cell_type": "markdown",
      "metadata": {
        "id": "rMT0I9_mSuhB"
      },
      "source": [
        "## [Basic Calculator III](https://leetcode.com/problems/basic-calculator-iii/)"
      ]
    },
    {
      "cell_type": "code",
      "metadata": {
        "id": "sPR2IZWDTXD_"
      },
      "source": [
        "def calculate(self, s: str) -> int:\n",
        "            \n",
        "    \"\"\"\n",
        "    op = +, -, *, /, (, )\n",
        "    \n",
        "    \"\"\"\n",
        "    # Solution 1. Iterative + stack\n",
        "    # O(n) & O(n)\n",
        "    \n",
        "    def update(op, num):\n",
        "        if op == '+':\n",
        "            stack.append(num)\n",
        "        elif op == '-':\n",
        "            stack.append(-num)\n",
        "        elif op == '*':\n",
        "            stack[-1] *= num\n",
        "        elif op == '/':\n",
        "            stack[-1] = int(stack[-1]/num)\n",
        "    \n",
        "    stack = []\n",
        "    num = 0\n",
        "    op = '+'\n",
        "    for c in s + '+':\n",
        "        \n",
        "        if c.isdigit():\n",
        "            num = num * 10 + int(c)\n",
        "        elif c == ' ':\n",
        "            pass\n",
        "        elif c == '(':\n",
        "            stack.append(op) # only operator for stack push\n",
        "            num = 0\n",
        "            op = '+'\n",
        "        else: # c == '+, -, *, /, )':\n",
        "            update(op, num)\n",
        "            if c == ')':\n",
        "                num = 0\n",
        "                while isinstance(stack[-1], int):\n",
        "                    num += stack.pop()\n",
        "                op = stack.pop()\n",
        "                update(op, num)\n",
        "            num = 0\n",
        "            op = c\n",
        "\n",
        "    return sum(stack)\n",
        "    \n",
        "    \n",
        "    # Solution 2. Recursive + stack\n",
        "    \n",
        "    def helper(s, start):\n",
        "        \n",
        "        stack = []\n",
        "        num = 0\n",
        "        op = '+'\n",
        "        \n",
        "        i = start\n",
        "        while i < len(s):\n",
        "            c = s[i]\n",
        "            if c.isdigit():\n",
        "                num = num * 10 + int(c)\n",
        "            elif c == ' ':\n",
        "                pass\n",
        "            elif c == '(':\n",
        "                num, i = helper(s, i + 1)\n",
        "            else:\n",
        "                if op == '+':\n",
        "                    stack.append(num)\n",
        "                elif op == '-':\n",
        "                    stack.append(-num)                        \n",
        "                elif op == '*':\n",
        "                    stack[-1] *= num\n",
        "                elif op == '/':\n",
        "                    stack[-1] = int(stack[-1] / num)\n",
        "                num = 0\n",
        "                op = c\n",
        "                \n",
        "                if c == ')':\n",
        "                    return sum(stack), i\n",
        "            i += 1\n",
        "        return sum(stack), i\n",
        "    \n",
        "    \n",
        "    return helper(s + '+', 0)[0]\n",
        "    \n",
        "    # Solution 3. Recursive + no stack\n",
        "    \n",
        "    def helper(s, start):\n",
        "        \n",
        "        stack = num = res = 0\n",
        "        op = '+'\n",
        "        \n",
        "        i = start\n",
        "        while i < len(s):\n",
        "            c = s[i]\n",
        "            if c.isdigit():\n",
        "                num = num * 10 + int(c)\n",
        "            elif c == ' ':\n",
        "                pass\n",
        "            elif c == '(':\n",
        "                num, i = helper(s, i + 1)\n",
        "            else:\n",
        "                if op == '+':\n",
        "                    res += stack\n",
        "                    stack = num\n",
        "                elif op == '-':\n",
        "                    res += stack\n",
        "                    stack = -num                   \n",
        "                elif op == '*':\n",
        "                    stack *= num\n",
        "                elif op == '/':\n",
        "                    stack = int(stack / num)\n",
        "                num = 0\n",
        "                op = c\n",
        "                \n",
        "                if c == ')':\n",
        "                    return res + stack, i\n",
        "            i += 1\n",
        "        return res + stack, i\n",
        "    \n",
        "    \n",
        "    return helper(s + '+', 0)[0]"
      ],
      "execution_count": null,
      "outputs": []
    },
    {
      "cell_type": "markdown",
      "metadata": {
        "id": "o0ysQU-gTbn8"
      },
      "source": [
        "## [Basic Calculator](https://leetcode.com/problems/basic-calculator/)"
      ]
    },
    {
      "cell_type": "code",
      "metadata": {
        "id": "jMkO3HOPTjeJ"
      },
      "source": [
        "def calculate(self, s: str) -> int:\n",
        "    \"\"\"\n",
        "    operation = +, -, (, ), ' '\n",
        "    \n",
        "    \"\"\"\n",
        "    # Solution 1. Stack + iterative\n",
        "    # O(n) & O(n)\n",
        "    \n",
        "    def update(op, num):\n",
        "        \n",
        "        if op == '+':\n",
        "            stack.append(num)\n",
        "        elif op == '-':\n",
        "            stack.append(-num)\n",
        "\n",
        "    stack = []\n",
        "    \n",
        "    num = 0\n",
        "    op = '+'\n",
        "\n",
        "    for c in s + '+':\n",
        "                \n",
        "        if c.isdigit():\n",
        "            num = num * 10 + int(c)\n",
        "        elif c == ' ':\n",
        "            pass\n",
        "        elif c == '(':\n",
        "            stack.append(op)\n",
        "            num = 0\n",
        "            op = '+'\n",
        "        else:\n",
        "            update(op, num)\n",
        "            if c == ')':\n",
        "                num = 0\n",
        "                while isinstance(stack[-1], int):\n",
        "                    num += stack.pop()\n",
        "                op = stack.pop()\n",
        "                update(op, num)\n",
        "            num = 0\n",
        "            op = c\n",
        "            \n",
        "    return sum(stack)          \n",
        "    \n",
        "    # Solution 2. recursive + no stack\n",
        "    def helper(s, start):\n",
        "        \n",
        "        stack = num = res = 0\n",
        "        op = '+'\n",
        "        \n",
        "        i = start\n",
        "        while i < len(s):\n",
        "            c = s[i]\n",
        "            if c.isdigit():\n",
        "                num = 10 * num + int(c)\n",
        "            elif c == ' ':\n",
        "                pass\n",
        "            elif c == '(':\n",
        "                num, i = helper(s, i+1)\n",
        "            else:\n",
        "                if op == '+':\n",
        "                    res += stack\n",
        "                    stack = num\n",
        "                elif op == '-':\n",
        "                    res += stack\n",
        "                    stack = -num\n",
        "                \n",
        "                num = 0\n",
        "                op = c\n",
        "                \n",
        "                if c == ')':\n",
        "                    return res + stack, i\n",
        "            i += 1\n",
        "        return res + stack, i\n",
        "\n",
        "    return helper(s + '+', 0)[0]"
      ],
      "execution_count": null,
      "outputs": []
    },
    {
      "cell_type": "markdown",
      "metadata": {
        "id": "r0CMDuJqENiG"
      },
      "source": [
        "## [Evaluate Reverse Polish Notation](https://leetcode.com/problems/evaluate-reverse-polish-notation/)\n"
      ]
    },
    {
      "cell_type": "code",
      "metadata": {
        "id": "UeWL-2O_ESNK"
      },
      "source": [
        "def evalRPN(self, tokens: List[str]) -> int:\n",
        "    \n",
        "    # O(n) & O(n)\n",
        "    stack = []\n",
        "    for token in tokens:\n",
        "        if token not in {'+', '-', '*', '/'}:\n",
        "            stack.append(int(token))\n",
        "        else:\n",
        "            n2 = stack.pop()\n",
        "            n1 = stack.pop()\n",
        "            if token == '+':\n",
        "                stack.append(n1 + n2)\n",
        "            elif token == '-':\n",
        "                stack.append(n1 - n2)\n",
        "            elif token == '*':\n",
        "                stack.append(n1 * n2)\n",
        "            else:\n",
        "                stack.append(int(n1/n2))\n",
        "    \n",
        "    return stack.pop()"
      ],
      "execution_count": null,
      "outputs": []
    },
    {
      "cell_type": "markdown",
      "metadata": {
        "id": "Yw0zbZYgEzzo"
      },
      "source": [
        "## [Expression Add Operators](https://leetcode.com/problems/expression-add-operators/)"
      ]
    },
    {
      "cell_type": "code",
      "metadata": {
        "id": "Y40iFIHkE1DX"
      },
      "source": [
        "def addOperators(self, num: str, target: int) -> List[str]:\n",
        "    \n",
        "    # Solution 1. Use a stack \n",
        "    def helper(level=0, curr=\"\", stack=[]):\n",
        "        \n",
        "        if level == n:\n",
        "            if sum(stack) == target:\n",
        "                res.append(curr)\n",
        "            return \n",
        "        \n",
        "        for i in range(level, n):\n",
        "            \n",
        "            curr_num = num[level:i+1]\n",
        "            int_curr_num = int(curr_num)\n",
        "            \n",
        "            \n",
        "            if num[level]==\"0\" and i!=level:\n",
        "                break\n",
        "            \n",
        "            if level == 0:\n",
        "                # +\n",
        "                helper(i+1, curr + curr_num, stack + [int_curr_num]) \n",
        "            \n",
        "            if level > 0:\n",
        "                \n",
        "                # +\n",
        "                helper(i+1, curr + '+' + curr_num, stack + [int_curr_num]) \n",
        "                \n",
        "                # -\n",
        "                helper(i+1, curr + '-' + curr_num, stack + [-int_curr_num])\n",
        "            \n",
        "                # *\n",
        "                temp = stack[-1]\n",
        "                stack[-1] *= int_curr_num\n",
        "                helper(i+1, curr + '*' + curr_num, stack)\n",
        "                stack[-1] = temp                    \n",
        "            \n",
        "    n = len(num)\n",
        "    res = []\n",
        "    \n",
        "    helper()\n",
        "    \n",
        "    return res\n",
        "    \n",
        "    # Solution 2. No stack\n",
        "    def helper(level=0, curr=\"\", stack=0, res=0):\n",
        "        \n",
        "        if level == n:\n",
        "            if res + stack == target:\n",
        "                ans.append(curr)\n",
        "            return \n",
        "        \n",
        "        for i in range(level, n):\n",
        "            \n",
        "            curr_num = num[level:i+1]\n",
        "            int_curr_num = int(curr_num)\n",
        "            \n",
        "            \n",
        "            if num[level]==\"0\" and i!=level:\n",
        "                break\n",
        "            \n",
        "            if level == 0:\n",
        "                # +\n",
        "                helper(i+1, curr + curr_num, int_curr_num, res + stack) \n",
        "            \n",
        "            if level > 0:\n",
        "                \n",
        "                # +\n",
        "                helper(i+1, curr + '+' + curr_num, int_curr_num, res + stack) \n",
        "                \n",
        "                # -\n",
        "                helper(i+1, curr + '-' + curr_num, -int_curr_num, res + stack)\n",
        "            \n",
        "                # *\n",
        "                helper(i+1, curr + '*' + curr_num, stack * int_curr_num, res)                 \n",
        "            \n",
        "    n = len(num)\n",
        "    ans = []\n",
        "    \n",
        "    helper()\n",
        "    \n",
        "    return ans"
      ],
      "execution_count": null,
      "outputs": []
    },
    {
      "cell_type": "markdown",
      "metadata": {
        "id": "W2GKXW17Hxsh"
      },
      "source": [
        "## [Different Ways to Add Parentheses](https://leetcode.com/problems/different-ways-to-add-parentheses/)"
      ]
    },
    {
      "cell_type": "code",
      "metadata": {
        "id": "NZx8CoGzH3eY"
      },
      "source": [
        "def diffWaysToCompute(self, expression: str) -> List[int]:\n",
        "    \n",
        "    # Solution 1. Recursion\n",
        "    def helper(s):\n",
        "        \n",
        "        if s.isdigit():\n",
        "            return [int(s)]\n",
        "        \n",
        "        res = []\n",
        "        for i, c in enumerate(s):\n",
        "            if c in {'+', '-', '*'}:\n",
        "                l = helper(s[:i]) \n",
        "                r = helper(s[i+1:])\n",
        "                for n1 in l:\n",
        "                    for n2 in r:  \n",
        "                        if c == '+':\n",
        "                            res.append(n1 + n2)                            \n",
        "                        elif c == '-':\n",
        "                            res.append(n1 - n2)\n",
        "                        else:\n",
        "                            res.append(n1 * n2)\n",
        "        return res\n",
        "        \n",
        "    return helper(expression)\n",
        "    \n",
        "    \n",
        "    # Solution 2. Recursion + memoization \n",
        "    def helper(s):\n",
        "        \n",
        "        if s in memo:\n",
        "            return memo[s]\n",
        "        \n",
        "        if s.isdigit():\n",
        "            memo[s] = [int(s)]\n",
        "            return memo[s]\n",
        "        \n",
        "        res = []\n",
        "        for i, c in enumerate(s):\n",
        "            if c in {'+', '-', '*'}:\n",
        "                l = helper(s[:i]) \n",
        "                r = helper(s[i+1:])\n",
        "                for n1 in l:\n",
        "                    for n2 in r:  \n",
        "                        if c == '+':\n",
        "                            res.append(n1 + n2)                            \n",
        "                        elif c == '-':\n",
        "                            res.append(n1 - n2)\n",
        "                        else:\n",
        "                            res.append(n1 * n2)\n",
        "        memo[s] = res\n",
        "        return memo[s]\n",
        "        \n",
        "    memo = {}\n",
        "    return helper(expression)"
      ],
      "execution_count": null,
      "outputs": []
    },
    {
      "cell_type": "markdown",
      "metadata": {
        "id": "KWx_N9HsIsLI"
      },
      "source": [
        "# Parentheses\n",
        "- [Valid Parentheses](https://leetcode.com/problems/valid-parentheses/)\n",
        "- [Minimum Remove to Make Valid Parentheses](https://leetcode.com/problems/minimum-remove-to-make-valid-parentheses/)\n",
        "- [Longest Valid Parentheses](https://leetcode.com/problems/longest-valid-parentheses/)\n",
        "- [Generate Parentheses](https://leetcode.com/problems/generate-parentheses/)\n",
        "- [Different Ways to Add Parentheses](https://leetcode.com/problems/different-ways-to-add-parentheses/)\n",
        "- [Remove Invalid Parentheses](https://leetcode.com/problems/remove-invalid-parentheses/)\n",
        "- [Valid Parenthesis String](https://leetcode.com/problems/valid-parenthesis-string/)"
      ]
    },
    {
      "cell_type": "markdown",
      "metadata": {
        "id": "O4dAvDzoCY6U"
      },
      "source": [
        "## [Valid Parentheses](https://leetcode.com/problems/valid-parentheses/)\n",
        "*Given a string s containing just the characters '(', ')', '{', '}', '[' and ']', determine if the input string is valid.*"
      ]
    },
    {
      "cell_type": "code",
      "metadata": {
        "id": "HaKVf7YVCaLy"
      },
      "source": [
        "class Solution:\n",
        "    def isValid(self, s: str) -> bool:\n",
        "        \"\"\"\n",
        "        pair = {')':'(', }\n",
        "        \n",
        "        stack = [(]\n",
        "        if open bracket:\n",
        "            push into the stack\n",
        "        if closed bracket:\n",
        "            pop and compare\n",
        "        \"\"\"\n",
        "        # O(n), O(n)\n",
        "        \n",
        "        # edge\n",
        "        if len(s) == 0:\n",
        "            return True\n",
        "        if len(s) % 2 == 1:\n",
        "            return False\n",
        "        \n",
        "        pairs = {'(':')', '[':']', '{':'}'}\n",
        "        stack = []\n",
        "        \n",
        "        for bracket in s:\n",
        "            if bracket in pairs:\n",
        "                stack.append(bracket)\n",
        "            elif not stack or pairs[stack.pop()] != bracket:\n",
        "                return False\n",
        "        return not stack"
      ],
      "execution_count": null,
      "outputs": []
    },
    {
      "cell_type": "markdown",
      "metadata": {
        "id": "QigzfJXPCmcR"
      },
      "source": [
        "## [Minimum Remove to Make Valid Parentheses](https://leetcode.com/problems/minimum-remove-to-make-valid-parentheses/)\n",
        "*Given a string s of '(' , ')' and lowercase English characters. Your task is to remove the minimum number of parentheses ( '(' or ')', in any positions ) so that the resulting parentheses string is valid and return any valid string.*"
      ]
    },
    {
      "cell_type": "code",
      "metadata": {
        "id": "WmYcaFljCrIt"
      },
      "source": [
        "class Solution:\n",
        "    def minRemoveToMakeValid(self, s: str) -> str:\n",
        "        \n",
        "        # O(n), O(n) where n is the length of s\n",
        "        stack = []\n",
        "        s = list(s)\n",
        "        \n",
        "        for i, c in enumerate(s):\n",
        "\n",
        "            if c == '(':\n",
        "                stack.append(i)\n",
        "            elif c == ')':\n",
        "                if stack:\n",
        "                    stack.pop()\n",
        "                else:\n",
        "                    s[i] = ''\n",
        "\n",
        "        while stack:\n",
        "            s.pop(stack.pop())\n",
        "            \n",
        "        return \"\".join(s)"
      ],
      "execution_count": null,
      "outputs": []
    },
    {
      "cell_type": "markdown",
      "metadata": {
        "id": "e9O8voN3MDzL"
      },
      "source": [
        "## [Longest Valid Parentheses](https://leetcode.com/problems/longest-valid-parentheses/)\n",
        "*Given a string containing just the characters '(' and ')', find the length of the longest valid (well-formed) parentheses substring.*"
      ]
    },
    {
      "cell_type": "code",
      "metadata": {
        "id": "2_QPt2XCMH8Q"
      },
      "source": [
        "class Solution:\n",
        "    def longestValidParentheses(self, s: str) -> int:\n",
        "        # Solution 1. \n",
        "        # O(n), O(n)\n",
        "        maxlen = 0\n",
        "        stack = [-1]\n",
        "        for i, c in enumerate(s):\n",
        "            if c == '(':\n",
        "                stack.append(i)\n",
        "            else:\n",
        "                stack.pop()\n",
        "                if not stack:\n",
        "                    stack.append(i)\n",
        "                else:\n",
        "                    maxlen = max(maxlen, i - stack[-1])\n",
        "        \n",
        "        return maxlen\n",
        "    \n",
        "        # Solution2\n",
        "        maxlen = 0\n",
        "        left = right = 0\n",
        "        for c in s:\n",
        "            if c == '(':\n",
        "                left += 1\n",
        "            else:\n",
        "                right += 1\n",
        "                \n",
        "            if left == right:\n",
        "                maxlen = max(maxlen, left * 2)\n",
        "            elif right > left:\n",
        "                left = right = 0\n",
        "        \n",
        "        left = right = 0\n",
        "        for i in range(len(s)-1, -1, -1):\n",
        "            c = s[i]\n",
        "            if c == '(':\n",
        "                left += 1\n",
        "            else:\n",
        "                right += 1\n",
        "            \n",
        "            if left == right:\n",
        "                maxlen = max(maxlen, right * 2)\n",
        "            elif left > right:\n",
        "                left = right = 0\n",
        "        return maxlen"
      ],
      "execution_count": null,
      "outputs": []
    },
    {
      "cell_type": "markdown",
      "metadata": {
        "id": "Ehwyp-msCi0e"
      },
      "source": [
        "## [Generate Parentheses](https://leetcode.com/problems/generate-parentheses/)\n",
        "*Given n pairs of parentheses, write a function to generate all combinations of well-formed parentheses.*\n"
      ]
    },
    {
      "cell_type": "code",
      "metadata": {
        "id": "jt2-INkXCl9j"
      },
      "source": [
        "class Solution:\n",
        "    def generateParenthesis(self, n: int) -> List[str]:\n",
        "        \"\"\"\n",
        "        \n",
        "        if left < n: # ( \n",
        "             \n",
        "        if left > right: # ')'\n",
        "            \n",
        "        \"\"\"\n",
        "        # O(), O()\n",
        "        def helper(left, right, curr=\"\"):\n",
        "            \n",
        "            if len(curr) == 2 * n:\n",
        "                res.append(curr)\n",
        "                return                 \n",
        "            \n",
        "            if left < n:\n",
        "                helper(left + 1, right, curr + '(')\n",
        "            \n",
        "            if left > right:\n",
        "                helper(left, right + 1, curr + ')')\n",
        "\n",
        "        res = []\n",
        "        helper(0, 0, \"\")\n",
        "        return res"
      ],
      "execution_count": null,
      "outputs": []
    },
    {
      "cell_type": "markdown",
      "metadata": {
        "id": "qlnO9n60D55e"
      },
      "source": [
        "## [Different Ways to Add Parentheses](https://leetcode.com/problems/different-ways-to-add-parentheses/)\n",
        "*Given a string expression of numbers and operators, return all possible results from computing all the different possible ways to group numbers and operators. You may return the answer in any order.*"
      ]
    },
    {
      "cell_type": "code",
      "metadata": {
        "id": "hmPdE0I6D-7K"
      },
      "source": [
        "class Solution:\n",
        "    def diffWaysToCompute(self, expression: str) -> List[int]:\n",
        "        \n",
        "        # Solution 1\n",
        "        if expression.isdigit():\n",
        "            return [int(expression)]\n",
        "        \n",
        "        res = []\n",
        "        for i, c in enumerate(expression):\n",
        "            if c in {'+', '-', '*'}:\n",
        "                ls = self.diffWaysToCompute(expression[:i])\n",
        "                rs = self.diffWaysToCompute(expression[i+1:])\n",
        "                for l in ls:\n",
        "                    for r in rs:                                        \n",
        "                        if c == '+':\n",
        "                            res.append(l + r)\n",
        "                        elif c == '-':\n",
        "                            res.append(l - r)\n",
        "                        else: # c == '*'\n",
        "                            res.append(l * r)      \n",
        "        \n",
        "        return res\n",
        "        \n",
        "        # Solution 2\n",
        "        def helper(s):\n",
        "            \n",
        "            if s in memo:\n",
        "                return memo[s]\n",
        "            \n",
        "            if s.isdigit():\n",
        "                return [int(s)]\n",
        "            \n",
        "            res = []\n",
        "            for i, c in enumerate(s):\n",
        "                if c in {'+', '-', '*'}:\n",
        "                    ls = helper(s[:i])\n",
        "                    rs = helper(s[i+1:])\n",
        "                    \n",
        "                    for l in ls:\n",
        "                        for r in rs:\n",
        "                            if c == '+':\n",
        "                                res.append(l + r)\n",
        "                            elif c == '-':\n",
        "                                res.append(l - r)\n",
        "                            else: # c == '*'\n",
        "                                res.append(l * r)\n",
        "            memo[s] = res\n",
        "            return res\n",
        "                    \n",
        "        memo = {}\n",
        "        return helper(expression)\n"
      ],
      "execution_count": null,
      "outputs": []
    },
    {
      "cell_type": "markdown",
      "metadata": {
        "id": "mCS_FqhFCrzX"
      },
      "source": [
        "## [Remove Invalid Parentheses](https://leetcode.com/problems/remove-invalid-parentheses/)\n",
        "*Given a string s that contains parentheses and letters, remove the minimum number of invalid parentheses to make the input string valid. Return all the possible results.*"
      ]
    },
    {
      "cell_type": "code",
      "metadata": {
        "id": "07_m0EWfCu-d"
      },
      "source": [
        "class Solution:\n",
        "    def removeInvalidParentheses(self, s: str) -> List[str]:\n",
        "        \n",
        "        def isValid(st):\n",
        "            balance = 0\n",
        "            for c in st:\n",
        "                if c == '(':\n",
        "                    balance += 1\n",
        "                elif c == ')':\n",
        "                    balance -= 1\n",
        "                if balance < 0:\n",
        "                    return False\n",
        "            return balance == 0\n",
        "            \n",
        "        q = collections.deque()\n",
        "        q.append(s)\n",
        "        \n",
        "        res = []\n",
        "        \n",
        "        while q:\n",
        "            size = len(q)\n",
        "            visited = set()\n",
        "            for _ in range(size):\n",
        "                currs = q.popleft() \n",
        "                if isValid(currs):\n",
        "                    res.append(currs)\n",
        "                elif not res:\n",
        "                    for i in range(len(currs)):\n",
        "                        if currs[i] in {'(',')'}:\n",
        "                            nexts = currs[:i] + currs[i+1:]\n",
        "                            if nexts not in visited:\n",
        "                                q.append(nexts)\n",
        "                                visited.add(nexts)\n",
        "        return res"
      ],
      "execution_count": null,
      "outputs": []
    },
    {
      "cell_type": "markdown",
      "metadata": {
        "id": "ZfMAL5ZKIf4q"
      },
      "source": [
        "## [Valid Parenthesis String](https://leetcode.com/problems/valid-parenthesis-string/)\n",
        "*Given a string s containing only three types of characters: '(', ')' and '*', return true if s is valid.*"
      ]
    },
    {
      "cell_type": "code",
      "metadata": {
        "id": "MQLPTPHGIhem"
      },
      "source": [
        "class Solution:\n",
        "    def checkValidString(self, s: str) -> bool:\n",
        "        \n",
        "        cmin = cmax = 0\n",
        "        \n",
        "        for c in s:\n",
        "            \n",
        "            if c == '(':\n",
        "                cmin += 1\n",
        "                cmax += 1\n",
        "            \n",
        "            elif c == ')':\n",
        "                cmin = max(0, cmin - 1)\n",
        "                cmax -= 1\n",
        "                \n",
        "                if cmax < 0:\n",
        "                    return False\n",
        "                    \n",
        "            else: # c == '*'\n",
        "                cmax += 1\n",
        "                cmin = max(0, cmin - 1)\n",
        "\n",
        "        return cmin == 0 "
      ],
      "execution_count": null,
      "outputs": []
    },
    {
      "cell_type": "markdown",
      "metadata": {
        "id": "x_n2wcF4I6ME"
      },
      "source": [
        "# Justification\n",
        "- [Text Justification](https://leetcode.com/problems/text-justification/)\n",
        "- [Rearrange Spaces Between Words](https://leetcode.com/problems/rearrange-spaces-between-words/)"
      ]
    },
    {
      "cell_type": "markdown",
      "metadata": {
        "id": "A_h_wz69vhAd"
      },
      "source": [
        "## [Text Justification](https://leetcode.com/problems/text-justification/)\n",
        "*Given an array of strings words and a width maxWidth, format the text such that each line has exactly maxWidth characters and is fully (left and right) justified.*"
      ]
    },
    {
      "cell_type": "code",
      "metadata": {
        "id": "2u-Y2OD2uq8K"
      },
      "source": [
        "class Solution:\n",
        "    def fullJustify(self, words, maxWidth):\n",
        "        \"\"\"\n",
        "        full jutify\n",
        "        - when not even, more on left\n",
        "        \n",
        "        left justify\n",
        "        - one word\n",
        "        - last line\n",
        "        \n",
        "        \n",
        "        \"\"\"\n",
        "\n",
        "        # O(n), \n",
        "        n = len(words)\n",
        "        res = []\n",
        "        \n",
        "        i = 0\n",
        "        while i < n:\n",
        "            \n",
        "            j = i           # index\n",
        "            wordlen = 0     # words length without space in between\n",
        "            while j < n and wordlen + len(words[j]) + j - i <= maxWidth:\n",
        "                wordlen += len(words[j])\n",
        "                j += 1\n",
        "            \n",
        "            # left justify\n",
        "            if j == i+1 or j == n:\n",
        "                res.append(\" \".join(words[i:j]) + \" \" * (maxWidth - wordlen - (j-1-i)))\n",
        " \n",
        "            # full justify\n",
        "            else:\n",
        "                space = \" \" * ((maxWidth - wordlen) // (j - i - 1))\n",
        "                tail = (maxWidth - wordlen) % (j - i - 1)            \n",
        "\n",
        "                curr_res = \"\"\n",
        "                while i < j-1:\n",
        "                    curr_res += words[i] + space\n",
        "                    if tail > 0:\n",
        "                        curr_res += \" \"\n",
        "                        tail -= 1\n",
        "                    i += 1\n",
        "                curr_res += words[i]\n",
        "                res.append(curr_res)\n",
        "            \n",
        "            i = j\n",
        "        \n",
        "        return res"
      ],
      "execution_count": null,
      "outputs": []
    },
    {
      "cell_type": "markdown",
      "metadata": {
        "id": "01dV_xLLwr9-"
      },
      "source": [
        "## [Rearrange Spaces Between Words](https://leetcode.com/problems/rearrange-spaces-between-words/)\n",
        "*Return the string after rearranging the spaces.*"
      ]
    },
    {
      "cell_type": "code",
      "metadata": {
        "id": "jFh55m2Cwv5G"
      },
      "source": [
        "class Solution:\n",
        "    def reorderSpaces(self, text):\n",
        "        \n",
        "        n = len(text)\n",
        "        word = text.split()\n",
        "        nword = len(word)\n",
        "        nspace = text.count(\" \")\n",
        "        \n",
        "        space = 0 if nword == 1 else nspace // (nword-1)\n",
        "        tailspace = nspace - space * (nword-1) \n",
        "        return (\" \" * space).join(word) + \" \"*tailspace"
      ],
      "execution_count": null,
      "outputs": []
    },
    {
      "cell_type": "markdown",
      "metadata": {
        "id": "H24quma7TJlY"
      },
      "source": [
        "# Integer conversion\n",
        "- [Integer to English Words](https://leetcode.com/problems/integer-to-english-words/)\n",
        "- [Integer to Roman](https://leetcode.com/problems/integer-to-roman/)"
      ]
    },
    {
      "cell_type": "markdown",
      "metadata": {
        "id": "e5nUfviRw0Wm"
      },
      "source": [
        "## [Integer to English Words](https://leetcode.com/problems/integer-to-english-words/)\n",
        "*Convert a non-negative integer num to its English words representation.*"
      ]
    },
    {
      "cell_type": "code",
      "metadata": {
        "id": "3u6JSLTHnvNn"
      },
      "source": [
        "class Solution:\n",
        "    def numberToWords(self, num):\n",
        "        \"\"\"\n",
        "        10^0\n",
        "        10^3: Thousand\n",
        "        10^6: Million\n",
        "        10^9: Billion\n",
        "        \n",
        "        \"\"\"\n",
        "        def helper(num):\n",
        "            \n",
        "            num2word = {1:'One', 2:'Two', 3:'Three', 4:'Four', 5:'Five', 6:'Six', 7:'Seven', 8:'Eight', 9:'Nine'}\n",
        "            num2word10 = {10:'Ten', 11:'Eleven', 12:'Twelve', 13:'Thirteen', 14:'Fourteen', 15:'Fifteen', 16:'Sixteen', 17:'Seventeen', 18:'Eighteen', 19:'Nineteen', 2:'Twenty', 3:'Thirty', 4:'Forty', 5:'Fifty', 6:'Sixty', 7:'Seventy', 8:'Eighty', 9:'Ninety'}\n",
        "            \n",
        "            word = []\n",
        "            i = 2\n",
        "            while num > 0:\n",
        "                q = num // 10**i\n",
        "                if q > 0:\n",
        "                    if i == 2:\n",
        "                            word.extend([num2word[q], 'Hundred'])\n",
        "                    elif i == 1:\n",
        "                        if q == 1:\n",
        "                            word.append(num2word10[num])\n",
        "                            return word\n",
        "                        else:\n",
        "                            word.append(num2word10[q])\n",
        "                    else:\n",
        "                        word.append(num2word[q])\n",
        "                \n",
        "                num %= 10**i\n",
        "                i -= 1\n",
        "            \n",
        "            return word\n",
        "        \n",
        "        if num == 0:\n",
        "            return 'Zero'\n",
        "                        \n",
        "        h = {9:'Billion', 6:'Million', 3:'Thousand'}\n",
        "        res = []\n",
        "        i = 9\n",
        "        while num > 0:\n",
        "            q, num = divmod(num, 10**i)\n",
        "            if q > 0:\n",
        "                res.extend(helper(q))\n",
        "                if i > 0:\n",
        "                    res.append(h[i])\n",
        "            i -= 3\n",
        "\n",
        "        return \" \".join(res)"
      ],
      "execution_count": null,
      "outputs": []
    },
    {
      "cell_type": "markdown",
      "metadata": {
        "id": "t2ZvQ2wmTSSR"
      },
      "source": [
        "## [Integer to Roman](https://leetcode.com/problems/integer-to-roman/)\n",
        "*Given an integer, convert it to a roman numeral.*"
      ]
    },
    {
      "cell_type": "code",
      "metadata": {
        "id": "UycV7p38Tard"
      },
      "source": [
        "class Solution:\n",
        "    def intToRoman(self, num: int) -> str:\n",
        "        dic = {\n",
        "            1:'I',\n",
        "            4:'IV',\n",
        "            5:'V',\n",
        "            9:'IX',\n",
        "            10:'X',\n",
        "            40:'XL',\n",
        "            50:'L',\n",
        "            90:'XC',\n",
        "            100:'C',\n",
        "            400:'CD',\n",
        "            500:'D',\n",
        "            900:'CM',\n",
        "            1000:'M'\n",
        "        }\n",
        "        res = \"\"\n",
        "        i = 3\n",
        "        while num > 0:\n",
        "            div = 10**i\n",
        "            q, num = divmod(num, div)\n",
        "            \n",
        "            if q > 0:\n",
        "                currnum = q*div\n",
        "                if currnum in dic: # q = 1, 4, 5, 9\n",
        "                    res += dic[currnum]\n",
        "                elif q < 5: # 2, 3\n",
        "                    res += dic[div]*q\n",
        "                else: # 6, 7, 8\n",
        "                    res += dic[5*div] + dic[div]*(q-5)\n",
        "            i -= 1\n",
        "        return res"
      ],
      "execution_count": null,
      "outputs": []
    },
    {
      "cell_type": "markdown",
      "metadata": {
        "id": "CGxga_byU8W1"
      },
      "source": [
        "# Palindrom\n",
        "- [Valid Palindrome](https://leetcode.com/problems/valid-palindrome/)\n",
        "-[Valid Palindrome II](https://leetcode.com/problems/valid-palindrome-ii/)\n",
        "-[Palindrome Permutation](https://leetcode.com/problems/palindrome-permutation/)\n",
        "-[Palindromic Substrings](https://leetcode.com/problems/palindromic-substrings/)\n",
        "-[Longest Palindromic Substring](https://leetcode.com/problems/longest-palindromic-substring/)\n",
        "-[Longest Palindromic Subsequence](https://leetcode.com/problems/longest-palindromic-subsequence/)\n",
        "-[Palindrome Partitioning](https://leetcode.com/problems/palindrome-partitioning/)\n",
        "-[Palindrome Pairs](https://leetcode.com/problems/palindrome-pairs/)\n",
        "-[Shortest Palindrome](https://leetcode.com/problems/shortest-palindrome/)\n"
      ]
    },
    {
      "cell_type": "markdown",
      "metadata": {
        "id": "15pw1cGAIa3Q"
      },
      "source": [
        "## Valid Palindrome\n",
        "*Given a string s, determine if it is a palindrome, considering only alphanumeric characters and ignoring cases.*"
      ]
    },
    {
      "cell_type": "code",
      "metadata": {
        "id": "fiAFsJW7U77c"
      },
      "source": [
        "class Solution:\n",
        "    def isPalindrome(self, s: str) -> bool:\n",
        "        \n",
        "        l, r = 0, len(s)-1\n",
        "        while l < r:\n",
        "            while l < r and not s[l].isalnum():\n",
        "                l += 1\n",
        "            while l < r and not s[r].isalnum():\n",
        "                r -= 1\n",
        "            \n",
        "            if s[l].lower() != s[r].lower():\n",
        "                return False\n",
        "            l += 1\n",
        "            r -= 1\n",
        "            \n",
        "        return True"
      ],
      "execution_count": null,
      "outputs": []
    },
    {
      "cell_type": "markdown",
      "metadata": {
        "id": "Pk8FWehvIlz9"
      },
      "source": [
        "## Valid Palindrome II\n",
        "*Given a string s, return true if the s can be palindrome after deleting at most one character from it.*"
      ]
    },
    {
      "cell_type": "code",
      "metadata": {
        "id": "EKk5dUNXIvIT"
      },
      "source": [
        "class Solution:\n",
        "    def validPalindrome(self, s: str) -> bool:\n",
        "\n",
        "        l, r = 0, len(s)-1\n",
        "        while l < r:\n",
        "            if s[l] == s[r]:\n",
        "                l += 1\n",
        "                r -= 1\n",
        "            else:\n",
        "                return self._validPalindrome(s, l+1, r) or self._validPalindrome(s, l, r-1)\n",
        "        \n",
        "        return True\n",
        "    \n",
        "    def _validPalindrome(self, s, l, r):\n",
        "\n",
        "        while l < r:\n",
        "            if s[l] != s[r]:\n",
        "                return False\n",
        "            l += 1\n",
        "            r -= 1\n",
        "        return True"
      ],
      "execution_count": null,
      "outputs": []
    },
    {
      "cell_type": "markdown",
      "metadata": {
        "id": "014GT0q9I2a8"
      },
      "source": [
        "## Palindrome Permutation\n",
        "*Given a string s, return true if a permutation of the string could form a palindrome.*"
      ]
    },
    {
      "cell_type": "code",
      "metadata": {
        "id": "o8nMmQYzJBDE"
      },
      "source": [
        "class Solution:\n",
        "    def canPermutePalindrome(self, s: str) -> bool:\n",
        "        \n",
        "        # Solution1. double pass with dic\n",
        "        dic = collections.defaultdict(int)\n",
        "        \n",
        "        for ch in s:\n",
        "            dic[ch] += 1\n",
        "        \n",
        "        oddcnt = 0\n",
        "        for cnt in dic.values():\n",
        "            if cnt % 2 == 1:\n",
        "                oddcnt += 1\n",
        "                if oddcnt > 1:\n",
        "                    return False\n",
        "        return True\n",
        "    \n",
        "    \n",
        "        # Solution2. single pass with dic\n",
        "        dic = collections.defaultdict(int)\n",
        "        oddcnt = 0\n",
        "        for ch in s:\n",
        "            dic[ch] += 1\n",
        "            if dic[ch] % 2 == 0:\n",
        "                oddcnt -= 1\n",
        "            else:\n",
        "                oddcnt += 1\n",
        "        return oddcnt <= 1\n",
        "    \n",
        "        \n",
        "        # Solution3. single pass with set\n",
        "        h = set()\n",
        "        for ch in s:\n",
        "            if ch in h:\n",
        "                h.remove(ch)\n",
        "            else:\n",
        "                h.add(ch)\n",
        "        return len(h) <= 1"
      ],
      "execution_count": null,
      "outputs": []
    },
    {
      "cell_type": "markdown",
      "metadata": {
        "id": "rTykOqQTJE4g"
      },
      "source": [
        "## Palindromic Substrings\n",
        "*Given a string s, return the number of palindromic substrings in it.*"
      ]
    },
    {
      "cell_type": "code",
      "metadata": {
        "id": "OhM5kSO2JP8E"
      },
      "source": [
        "class Solution:\n",
        "    def countSubstrings(self, s: str) -> int:\n",
        "        \"\"\"\n",
        "        dp[i][j]: # of palidromic substrings in s[i:j+1]\n",
        "        l = 1, ... n-1\n",
        "        i = 0, ..., n-l-1\n",
        "        j = i + l\n",
        "        \n",
        "        \"\"\"\n",
        "        n = len(s)\n",
        "        dp = [[False] * n for _ in range(n)]\n",
        "        for i in range(n):\n",
        "            dp[i][i] = True\n",
        "        \n",
        "        cnt = n\n",
        "        for l in range(1, n):\n",
        "            for i in range(n - l):\n",
        "                j = i + l\n",
        "                if s[i] == s[j] and (j - i + 1 <= 3 or dp[i+1][j-1] == True):\n",
        "                    dp[i][j] = True\n",
        "                    cnt += 1\n",
        "        return cnt"
      ],
      "execution_count": null,
      "outputs": []
    },
    {
      "cell_type": "markdown",
      "metadata": {
        "id": "VXlZE9f-JSdC"
      },
      "source": [
        "## Longest Palindromic Substring\n",
        "*Given a string s, return the longest palindromic substring in s.*"
      ]
    },
    {
      "cell_type": "code",
      "metadata": {
        "id": "ro_SiE_MJaxW"
      },
      "source": [
        "class Solution:\n",
        "    def longestPalindrome(self, s: str) -> str:\n",
        "        \"\"\"\n",
        "        dp[i][j]: whether s[i:j+1] is palindromic or not\n",
        "        \n",
        "        l = 1, ..., n-1\n",
        "        i = 0, ..., n-1-l\n",
        "        j = i + l\n",
        "        \"\"\"\n",
        "        n = len(s)\n",
        "        if n == 1:\n",
        "            return s\n",
        "        \n",
        "        dp = [[False] * n for _ in range(n)]\n",
        "        for i in range(n):\n",
        "            dp[i][i] = True\n",
        "            \n",
        "        maxstr = s[0]\n",
        "        for l in range(1, n):\n",
        "            for i in range(n - l):\n",
        "                j = i + l\n",
        "                if s[i] == s[j] and (j - i + 1 <= 3 or dp[i+1][j-1] == True):\n",
        "                    dp[i][j] = True\n",
        "                    maxstr = s[i:j+1]\n",
        "                else:\n",
        "                    dp[i][j] = False\n",
        "        return maxstr"
      ],
      "execution_count": null,
      "outputs": []
    },
    {
      "cell_type": "markdown",
      "metadata": {
        "id": "XvKenHDFJdcp"
      },
      "source": [
        "## Longest Palindromic Subsequence\n",
        "*Given a string s, find the longest palindromic subsequence's length in s.*"
      ]
    },
    {
      "cell_type": "code",
      "metadata": {
        "id": "_hFV3VsYJlCD"
      },
      "source": [
        "class Solution:\n",
        "    def longestPalindromeSubseq(self, s: str) -> int:\n",
        "        \"\"\"\n",
        "        dp[i][j]: the longest palindromic subsequence's length in s[i:j+1]\n",
        "        \n",
        "        l = 1, ..., n-1\n",
        "        i = 0, ..., n-l-1\n",
        "        j = i + l\n",
        "        \n",
        "        \"\"\"\n",
        "        n = len(s)\n",
        "        dp = [[0] * n for _ in range(n)]\n",
        "        for i in range(n):\n",
        "            dp[i][i] = 1\n",
        "        \n",
        "        for l in range(1, n):\n",
        "            for i in range(n - l):\n",
        "                j = i + l\n",
        "                if s[i] == s[j]:\n",
        "                    dp[i][j] = dp[i+1][j-1] + 2\n",
        "                else:\n",
        "                    dp[i][j] = max(dp[i+1][j], dp[i][j-1])\n",
        "                    \n",
        "        return dp[0][-1]"
      ],
      "execution_count": null,
      "outputs": []
    },
    {
      "cell_type": "markdown",
      "metadata": {
        "id": "3fH0VxiQJrOU"
      },
      "source": [
        "## Palindrome Partitioning\n",
        "*Given a string s, partition s such that every substring of the partition is a palindrome. Return all possible palindrome partitioning of s.*"
      ]
    },
    {
      "cell_type": "code",
      "metadata": {
        "id": "ZySw9ZLjJz-u"
      },
      "source": [
        "class Solution:\n",
        "    \n",
        "    def validPalindrome(self, st):\n",
        "        \n",
        "        l, r = 0, len(st) - 1\n",
        "        while l < r:\n",
        "            if st[l] == st[r]:\n",
        "                l += 1\n",
        "                r -= 1\n",
        "            else:\n",
        "                return False\n",
        "        return True\n",
        "            \n",
        "        \n",
        "    def partition(self, s: str) -> List[List[str]]:\n",
        "        \n",
        "        def helper(i=0, curr=[]):\n",
        "            \n",
        "            if i == n:\n",
        "                res.append(curr)\n",
        "                return \n",
        "            \n",
        "            for j in range(i, n):\n",
        "                if self.validPalindrome(s[i:j+1]):\n",
        "                    helper(j+1, curr + [s[i:j+1]])\n",
        "            \n",
        "        n = len(s)\n",
        "        res = []\n",
        "        helper()\n",
        "        return res"
      ],
      "execution_count": null,
      "outputs": []
    },
    {
      "cell_type": "markdown",
      "metadata": {
        "id": "iGo5Ge9OJ7zx"
      },
      "source": [
        "## Palindrome Pairs\n",
        "*Given a list of unique words, return all the pairs of the distinct indices (i, j) in the given list, so that the concatenation of the two words words[i] + words[j] is a palindrome.*"
      ]
    },
    {
      "cell_type": "code",
      "metadata": {
        "id": "9dYKepsiJ_ri"
      },
      "source": [
        "class Solution:\n",
        "    def palindromePairs(self, words: List[str]) -> List[List[int]]:\n",
        "        \"\"\"\n",
        "        (i, j), (j, i) \n",
        "        \"\"\"\n",
        "        # Solution1 Brute Force. TLE\n",
        "        # O(n^2 * k), O(n)\n",
        "        n = len(words)\n",
        "        res = []\n",
        "        for i in range(n-1):\n",
        "            for j in range(i+1, n):\n",
        "                if self.validPalindrome(words[i] + words[j]):\n",
        "                    res.append([i, j])\n",
        "                if self.validPalindrome(words[j] + words[i]):\n",
        "                    res.append([j, i])\n",
        "        return res\n",
        "        \n",
        "        \n",
        "        \"\"\"\n",
        "        i = 0, ..., n\n",
        "        rev_suff pref        suff\n",
        "                 word[:i]    word[i:]\n",
        "        dcba     i=0 \"\"      abcd           \n",
        "        dcb      i=1 a       bcd    \n",
        "                 i=2 ab      \n",
        "                 i=3 abc\n",
        "                 i=4 abcd\n",
        "        \n",
        "        pref     suff        rev_pref\n",
        "        word[:i] word[i:]\n",
        "                 i=0 abcd\n",
        "                 i=1 bcd\n",
        "                 i=2 cd\n",
        "        abc      i=3 d       cba\n",
        "   \n",
        "        \"\"\"\n",
        "        # Solution2 dict\n",
        "        n = len(words)\n",
        "        wordsdic = {word:i for i, word in enumerate(words)}\n",
        "        res = []\n",
        "        for idx, word in enumerate(words):\n",
        "            \n",
        "            reword = word[::-1]\n",
        "            if reword in wordsdic and wordsdic[reword]!= idx:\n",
        "                res.append([idx, wordsdic[reword]])\n",
        "            if word == reword and word !=\"\" and \"\" in wordsdic:\n",
        "                res.extend([[idx, wordsdic[\"\"]],[wordsdic[\"\"], idx]])\n",
        "            \n",
        "            for i in range(1, len(word)):\n",
        "                pref = word[:i]\n",
        "                suff = word[i:]\n",
        "                rev_pref = pref[::-1]\n",
        "                rev_suff = suff[::-1]\n",
        "                \n",
        "                if self.validPalindrome(pref) and rev_suff in wordsdic:\n",
        "                    res.append([wordsdic[rev_suff], idx])\n",
        "                if self.validPalindrome(suff) and rev_pref in wordsdic:\n",
        "                    res.append([idx, wordsdic[rev_pref]])\n",
        "\n",
        "        return res\n",
        "\n",
        "    def validPalindrome(self, st):\n",
        "        \n",
        "        l, r = 0, len(st) - 1\n",
        "        while l < r:\n",
        "            if st[l] == st[r]:\n",
        "                l += 1\n",
        "                r -= 1\n",
        "            else:\n",
        "                return False\n",
        "        return True"
      ],
      "execution_count": null,
      "outputs": []
    },
    {
      "cell_type": "markdown",
      "metadata": {
        "id": "z1pzo7FlKQRc"
      },
      "source": [
        "## Shortest Palindrome\n",
        "*You are given a string s. You can convert s to a palindrome by adding characters in front of it. Return the shortest palindrome you can find by performing this transformation.*"
      ]
    },
    {
      "cell_type": "code",
      "metadata": {
        "id": "w3K3M0d1KXl7"
      },
      "source": [
        "class Solution:\n",
        "    def shortestPalindrome(self, s: str) -> str:\n",
        "        \n",
        "        # Solution1 TLE\n",
        "        for i in range(len(s) + 1, 0, -1):\n",
        "            pref = s[:i]\n",
        "            suff = s[i:]\n",
        "            rev_suff = suff[::-1]\n",
        "            if self.validPalindrome(pref):\n",
        "                return rev_suff + s\n",
        "        return \"\"\n",
        "\n",
        "    def validPalindrome(self, st):\n",
        "        \n",
        "        l, r = 0, len(st)-1\n",
        "        while l < r:\n",
        "            if st[l] == st[r]:\n",
        "                l += 1\n",
        "                r -= 1\n",
        "            else:\n",
        "                return False\n",
        "        return True"
      ],
      "execution_count": null,
      "outputs": []
    }
  ]
}
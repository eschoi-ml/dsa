{
  "nbformat": 4,
  "nbformat_minor": 0,
  "metadata": {
    "colab": {
      "name": "string.ipynb",
      "provenance": [],
      "authorship_tag": "ABX9TyOocgId0mTrjZGD/N5XzRpP",
      "include_colab_link": true
    },
    "kernelspec": {
      "name": "python3",
      "display_name": "Python 3"
    },
    "language_info": {
      "name": "python"
    }
  },
  "cells": [
    {
      "cell_type": "markdown",
      "metadata": {
        "id": "view-in-github",
        "colab_type": "text"
      },
      "source": [
        "<a href=\"https://colab.research.google.com/github/eschoi-ml/dsa/blob/main/string.ipynb\" target=\"_parent\"><img src=\"https://colab.research.google.com/assets/colab-badge.svg\" alt=\"Open In Colab\"/></a>"
      ]
    },
    {
      "cell_type": "markdown",
      "metadata": {
        "id": "7WM6CGh6vCpS"
      },
      "source": [
        "# String\n",
        "\n",
        "- [Text Justification](https://leetcode.com/problems/text-justification/)\n",
        "- [Rearrange Spaces Between Words](https://leetcode.com/problems/rearrange-spaces-between-words/)"
      ]
    },
    {
      "cell_type": "markdown",
      "metadata": {
        "id": "A_h_wz69vhAd"
      },
      "source": [
        "## [Text Justification](https://leetcode.com/problems/text-justification/)"
      ]
    },
    {
      "cell_type": "code",
      "metadata": {
        "id": "2u-Y2OD2uq8K"
      },
      "source": [
        "class Solution:\n",
        "    def fullJustify(self, words, maxWidth):\n",
        "        \"\"\"\n",
        "        full jutify\n",
        "        - not even, more on left\n",
        "        \n",
        "        left justify\n",
        "        - one word\n",
        "        - last line\n",
        "        \n",
        "        \"\"\"\n",
        "        n = len(words)\n",
        "        res = []\n",
        "        \n",
        "        i = 0\n",
        "        while i < n:\n",
        "            \n",
        "            j = i           # index\n",
        "            currlen = 0     # words length without space\n",
        "            while j < n and currlen + len(words[j]) + j - i <= maxWidth:\n",
        "                currlen += len(words[j])\n",
        "                j += 1\n",
        "            \n",
        "            # left justify\n",
        "            if j == i+1 or j == n:\n",
        "                res.append(\" \".join(words[i:j]) + \" \" * (maxWidth - currlen - (j-1-i)))\n",
        " \n",
        "            # full justify\n",
        "            else:\n",
        "                space = \" \" * ((maxWidth - currlen) // (j - i - 1))\n",
        "                rem = (maxWidth - currlen) % (j - i - 1)            \n",
        "\n",
        "                curr_res = \"\"\n",
        "                while i < j-1:\n",
        "\n",
        "                    curr_res += words[i] + space\n",
        "                    if rem > 0:\n",
        "                        curr_res += \" \"\n",
        "                        rem -= 1\n",
        "                    i += 1\n",
        "                curr_res += words[i]\n",
        "                res.append(curr_res)\n",
        "            \n",
        "            i = j\n",
        "        \n",
        "        return res"
      ],
      "execution_count": null,
      "outputs": []
    }
  ]
}
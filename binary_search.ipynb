{
  "nbformat": 4,
  "nbformat_minor": 0,
  "metadata": {
    "colab": {
      "name": "binary_search.ipynb",
      "provenance": [],
      "authorship_tag": "ABX9TyPZJ07FB2gMdGGc+15ewNBw",
      "include_colab_link": true
    },
    "kernelspec": {
      "name": "python3",
      "display_name": "Python 3"
    },
    "language_info": {
      "name": "python"
    }
  },
  "cells": [
    {
      "cell_type": "markdown",
      "metadata": {
        "id": "view-in-github",
        "colab_type": "text"
      },
      "source": [
        "<a href=\"https://colab.research.google.com/github/eschoi-ml/dsa/blob/main/binary_search.ipynb\" target=\"_parent\"><img src=\"https://colab.research.google.com/assets/colab-badge.svg\" alt=\"Open In Colab\"/></a>"
      ]
    },
    {
      "cell_type": "markdown",
      "metadata": {
        "id": "3w0e_uktFYmB"
      },
      "source": [
        "# Ultimate Binary Search Template\n",
        "This is an ultimate binary search template inspired by and improved from [this.](https://towardsdatascience.com/powerful-ultimate-binary-search-template-and-many-leetcode-problems-1f850ef95651)"
      ]
    },
    {
      "cell_type": "markdown",
      "metadata": {
        "id": "6TBVakS6XMmY"
      },
      "source": [
        "1. Initialize l inclusively and r exclusively: [l, r)\n",
        "2. Decide whether your searching value is **minimal** or **maximal** and design the condition accordingly.\n",
        "3. Return l or l-1\n",
        "- return l when searching **minimal** value that satisfies the condition\n",
        "- return l-1 when searching **maximal** value that does NOT satisfy the condition"
      ]
    },
    {
      "cell_type": "code",
      "metadata": {
        "id": "0ySp5GYKFM-S"
      },
      "source": [
        "l, r = 0, len(array)        # l inclusive, r exclusive: the answer lies in [l, r)\n",
        "while l < r:\n",
        "    mid = (l + r)//2\n",
        "    if condition(mid):      # condition function such that l is the minimal k that satisfies the condition\n",
        "        r = mid             # condition function such that l-1 is the maximal k that doesn't satisfy the condition\n",
        "    else:\n",
        "        l = mid + 1\n",
        "return l or l-1             # return l or l-1"
      ],
      "execution_count": null,
      "outputs": []
    },
    {
      "cell_type": "markdown",
      "metadata": {
        "id": "tmmzehr2I3v8"
      },
      "source": [
        "## Basic application \n",
        "### [278. First Bad Version](https://leetcode.com/problems/first-bad-version/)\n"
      ]
    },
    {
      "cell_type": "code",
      "metadata": {
        "id": "z3HlDfvzJbEc"
      },
      "source": [
        "def firstBadVersion(self, n):\n",
        "    l, r = 1, n+1\n",
        "    while l < r:\n",
        "        mid = (l + r)//2\n",
        "        if isBadVersion(mid):\n",
        "            r = mid\n",
        "        else:\n",
        "            l = mid + 1\n",
        "    return l"
      ],
      "execution_count": null,
      "outputs": []
    },
    {
      "cell_type": "markdown",
      "metadata": {
        "id": "SMdNzXw9QMQg"
      },
      "source": [
        "### [35. Search Insert Position](https://leetcode.com/problems/search-insert-position/)"
      ]
    },
    {
      "cell_type": "code",
      "metadata": {
        "id": "ZNX62bNfT6Gv"
      },
      "source": [
        "def searchInsert(self, nums: List[int], target: int) -> int:\n",
        "    \n",
        "    l, r = 0, len(nums)\n",
        "    while l < r:\n",
        "        mid = (l + r)//2\n",
        "        if nums[mid] >= target:\n",
        "            r = mid\n",
        "        else:\n",
        "            l = mid + 1\n",
        "    return l"
      ],
      "execution_count": null,
      "outputs": []
    },
    {
      "cell_type": "markdown",
      "metadata": {
        "id": "lmyNTUOlLR_n"
      },
      "source": [
        "### [69. Sqrt(x)](https://leetcode.com/problems/sqrtx/)"
      ]
    },
    {
      "cell_type": "code",
      "metadata": {
        "id": "VwQ9GL02Lf0t"
      },
      "source": [
        "def mySqrt(self, x: int) -> int:\n",
        "    \"\"\"\n",
        "    mid^2 <= x < (mid+1)^2\n",
        "\n",
        "    \"\"\"\n",
        "    if x == 0: return 0\n",
        "    \n",
        "    l, r = 1, x+1\n",
        "    while l < r:\n",
        "        mid = (l + r)//2\n",
        "        if x < (mid+1)**2:\n",
        "            r = mid\n",
        "        else:\n",
        "            l = mid + 1\n",
        "\n",
        "    return l\n",
        "\n",
        "    l, r = 1, x+1\n",
        "    while l < r:\n",
        "        mid = (l + r)//2\n",
        "        if mid * mid > x:\n",
        "            r = mid\n",
        "        else:\n",
        "            l = mid + 1\n",
        "\n",
        "    return l-1"
      ],
      "execution_count": null,
      "outputs": []
    },
    {
      "cell_type": "markdown",
      "metadata": {
        "id": "5uybRM7nI6cS"
      },
      "source": [
        "### [981. Time Based Key-Value Store](https://leetcode.com/problems/time-based-key-value-store/)"
      ]
    },
    {
      "cell_type": "code",
      "metadata": {
        "id": "U7qIxC7UI59I"
      },
      "source": [
        "def get(self, key: str, timestamp: int) -> str:\n",
        "    \n",
        "    if key not in self.h: return \"\"\n",
        "    \n",
        "    l, r = 0, len(self.h[key])\n",
        "    while l < r:\n",
        "        mid = (l + r)//2\n",
        "        if self.h[key][mid][0] > timestamp:\n",
        "            r = mid\n",
        "        else:\n",
        "            l = mid + 1\n",
        "\n",
        "    if l-1 >= 0:\n",
        "        return self.h[key][l-1][1]\n",
        "    return \"\""
      ],
      "execution_count": null,
      "outputs": []
    },
    {
      "cell_type": "markdown",
      "metadata": {
        "id": "7LAZUoh2551J"
      },
      "source": [
        "### [704. Binary Search](https://leetcode.com/problems/binary-search/)"
      ]
    },
    {
      "cell_type": "code",
      "metadata": {
        "id": "c1KzsHH_6Aw0"
      },
      "source": [
        "def search(self, nums: List[int], target: int) -> int:\n",
        "    \n",
        "    if not nums or nums[0] > target or nums[-1] < target: return -1\n",
        "\n",
        "    l, r = 0, len(nums)\n",
        "    while l < r:\n",
        "        mid = (l + r)//2\n",
        "        if nums[mid]>=target:\n",
        "            r = mid\n",
        "        else:\n",
        "            l = mid + 1\n",
        "    return l if nums[l] == target else -1"
      ],
      "execution_count": null,
      "outputs": []
    },
    {
      "cell_type": "markdown",
      "metadata": {
        "id": "BezOpfN_K9lo"
      },
      "source": [
        "### [74. Search a 2D Matrix](https://leetcode.com/problems/search-a-2d-matrix/)"
      ]
    },
    {
      "cell_type": "code",
      "metadata": {
        "id": "MBPkggyDK77v"
      },
      "source": [
        "def searchMatrix(self, matrix: List[List[int]], target: int) -> bool:\n",
        "    \n",
        "    m, n = len(matrix), len(matrix[0])\n",
        "    \n",
        "    # row\n",
        "    l, r = 0, m\n",
        "    while l < r:\n",
        "        mid = (l + r)//2\n",
        "        if matrix[mid][0] > target:\n",
        "            r = mid\n",
        "        else:\n",
        "            l = mid + 1\n",
        "    row = l-1\n",
        "    \n",
        "    # col\n",
        "    l, r = 0, n\n",
        "    while l < r:\n",
        "        mid = (l+r)//2\n",
        "        if matrix[row][mid] > target:\n",
        "            r = mid\n",
        "        else:\n",
        "            l = mid + 1\n",
        "    col = l-1\n",
        "    return matrix[row][col]==target"
      ],
      "execution_count": null,
      "outputs": []
    },
    {
      "cell_type": "markdown",
      "metadata": {
        "id": "j7-teLq6Zina"
      },
      "source": [
        "## Advanced application\n",
        "- Type 1: Create a condition using a **feasible** function\n",
        "- Type 2: Create a **enough** function for counting\n",
        "- Type 3: Create a **cumsum** array to make it sorted"
      ]
    },
    {
      "cell_type": "markdown",
      "metadata": {
        "id": "ubQ6WgptTLib"
      },
      "source": [
        "### [1011. Capacity To Ship Packages Within D Days](https://leetcode.com/problems/capacity-to-ship-packages-within-d-days/)"
      ]
    },
    {
      "cell_type": "code",
      "metadata": {
        "id": "MYxA9DGBZpJa"
      },
      "source": [
        "def shipWithinDays(self, weights: List[int], D: int) -> int:\n",
        "    \n",
        "    def feasible(capacity):\n",
        "        \n",
        "        cnt = 1\n",
        "        total = 0\n",
        "        for weight in weights:\n",
        "            total += weight\n",
        "            if total > capacity:\n",
        "                total = weight\n",
        "                cnt += 1\n",
        "                if cnt > D:\n",
        "                    return False\n",
        "        return True\n",
        "        \n",
        "\n",
        "    l, r = max(weights), sum(weights)\n",
        "    while l < r:\n",
        "        mid = (l + r)//2\n",
        "        if feasible(mid):\n",
        "            r = mid\n",
        "        else:\n",
        "            l = mid + 1\n",
        "    return l"
      ],
      "execution_count": null,
      "outputs": []
    },
    {
      "cell_type": "markdown",
      "metadata": {
        "id": "zDzeAnnTQ28U"
      },
      "source": [
        "### [410. Split Array Largest Sum](https://leetcode.com/problems/split-array-largest-sum/)"
      ]
    },
    {
      "cell_type": "code",
      "metadata": {
        "id": "4L-NipjmQ9KM"
      },
      "source": [
        "def splitArray(self, nums: List[int], m: int) -> int:\n",
        "    \n",
        "    def feasible(s):\n",
        "        \n",
        "        cnt = 1\n",
        "        total = 0\n",
        "        for num in nums:\n",
        "            total += num\n",
        "            if total > s:\n",
        "                total = num\n",
        "                cnt += 1\n",
        "                if cnt > m:\n",
        "                    return False\n",
        "        return True\n",
        "        \n",
        "    \n",
        "    l, r = max(nums), sum(nums)+1\n",
        "    while l < r:\n",
        "        mid = (l + r)//2\n",
        "        if feasible(mid):\n",
        "            r = mid\n",
        "        else:\n",
        "            l = mid + 1\n",
        "    return l"
      ],
      "execution_count": null,
      "outputs": []
    },
    {
      "cell_type": "markdown",
      "metadata": {
        "id": "LdGQ2rBFRXcX"
      },
      "source": [
        "### [875. Koko Eating Bananas](https://leetcode.com/problems/koko-eating-bananas/)"
      ]
    },
    {
      "cell_type": "code",
      "metadata": {
        "id": "dPLb36m8RTkT"
      },
      "source": [
        "def minEatingSpeed(self, piles: List[int], h: int) -> int:\n",
        "        \n",
        "    def feasible(speed):\n",
        "        \n",
        "        hr = 0\n",
        "        for pile in piles:\n",
        "            hr += math.ceil(pile/speed)\n",
        "        return hr <= h\n",
        "            \n",
        "    if len(piles) > h:\n",
        "        return max(piles[:h])\n",
        "    \n",
        "    if len(piles) == h:\n",
        "        return max(piles)\n",
        "    \n",
        "    # len(piles) < h\n",
        "    \n",
        "    l, r = 1, max(piles)\n",
        "    while l < r:\n",
        "        mid = (l + r)//2\n",
        "        if feasible(mid):\n",
        "            r = mid\n",
        "        else:\n",
        "            l = mid + 1\n",
        "    return l"
      ],
      "execution_count": null,
      "outputs": []
    },
    {
      "cell_type": "markdown",
      "metadata": {
        "id": "pm9hf717Xb98"
      },
      "source": [
        "### [668. Kth Smallest Number in Multiplication Table](https://leetcode.com/problems/kth-smallest-number-in-multiplication-table/)"
      ]
    },
    {
      "cell_type": "code",
      "metadata": {
        "id": "lQETuHp2Xitv"
      },
      "source": [
        "def findKthNumber(self, m: int, n: int, k: int) -> int:\n",
        "    \"\"\"\n",
        "    row\\col  1   2   3   4   5\n",
        "        1   1*1 1*2 1*3 1*4 1*5\n",
        "        2   2*1 2*2 2*3 2*4 2*5\n",
        "        3   3*1 3*2 3*3 3*4 3*5\n",
        "    \n",
        "    \"\"\"\n",
        "\n",
        "    def enough(mid):\n",
        "        \n",
        "        cnt = 0\n",
        "        row = 1\n",
        "        while row < m+1:\n",
        "            curr_cnt = min(mid//row, n) # min(5, 3) min(2, 3) min(1, 3)\n",
        "            if curr_cnt == 0:\n",
        "                break\n",
        "            cnt += curr_cnt    \n",
        "            row += 1\n",
        "        \n",
        "        return cnt >= k\n",
        "    \n",
        "    l, r = 1, m * n\n",
        "    while l < r:\n",
        "        mid = (l + r)//2\n",
        "        if enough(mid):\n",
        "            r = mid\n",
        "        else:\n",
        "            l = mid + 1\n",
        "    return l"
      ],
      "execution_count": null,
      "outputs": []
    },
    {
      "cell_type": "markdown",
      "metadata": {
        "id": "ttwmm3CFXooc"
      },
      "source": [
        "### [719. Find K-th Smallest Pair Distance](https://leetcode.com/problems/find-k-th-smallest-pair-distance/)"
      ]
    },
    {
      "cell_type": "code",
      "metadata": {
        "id": "stRAFCHWXnkB"
      },
      "source": [
        "def smallestDistancePair(self, nums: List[int], k: int) -> int:\n",
        "    \"\"\"\n",
        "    0, 1, 2, 3, 4,  5\n",
        "    1, 1, 2, 4, 7, 10 m = 3\n",
        "    i=0, j=4 cnt+= j-i-1(3)\n",
        "    i=1, j=4 cnt+= 2\n",
        "    i=2, j=4 cnt+= 1\n",
        "    i=3, j=5 cnt+= 1\n",
        "    i=4, j=6 cnt+= 1\n",
        "    i=5, j=6 cnt+= 0\n",
        "    i=\n",
        "    \n",
        "    \"\"\"\n",
        "    \n",
        "    def enough(m):\n",
        "        \n",
        "        cnt = 0\n",
        "        i, j = 0, 0\n",
        "        while i < n:\n",
        "            while j < n and nums[j] - nums[i] <= m:\n",
        "                j += 1\n",
        "            cnt += j-i-1\n",
        "            i += 1           \n",
        "        return cnt >= k\n",
        "\n",
        "    nums.sort() # nlogn\n",
        "    n = len(nums)\n",
        "    \n",
        "    l, r = 0, nums[-1] - nums[0]\n",
        "    while l < r:\n",
        "        mid = (l + r)//2\n",
        "        if enough(mid):\n",
        "            r = mid\n",
        "        else:\n",
        "            l = mid + 1\n",
        "    return l"
      ],
      "execution_count": null,
      "outputs": []
    },
    {
      "cell_type": "markdown",
      "metadata": {
        "id": "x281AI1Xbz3v"
      },
      "source": [
        "### [378. Kth Smallest Element in a Sorted Matrix](https://leetcode.com/problems/kth-smallest-element-in-a-sorted-matrix/)\n"
      ]
    },
    {
      "cell_type": "code",
      "metadata": {
        "id": "-u1BiYJccFDo"
      },
      "source": [
        "def kthSmallest(self, matrix: List[List[int]], k: int) -> int:\n",
        "    \"\"\"\n",
        "    k = 8\n",
        "    \n",
        "    1  5  9\n",
        "    10 11 13\n",
        "    12 13 15\n",
        "    \n",
        "\n",
        "    \"\"\"\n",
        "    def count(mid):\n",
        "        \n",
        "        cnt = 0\n",
        "        \n",
        "        row, col = n - 1, 0\n",
        "        smaller, larger = matrix[0][0], matrix[n-1][n-1]\n",
        "        \n",
        "        while row >= 0 and col < n:\n",
        "            if matrix[row][col] > mid:\n",
        "                larger = min(matrix[row][col], larger)\n",
        "                row -= 1\n",
        "            else:\n",
        "                smaller = max(matrix[row][col], smaller)\n",
        "                cnt += row + 1\n",
        "                col += 1\n",
        "                \n",
        "        return cnt, smaller, larger\n",
        "    \n",
        "    def enough(m):\n",
        "        \n",
        "        cnt = 0\n",
        "        i, j = n-1, 0\n",
        "        while i >= 0 and j < n:\n",
        "            if matrix[i][j] > m:\n",
        "                i -= 1\n",
        "            else:\n",
        "                j += 1\n",
        "                cnt += i+1\n",
        "            \n",
        "        return cnt >= k\n",
        "    \n",
        "    n = len(matrix)\n",
        "    l, r = matrix[0][0], matrix[n-1][n-1]\n",
        "    while l < r:\n",
        "        \n",
        "        mid = (l + r)//2\n",
        "        \n",
        "        if enough(mid):\n",
        "            r = mid\n",
        "        else:\n",
        "            l = mid + 1\n",
        "    \n",
        "    return l"
      ],
      "execution_count": null,
      "outputs": []
    },
    {
      "cell_type": "markdown",
      "metadata": {
        "id": "pKXSbjHNGohM"
      },
      "source": [
        "### [528. Random Pick with Weight](https://leetcode.com/problems/random-pick-with-weight/)"
      ]
    },
    {
      "cell_type": "code",
      "metadata": {
        "id": "OA8vCjR9GnD7"
      },
      "source": [
        "class Solution:\n",
        "    \"\"\"\n",
        "    array = [1, 3, 6]\n",
        "    dist = [1/10, 4/10, 10/10] = [0.1, 0.4, 1.0]\n",
        "    choose 0<= target< 1 random.random()\n",
        "    if target<0.1: return 0\n",
        "    elif target<0.4: return 1\n",
        "    elif target<1: return 2\n",
        "    \"\"\"\n",
        "\n",
        "    def __init__(self, w: List[int]):\n",
        "        \n",
        "        self.dist = [w[0]]\n",
        "        for i in range(1, len(w)):\n",
        "            self.dist[i] = self.dist[i-1] + w[i]\n",
        "        \n",
        "    def pickIndex(self) -> int:\n",
        "        \n",
        "        target = self.dist[-1] * random.random()\n",
        "        l, r = 0, len(self.dist)\n",
        "        while l < r:\n",
        "            mid = (l + r)//2\n",
        "            if target < self.dist[mid]:\n",
        "                r = mid\n",
        "            else: # self.dist[mid] >= target\n",
        "                l = mid + 1\n",
        "        return l"
      ],
      "execution_count": null,
      "outputs": []
    },
    {
      "cell_type": "markdown",
      "metadata": {
        "id": "Am9Uc5hXLzwS"
      },
      "source": [
        "### [900. RLE Iterator](https://leetcode.com/problems/rle-iterator/)"
      ]
    },
    {
      "cell_type": "code",
      "metadata": {
        "id": "tKFmU_DSL4vC"
      },
      "source": [
        "class RLEIterator:\n",
        "    \"\"\"\n",
        "    [3, 8, 0, 9, 2, 5]\n",
        "    seq = [8, 8, 8, 5, 5]\n",
        "    next(2) = 8\n",
        "    next(1) = 8\n",
        "    next(1) = 5\n",
        "    next(2) = -1\n",
        "    \n",
        "    self.count = [3, 3, 5]\n",
        "    self.nums = [8, 9, 5]\n",
        "    self.pointer = 0\n",
        "    \n",
        "    next(1)\n",
        "    self.pointer = self.pointer(0) + 1 = 1\n",
        "    \n",
        "    binary search where self.pointer is located in self.count array\n",
        "    l, r = 0, len(self.count)\n",
        "\n",
        "    \"\"\"\n",
        "\n",
        "    def __init__(self, A: List[int]):\n",
        "        \n",
        "        n = len(A)//2\n",
        "        self.count = [A[0]]\n",
        "        self.nums = [A[1]]\n",
        "        for i in range(1, n):\n",
        "            self.count.append(self.count[i-1] + A[2*i])\n",
        "            self.nums.append(A[2*i+1])  \n",
        "        self.pointer = 0\n",
        "        \n",
        "    def next(self, n: int) -> int:\n",
        "        \n",
        "        self.pointer += n\n",
        "        if self.pointer > self.count[-1]:\n",
        "            return -1\n",
        "        \n",
        "        l, r = 0, len(self.count)\n",
        "        while l < r:\n",
        "            mid = (l + r)//2\n",
        "            if self.pointer <= self.count[mid]:\n",
        "                r = mid\n",
        "            else:\n",
        "                l = mid + 1\n",
        "        return self.nums[l]"
      ],
      "execution_count": null,
      "outputs": []
    }
  ]
}
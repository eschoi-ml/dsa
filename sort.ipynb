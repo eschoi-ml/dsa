{
  "nbformat": 4,
  "nbformat_minor": 0,
  "metadata": {
    "colab": {
      "name": "sort.ipynb",
      "provenance": [],
      "collapsed_sections": [],
      "toc_visible": true,
      "authorship_tag": "ABX9TyMxPFY4OPs3M90A4vezLugW",
      "include_colab_link": true
    },
    "kernelspec": {
      "name": "python3",
      "display_name": "Python 3"
    },
    "language_info": {
      "name": "python"
    }
  },
  "cells": [
    {
      "cell_type": "markdown",
      "metadata": {
        "id": "view-in-github",
        "colab_type": "text"
      },
      "source": [
        "<a href=\"https://colab.research.google.com/github/eschoi-ml/dsa/blob/main/sort.ipynb\" target=\"_parent\"><img src=\"https://colab.research.google.com/assets/colab-badge.svg\" alt=\"Open In Colab\"/></a>"
      ]
    },
    {
      "cell_type": "markdown",
      "source": [
        "# Sort\n",
        "1. Bogo Sort: best O(n), avg O(n*n!) worst O(inf) & O(1), randomly shuffle\n",
        "1. Bubble Sort: best, avg, worst O(n^2) & O(1), compare arr[j] vs. arr[j+1] with j = 0 to n - 1 - i when 0 <= i <= n-1 \n",
        "1. **Insertion Sort**: best O(n), avg and worst O(n^2) & O(1), key = arr[i] j = i-1 to 0\n",
        "1. Shell Sort: best O(nlogn), worst O(n^2) & O(1), extension of **Insertion Sort** with gaps\n",
        "1. Selection Sort: best, avg, worst O(n^2) & O(1), find the smallest one and place it in the front\n",
        "1. **Merge Sort**: best, avg, worst O(nlogn) & O(n), divide and conquer\n",
        "1. **Quick Sort**: best, avg, worst O(nlogn) & O(nlogn) inplace except for call stacks, [elements < pivot] + [pivot] + [elements >= pivot]\n",
        "1. **Heap Sort**: heapq.heapify()-O(n), heapq.heappush() heapq.heappop()-O(nlogn), a Binary Heap is a Complete Binary Tree where items are stored in a special order such that value in a parent node is greater(max-heap)or smaller(min-heap) than the values in its two children nodes\n",
        "1. Counting Sort: O(n + range_n) & O(n + range_n), by range(min_ele to max_ele, 10^n), or alphabet, count_arr, output_arr\n",
        "1. Radix Sort: O(d*(n + b)) & O(n + b), repeat counting sort\n",
        "1. **Bucket Sort**: worst O(n^2), best O(n+k) & O(n+k), great for uniformly distributed input, use **Insertion Sort** for each bucket\n",
        "1. **Tim Sort**: O(nlogn), used in Python sorted(), list.sort(), **Insertion Sort** + Merge Sort\n",
        "\n"
      ],
      "metadata": {
        "id": "mUdit5A48uZF"
      }
    },
    {
      "cell_type": "code",
      "source": [
        "arr = [3,2,13,4,6,5,7,8,1,20]\n",
        "arr2 = [170, 45, 75, 90, 802, 24, 2, 66]\n",
        "arr3 = [0.899, 0.666, 0.897, 0.565, 0.656, 0.1234, 0.665, 0.3434]\n",
        "print('unsorted arr1: ', arr)\n",
        "print('unsorted arr2: ', arr2)\n",
        "print('unsorted arr3: ', arr3)"
      ],
      "metadata": {
        "colab": {
          "base_uri": "https://localhost:8080/"
        },
        "id": "zEZT-HXk9WVv",
        "outputId": "e0bb7dc9-3ded-4b30-a809-4be9be9b09b1"
      },
      "execution_count": 35,
      "outputs": [
        {
          "output_type": "stream",
          "name": "stdout",
          "text": [
            "unsorted arr1:  [3, 2, 13, 4, 6, 5, 7, 8, 1, 20]\n",
            "unsorted arr2:  [170, 45, 75, 90, 802, 24, 2, 66]\n",
            "unsorted arr3:  [0.899, 0.666, 0.897, 0.565, 0.656, 0.1234, 0.665, 0.3434]\n"
          ]
        }
      ]
    },
    {
      "cell_type": "markdown",
      "source": [
        "## 1. Bogo Sort\n",
        "Shuffle untile sorted"
      ],
      "metadata": {
        "id": "WkY1r8pA9KTi"
      }
    },
    {
      "cell_type": "code",
      "execution_count": 10,
      "metadata": {
        "colab": {
          "base_uri": "https://localhost:8080/"
        },
        "id": "ahCdaxPE8eSN",
        "outputId": "cb41384f-97c6-40c2-cfdf-8ef9108dbacc"
      },
      "outputs": [
        {
          "output_type": "stream",
          "name": "stdout",
          "text": [
            "Bogo Sort:  [1, 2, 3, 4, 5, 6, 7, 8, 13, 20]\n"
          ]
        }
      ],
      "source": [
        "import random\n",
        "\n",
        "def bogo_sort(arr):\n",
        "    def isSorted(arr):\n",
        "        if len(arr) < 2: return True\n",
        "        n = len(arr)\n",
        "        for i in range(n-1):\n",
        "            if arr[i] > arr[i+1]:\n",
        "                return False\n",
        "        return True\n",
        "    while not isSorted(arr):\n",
        "        random.shuffle(arr)\n",
        "    print(\"Bogo Sort: \", arr)\n",
        "\n",
        "bogo_sort(arr)\n"
      ]
    },
    {
      "cell_type": "markdown",
      "source": [
        "## 2. Bubble Sort\n",
        "    o o o o x\n",
        "    o o o x\n",
        "    o o x\n",
        "    o x\n"
      ],
      "metadata": {
        "id": "AS374ACaDH8Z"
      }
    },
    {
      "cell_type": "code",
      "source": [
        "def bubble_sort(arr):\n",
        "    n = len(arr)\n",
        "    for i in range(n-1):\n",
        "        for j in range(n-1-i):\n",
        "            if arr[j] > arr[j+1]:\n",
        "                arr[j], arr[j+1] = arr[j+1], arr[j]\n",
        "\n",
        "    print('Bubble Sort: ', arr)\n",
        "\n",
        "bubble_sort(arr)"
      ],
      "metadata": {
        "colab": {
          "base_uri": "https://localhost:8080/"
        },
        "id": "Gptz6hSZCFqX",
        "outputId": "be421ada-8d99-4ef4-be25-73cb32d4374d"
      },
      "execution_count": 9,
      "outputs": [
        {
          "output_type": "stream",
          "name": "stdout",
          "text": [
            "Bubble Sort:  [1, 2, 3, 4, 5, 6, 7, 8, 13, 20]\n"
          ]
        }
      ]
    },
    {
      "cell_type": "markdown",
      "source": [
        "## 3. **Insertion Sort**\n",
        "    o o o o o \n",
        "    o x\n",
        "    o o x\n",
        "    o o o x\n",
        "    o o o o x"
      ],
      "metadata": {
        "id": "mj7qmslCDx85"
      }
    },
    {
      "cell_type": "code",
      "source": [
        "def insertion_sort(arr):\n",
        "    n = len(arr)\n",
        "    for i in range(1, n):\n",
        "        key = arr[i]\n",
        "        j = i - 1\n",
        "        while j >= 0 and arr[j] > key:\n",
        "            arr[j+1] = arr[j]\n",
        "            j -= 1\n",
        "        arr[j+1] = key\n",
        "    print('Insertion Sort: ', arr) \n",
        "\n",
        "insertion_sort(arr)"
      ],
      "metadata": {
        "colab": {
          "base_uri": "https://localhost:8080/"
        },
        "id": "K75NIiL_DwuC",
        "outputId": "243d70d0-80f1-4a93-a852-a9396f811850"
      },
      "execution_count": 12,
      "outputs": [
        {
          "output_type": "stream",
          "name": "stdout",
          "text": [
            "Insertion Sort:  [1, 2, 3, 4, 5, 6, 7, 8, 13, 20]\n"
          ]
        }
      ]
    },
    {
      "cell_type": "markdown",
      "source": [
        "## 4. Shell Sort\n",
        "Insertion Sort with gaps\n",
        "\n",
        "    o o o o o o gap=3 \n",
        "    o     x\n",
        "      o     x\n",
        "        o     x\n",
        "    o x         gap=1\n",
        "      o x\n",
        "        o x\n",
        "          o x\n",
        "            o x\n",
        "              o x"
      ],
      "metadata": {
        "id": "SJ94NfJtGf_I"
      }
    },
    {
      "cell_type": "code",
      "source": [
        "def shell_sort(arr):\n",
        "    n = len(arr)\n",
        "    gap = n // 2\n",
        "    while gap > 0:\n",
        "        for i in range(gap, n):\n",
        "            key = arr[i]\n",
        "            j = i - gap\n",
        "            while j >= 0 and arr[j] > key:\n",
        "                arr[j + gap] = arr[j]\n",
        "                j -= gap\n",
        "            arr[j + gap] = key\n",
        "        gap //= 2\n",
        "\n",
        "    print('Shell Sort: ', arr)\n",
        "shell_sort(arr)"
      ],
      "metadata": {
        "colab": {
          "base_uri": "https://localhost:8080/"
        },
        "id": "pwNUf8J6GSTj",
        "outputId": "f75d3c37-4d6e-410b-a466-e3f36830349b"
      },
      "execution_count": 13,
      "outputs": [
        {
          "output_type": "stream",
          "name": "stdout",
          "text": [
            "Shell Sort:  [1, 2, 3, 4, 5, 6, 7, 8, 13, 20]\n"
          ]
        }
      ]
    },
    {
      "cell_type": "markdown",
      "source": [
        "## 5. Selection Sort\n",
        "Find the smallest one in the front\n",
        "    \n",
        "    x o o o o \n",
        "    $ x o o o \n",
        "    $ $ x o o \n",
        "    $ $ $ x o "
      ],
      "metadata": {
        "id": "-zeHkmXtIIwv"
      }
    },
    {
      "cell_type": "code",
      "source": [
        "def selection_sort(arr):\n",
        "    n = len(arr)\n",
        "    for i in range(n-1):\n",
        "        min_idx = i\n",
        "        for j in range(i+1, n):\n",
        "            if arr[j] < arr[min_idx]:\n",
        "                min_idx = j\n",
        "        arr[i], arr[min_idx] = arr[min_idx], arr[i]\n",
        "    print('Selection Sort: ', arr)\n",
        "selection_sort(arr)"
      ],
      "metadata": {
        "colab": {
          "base_uri": "https://localhost:8080/"
        },
        "id": "fg61X6jaIB05",
        "outputId": "102bb508-cf7f-4b2b-cbd7-b430067335cf"
      },
      "execution_count": 14,
      "outputs": [
        {
          "output_type": "stream",
          "name": "stdout",
          "text": [
            "Selection Sort:  [1, 2, 3, 4, 5, 6, 7, 8, 13, 20]\n"
          ]
        }
      ]
    },
    {
      "cell_type": "markdown",
      "source": [
        "## 6. **Merge Sort**\n",
        "    divide\n",
        "    o o o o x x x x\n",
        "    o o x x o o x x\n",
        "    o x o x o x o x\n",
        "    conquer\n",
        "    o-x o-x o-x o-x\n",
        "    o-x-o-x o-x-o-x\n",
        "    o-x-o-x-o-x-o-x\n"
      ],
      "metadata": {
        "id": "sW1--orqJ4s_"
      }
    },
    {
      "cell_type": "code",
      "source": [
        "def merge_sort(arr):\n",
        "    \n",
        "    def merge(arr, left, right):\n",
        "        i = j = k = 0\n",
        "        while i < len(left) and j < len(right):\n",
        "            if left[i] < right[j]:\n",
        "                arr[k] = left[i]\n",
        "                i += 1\n",
        "            else:\n",
        "                arr[k] = right[j]\n",
        "                j += 1\n",
        "            k += 1\n",
        "        if i < len(left):\n",
        "            arr[k:] = left[i:]\n",
        "        if j < len(right):\n",
        "            arr[k:] = right[j:]\n",
        "        return \n",
        "\n",
        "    if len(arr)>= 2:\n",
        "        mid = len(arr)//2\n",
        "        left = arr[:mid]\n",
        "        right = arr[mid:]\n",
        "\n",
        "        merge_sort(left)\n",
        "        merge_sort(right)\n",
        "\n",
        "        merge(arr, left, right)\n",
        "    print('Merge Sort: ', arr)\n",
        "merge_sort(arr)"
      ],
      "metadata": {
        "colab": {
          "base_uri": "https://localhost:8080/"
        },
        "id": "_vHy14hiJW7O",
        "outputId": "0010c8b3-3ce9-4596-fec9-b6892ef959d9"
      },
      "execution_count": 15,
      "outputs": [
        {
          "output_type": "stream",
          "name": "stdout",
          "text": [
            "Merge Sort:  [1]\n",
            "Merge Sort:  [2]\n",
            "Merge Sort:  [1, 2]\n",
            "Merge Sort:  [3]\n",
            "Merge Sort:  [4]\n",
            "Merge Sort:  [5]\n",
            "Merge Sort:  [4, 5]\n",
            "Merge Sort:  [3, 4, 5]\n",
            "Merge Sort:  [1, 2, 3, 4, 5]\n",
            "Merge Sort:  [6]\n",
            "Merge Sort:  [7]\n",
            "Merge Sort:  [6, 7]\n",
            "Merge Sort:  [8]\n",
            "Merge Sort:  [13]\n",
            "Merge Sort:  [20]\n",
            "Merge Sort:  [13, 20]\n",
            "Merge Sort:  [8, 13, 20]\n",
            "Merge Sort:  [6, 7, 8, 13, 20]\n",
            "Merge Sort:  [1, 2, 3, 4, 5, 6, 7, 8, 13, 20]\n"
          ]
        }
      ]
    },
    {
      "cell_type": "markdown",
      "source": [
        "## 7. **Quick Sort**\n",
        "     o o o o o o o o \n",
        "    [o o]x[o o o o o]\n",
        "     x[o] [o]x[o o o]\n",
        "              [o]x[o]"
      ],
      "metadata": {
        "id": "EjWjDlrQMGH-"
      }
    },
    {
      "cell_type": "code",
      "source": [
        "def quick_sort(arr):\n",
        "\n",
        "    def partition(arr, l, r):\n",
        "        # pivot1 = first element\n",
        "        pivot = arr[l]\n",
        "        i = l\n",
        "        for j in range(l+1, r+1):\n",
        "            if arr[j] < pivot:\n",
        "                i += 1\n",
        "                arr[i], arr[j] = arr[j], arr[i]\n",
        "        arr[l], arr[i] = arr[i], arr[l]\n",
        "        return i\n",
        "        # pivot2 = last element\n",
        "        pivot = arr[r]\n",
        "        i = l-1\n",
        "        for j in range(l, r):\n",
        "            if arr[j] < pivot:\n",
        "                i += 1\n",
        "                arr[i], arr[j] = arr[j], arr[i]\n",
        "        arr[i+1], arr[r] = arr[r], arr[i+1]\n",
        "        return i+1\n",
        "        # pivot3 = random element\n",
        "        # pivot4 = median element\n",
        "    \n",
        "    def _quick_sort(arr, l, r):\n",
        "        if l < r:\n",
        "            pivot = partition(arr, l, r)\n",
        "            _quick_sort(arr, l, pivot-1)\n",
        "            _quick_sort(arr, pivot + 1, r)\n",
        "    _quick_sort(arr, 0, len(arr)-1)\n",
        "    print(\"Quick Sort: \", arr)\n",
        "\n",
        "quick_sort(arr)"
      ],
      "metadata": {
        "colab": {
          "base_uri": "https://localhost:8080/"
        },
        "id": "gD25eiH3LnmW",
        "outputId": "eae7c0cd-4b94-44a3-8191-d3c67553304c"
      },
      "execution_count": 17,
      "outputs": [
        {
          "output_type": "stream",
          "name": "stdout",
          "text": [
            "Quick Sort:  [1, 2, 3, 4, 5, 6, 7, 8, 13, 20]\n"
          ]
        }
      ]
    },
    {
      "cell_type": "markdown",
      "source": [
        "## 8. **Heap Sort**\n"
      ],
      "metadata": {
        "id": "nOrDufxx96uj"
      }
    },
    {
      "cell_type": "code",
      "source": [
        "def max_heap_sort(arr):\n",
        "\n",
        "    def heapify(arr, n, i):\n",
        "        largest = i\n",
        "        left = 2*i + 1\n",
        "        right = 2*i + 2\n",
        "\n",
        "        if left < n and arr[left] > arr[largest]:\n",
        "            largest = left\n",
        "        if right < n and arr[right] > arr[largest]:\n",
        "            largest = right\n",
        "        if largest != i:\n",
        "            arr[i], arr[largest] = arr[largest], arr[i]\n",
        "            heapify(arr, n, largest)\n",
        "        return \n",
        "\n",
        "    n = len(arr)\n",
        "    for i in range(n//2-1, -1, -1):\n",
        "        heapify(arr, n, i)\n",
        "    \n",
        "    for i in range(n-1, 0, -1):\n",
        "        arr[0], arr[i] = arr[i], arr[0]\n",
        "        heapify(arr, i, 0)\n",
        "    print('Max Heap Sort: ', arr)\n",
        "\n",
        "max_heap_sort(arr)"
      ],
      "metadata": {
        "colab": {
          "base_uri": "https://localhost:8080/"
        },
        "id": "45alHj7G6YYt",
        "outputId": "17411cd2-3c20-4073-82d4-770543cb9938"
      },
      "execution_count": 23,
      "outputs": [
        {
          "output_type": "stream",
          "name": "stdout",
          "text": [
            "Max Heap Sort:  [1, 2, 3, 4, 5, 6, 7, 8, 13, 20]\n"
          ]
        }
      ]
    },
    {
      "cell_type": "code",
      "source": [
        "import heapq\n",
        "heapq.heapify(arr)\n",
        "print(arr)"
      ],
      "metadata": {
        "colab": {
          "base_uri": "https://localhost:8080/"
        },
        "id": "RHH9VJWhACBE",
        "outputId": "fa3036dd-8988-4c6a-c122-bbf8ed7795cc"
      },
      "execution_count": 25,
      "outputs": [
        {
          "output_type": "stream",
          "name": "stdout",
          "text": [
            "[1, 2, 5, 3, 6, 13, 7, 8, 4, 20]\n"
          ]
        }
      ]
    },
    {
      "cell_type": "markdown",
      "source": [
        "## 9. Counting Sort\n",
        "    1 5 4 2 2\n",
        "    minval, maxval, range_val = 1, 5, 5\n",
        "        i = 0(1) 1(2) 2(3) 3(4) 4(5)\n",
        "    count = 1    2    0    1    1\n",
        "    count = 1    3    3    4    5 \n",
        "    arr[i] -> idx = arr[i] - minval -> j = count[idx]-1 -> output[j] = arr[i] -> count[idx] -= 1\n",
        "\n",
        "            "
      ],
      "metadata": {
        "id": "EWnqS2U0-mWT"
      }
    },
    {
      "cell_type": "code",
      "source": [
        "def counting_sort(arr):\n",
        "    n = len(arr)\n",
        "    maxval, minval = max(arr), min(arr)\n",
        "    range_val = maxval - minval + 1\n",
        "    count = [0] * range_val\n",
        "    output = [0] * n\n",
        "\n",
        "    for i in range(n):\n",
        "        idx = arr[i] - minval\n",
        "        count[idx] += 1\n",
        "    for i in range(1, range_val):\n",
        "        count[i] += count[i-1]\n",
        "    \n",
        "    for i in range(n-1, -1, -1):\n",
        "        idx = arr[i] - minval\n",
        "        output[count[idx] - 1] = arr[i]\n",
        "        count[idx] -= 1\n",
        "\n",
        "    print('Counting Sort: ', output)\n",
        "counting_sort(arr)"
      ],
      "metadata": {
        "colab": {
          "base_uri": "https://localhost:8080/"
        },
        "id": "w_U2LBaQA0Cl",
        "outputId": "91fc7673-f2b4-47bd-f06e-8e171f5efc30"
      },
      "execution_count": 46,
      "outputs": [
        {
          "output_type": "stream",
          "name": "stdout",
          "text": [
            "Counting Sort:  [1, 2, 3, 4, 5, 6, 7, 8, 13, 20]\n"
          ]
        }
      ]
    },
    {
      "cell_type": "markdown",
      "source": [
        "## 10. Radix Sort\n",
        "Sort 10^0, 10^1, 10^2 ... placement\n",
        "\n",
        "Example. arr2 = [170, 45, 75, 90, 802, 24, 2, 66]"
      ],
      "metadata": {
        "id": "GeeHqykW-mMO"
      }
    },
    {
      "cell_type": "code",
      "source": [
        "def radix_sort(arr):\n",
        "    def counting_sort(arr, exp):\n",
        "        n = len(arr)\n",
        "        count = [0] * 10\n",
        "        output = [0] * n\n",
        "        for i in range(n):\n",
        "            idx = (arr[i]//exp) % 10\n",
        "            count[idx] += 1\n",
        "        for i in range(1, 10):\n",
        "            count[i] += count[i-1]\n",
        "        for i in range(n-1, -1, -1):\n",
        "            idx = (arr[i]//exp) % 10\n",
        "            j = count[idx] - 1\n",
        "            output[j] = arr[i]\n",
        "            count[idx] -= 1\n",
        "        return output\n",
        "\n",
        "    print('Radix Sort: ')\n",
        "\n",
        "    maxval = max(arr)\n",
        "    exp = 1\n",
        "    while maxval // exp > 0:\n",
        "        arr = counting_sort(arr, exp)\n",
        "        exp *=10\n",
        "        print(arr)\n",
        "\n",
        "radix_sort(arr2)\n",
        "    "
      ],
      "metadata": {
        "colab": {
          "base_uri": "https://localhost:8080/"
        },
        "id": "8GCeN6CND0-9",
        "outputId": "a488ef7f-6c68-4dd7-973a-dad4ea8d359c"
      },
      "execution_count": 48,
      "outputs": [
        {
          "output_type": "stream",
          "name": "stdout",
          "text": [
            "Radix Sort: \n",
            "[170, 90, 802, 2, 24, 45, 75, 66]\n",
            "[802, 2, 24, 45, 66, 170, 75, 90]\n",
            "[2, 24, 45, 66, 75, 90, 170, 802]\n"
          ]
        }
      ]
    },
    {
      "cell_type": "markdown",
      "source": [
        "## 11. **Bucket Sort**\n",
        "Sort into bucket array with Insertion Sort\n",
        "\n",
        "Example. arr3 = [0.899, 0.666, 0.897, 0.565, 0.656, 0.1234, 0.665, 0.3434]"
      ],
      "metadata": {
        "id": "SNf_xXra-l9H"
      }
    },
    {
      "cell_type": "code",
      "source": [
        "def bucket_sort(arr):\n",
        "\n",
        "    def insertion_sort(bucket_arr):\n",
        "        i = len(bucket_arr) - 1\n",
        "        key = bucket_arr[i]\n",
        "        j = i - 1\n",
        "        while j >= 0 and bucket_arr[j] > key:\n",
        "            bucket_arr[j+1] = bucket_arr[j]\n",
        "            j -= 1\n",
        "        bucket_arr[j + 1] = key\n",
        "    \"\"\"\n",
        "    n_slot\n",
        "    slot_range = (maxval - minval) // nslot\n",
        "    idx = (val - minval) // slot_range\n",
        "    \"\"\"\n",
        "    n_slot = 10\n",
        "    bucket = [[] for _ in range(n_slot)]\n",
        "    for num in arr:\n",
        "        idx = int(num * 10) % 10\n",
        "        bucket[idx].append(num)\n",
        "        insertion_sort(bucket[idx])\n",
        "    \n",
        "    arr = []\n",
        "    for j in range(n_slot):\n",
        "        arr.extend(bucket[j])\n",
        "    print('Bucket Sort: ', arr)\n",
        "bucket_sort(arr3)"
      ],
      "metadata": {
        "colab": {
          "base_uri": "https://localhost:8080/"
        },
        "id": "WUsF5sGo9H7V",
        "outputId": "acbddd05-1b8d-445c-ba14-0f9bdf4e2aad"
      },
      "execution_count": 50,
      "outputs": [
        {
          "output_type": "stream",
          "name": "stdout",
          "text": [
            "Bucket Sort:  [0.1234, 0.3434, 0.565, 0.656, 0.665, 0.666, 0.897, 0.899]\n"
          ]
        }
      ]
    }
  ]
}
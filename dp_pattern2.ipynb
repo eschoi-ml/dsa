{
  "nbformat": 4,
  "nbformat_minor": 0,
  "metadata": {
    "colab": {
      "name": "dp-pattern2.ipynb",
      "provenance": [],
      "authorship_tag": "ABX9TyPlw1rA1oUSySfY6bGOYfXx",
      "include_colab_link": true
    },
    "kernelspec": {
      "name": "python3",
      "display_name": "Python 3"
    },
    "language_info": {
      "name": "python"
    }
  },
  "cells": [
    {
      "cell_type": "markdown",
      "metadata": {
        "id": "view-in-github",
        "colab_type": "text"
      },
      "source": [
        "<a href=\"https://colab.research.google.com/github/eschoi-ml/dsa/blob/main/dp_pattern2.ipynb\" target=\"_parent\"><img src=\"https://colab.research.google.com/assets/colab-badge.svg\" alt=\"Open In Colab\"/></a>"
      ]
    },
    {
      "cell_type": "markdown",
      "metadata": {
        "id": "Vgy_NFFuwZGJ"
      },
      "source": [
        "# Dynamic Programming\n",
        "# Pattern 2. Distinct ways\n",
        "\n",
        "Given a target, find the number of distinct ways to reacch the target.\n",
        "\n",
        "**Pattern 2.1 dp[i] += dp[i-k]**\n",
        "- Climbing Stairs\n",
        "- Combination Sum IV\n",
        "- Number of Dice Rolls With Target Sum\n",
        "- Unique Paths\n",
        "- Unique Paths II\n",
        "- Soup Servings\n",
        "- Longest Increasing Subsequence Series\n",
        "    - Longest Continuous Increasing Subsequence\n",
        "    - Longest Increasing Subsequence\n",
        "    - Number of Longest Increasing Subsequence\n",
        "- Dice Roll Simulation\n",
        "\n",
        "**Pattern 2.2 dp = { initial_state : 1 }, curr_dp = collections.defaultdict(int)**\n",
        "- Target Sum\n",
        "- Knight Probability in Chessboard\n",
        "- Out of Boundary Paths\n",
        "- Number of Ways to Stay in the Same Place After Some Steps\n",
        "\n",
        "**Pattern 2.3 dp = [1, 1, ..., 1], curr_dp = [0, 0, ..., 0 ]**\n",
        "- Knight Dialer\n",
        "- Count Vowels Permutation\n",
        "- Domino and Tromino Tiling\n"
      ]
    },
    {
      "cell_type": "markdown",
      "metadata": {
        "id": "WK0uZLVriliP"
      },
      "source": [
        "# Pattern 2.1 dp[i] += dp[i-k]\n",
        "\n"
      ]
    },
    {
      "cell_type": "markdown",
      "metadata": {
        "id": "q2dKpcbKw-yn"
      },
      "source": [
        "## [Climbing Stairs](https://leetcode.com/problems/climbing-stairs/)\n",
        "*In how many distinct ways can you climb to the top?*"
      ]
    },
    {
      "cell_type": "code",
      "metadata": {
        "id": "2Jo_hXq_w9V4"
      },
      "source": [
        "def climbStairs(self, n: int) -> int:\n",
        "    \"\"\"\n",
        "    dp[i]: the number of distinct ways to climb i steps\n",
        "    dp[i] = dp[i-2] + dp[i-1] \n",
        "    \n",
        "    \"\"\"\n",
        "    dp = [0] * (n + 1)\n",
        "    dp[0] = dp[1] = 1\n",
        "    for i in range(2, n + 1):\n",
        "        for step in range(1, 3):\n",
        "            dp[i] += dp[i - step]\n",
        "        #dp[i] = dp[i-2] + dp[i-1]\n",
        "    return dp[-1]"
      ],
      "execution_count": null,
      "outputs": []
    },
    {
      "cell_type": "markdown",
      "metadata": {
        "id": "g0YaUUVsrsR8"
      },
      "source": [
        "## [Combination Sum IV](https://leetcode.com/problems/combination-sum-iv/)\n",
        "*Return the number of possible combinations that add up to target.*"
      ]
    },
    {
      "cell_type": "code",
      "metadata": {
        "id": "eAvXLdYtr1sR"
      },
      "source": [
        "def combinationSum4(self, nums: List[int], target: int) -> int:\n",
        "    \"\"\"\n",
        "    dp[i]: the number of possible combinations that add up to i\n",
        "    \n",
        "    \"\"\"\n",
        "    n = len(nums)\n",
        "    dp = [0] * (target + 1) \n",
        "    dp[0] = 1\n",
        "    \n",
        "    for i in range(1, target + 1):\n",
        "        for num in nums:\n",
        "            if num <= i:\n",
        "                dp[i] += dp[i - num]\n",
        "    return dp[-1]"
      ],
      "execution_count": null,
      "outputs": []
    },
    {
      "cell_type": "markdown",
      "metadata": {
        "id": "fIINh6-u1r9N"
      },
      "source": [
        "## [Number of Dice Rolls With Target Sum](https://leetcode.com/problems/number-of-dice-rolls-with-target-sum/)\n",
        "*Return the number of possible ways (out of f^d total ways) modulo 10^9 + 7 to roll the dice so the sum of the face-up numbers equals target.*"
      ]
    },
    {
      "cell_type": "code",
      "metadata": {
        "id": "NsbRtYyR13PW"
      },
      "source": [
        "def numRollsToTarget(self, d: int, f: int, target: int) -> int:\n",
        "    \"\"\"\n",
        "    dp[i][j]: the number of possible ways to roll the dice at [i+1]th roll to make the sum [j] \n",
        "    dp[i][j] += dp[i-1][j-k] for k = 1 to f if k <= j\n",
        "    \n",
        "    \"\"\"\n",
        "    MOD = 10**9 + 7\n",
        "    # edge cases\n",
        "    if not d <= target <= d * f:\n",
        "        return 0\n",
        "    if d == 1:\n",
        "        return 1 if 1 <= target <= f else 0\n",
        "            \n",
        "    dp = [[0] * (target + 1) for _ in range(d + 1)]\n",
        "    dp[0][0] = 1\n",
        "\n",
        "    for i in range(1, d + 1):\n",
        "        for j in range(1, target + 1):\n",
        "            for k in range(1, f + 1):\n",
        "                if k <= j:\n",
        "                    dp[i][j] = (dp[i][j] + dp[i - 1][j - k]) % MOD\n",
        "    return dp[-1][-1]"
      ],
      "execution_count": null,
      "outputs": []
    },
    {
      "cell_type": "markdown",
      "metadata": {
        "id": "o1goSmAMy_h4"
      },
      "source": [
        "## [Unique Paths](https://leetcode.com/problems/unique-paths/)\n",
        "*How many possible unique paths are there?*"
      ]
    },
    {
      "cell_type": "code",
      "metadata": {
        "id": "m9ssiUXPzam9"
      },
      "source": [
        "def uniquePaths(self, m: int, n: int) -> int:\n",
        "    \"\"\"\n",
        "    dp[i][j]: the number of unique paths to reach (i, j)\n",
        "    dp[i][j] = dp[i][j-1] + dp[i-1][j]\n",
        "    \"\"\"\n",
        "    # Solution 1. O(m * n) & O(m * n)\n",
        "    \n",
        "    dp = [[0] * n for _ in range(m)]\n",
        "    for i in range(m):\n",
        "        dp[i][0] = 1\n",
        "    for i in range(n):\n",
        "        dp[0][i] = 1\n",
        "    \n",
        "    for i in range(1, m):\n",
        "        for j in range(1, n):\n",
        "            dp[i][j] = dp[i-1][j] + dp[i][j-1]\n",
        "    \n",
        "    return dp[-1][-1]\n",
        "    \n",
        "    # Solution 2. O(m * n) & O(n)\n",
        "    dp = [1] * n\n",
        "    for i in range(1, m):\n",
        "        for j in range(1, n):\n",
        "            dp[j] += dp[j-1] \n",
        "    return dp[-1]"
      ],
      "execution_count": null,
      "outputs": []
    },
    {
      "cell_type": "markdown",
      "metadata": {
        "id": "aHZGOH1O2A8w"
      },
      "source": [
        "## [Unique Paths II](https://leetcode.com/problems/unique-paths-ii/)\n",
        "*How many unique paths would there be?*"
      ]
    },
    {
      "cell_type": "code",
      "metadata": {
        "id": "Himz4mIx2J4F"
      },
      "source": [
        "def uniquePathsWithObstacles(self, obstacleGrid: List[List[int]]) -> int:\n",
        "    \n",
        "    if obstacleGrid[0][0]==1 or obstacleGrid[-1][-1]==1:\n",
        "        return 0\n",
        "    \n",
        "    m, n = len(obstacleGrid), len(obstacleGrid[0])\n",
        "    for i in range(m):\n",
        "        for j in range(n):\n",
        "            if obstacleGrid[i][j]==1:\n",
        "                obstacleGrid[i][j] = -1\n",
        "    \n",
        "    i = 0\n",
        "    while i < m and obstacleGrid[i][0] != -1:\n",
        "        obstacleGrid[i][0] = 1\n",
        "        i += 1\n",
        "    i = 1\n",
        "    while i < n and obstacleGrid[0][i] != -1:\n",
        "        obstacleGrid[0][i] = 1\n",
        "        i += 1\n",
        "    \n",
        "    for i in range(1, m):\n",
        "        for j in range(1, n):\n",
        "            if obstacleGrid[i][j] != -1:\n",
        "                obstacleGrid[i][j] = max(0, obstacleGrid[i-1][j]) + max(0, obstacleGrid[i][j-1])\n",
        "    return obstacleGrid[-1][-1]\n",
        "\n",
        "def uniquePathsWithObstacles(self, obstacleGrid: List[List[int]]) -> int:\n",
        "    \n",
        "    if obstacleGrid[0][0]==1 or obstacleGrid[-1][-1]==1:\n",
        "        return 0\n",
        "    \n",
        "    m, n = len(obstacleGrid), len(obstacleGrid[0])\n",
        "    obstacleGrid[0][0] = 1\n",
        "    for i in range(1, m):\n",
        "        obstacleGrid[i][0] = int(obstacleGrid[i][0]==0 and obstacleGrid[i-1][0]==1)\n",
        "    for i in range(1, n):\n",
        "        obstacleGrid[0][i] = int(obstacleGrid[0][i]==0 and obstacleGrid[0][i-1]==1)\n",
        "        \n",
        "    for i in range(1, m):\n",
        "        for j in range(1, n):\n",
        "            if obstacleGrid[i][j] == 0:\n",
        "                obstacleGrid[i][j] = obstacleGrid[i-1][j] + obstacleGrid[i][j-1]\n",
        "            else:\n",
        "                obstacleGrid[i][j] = 0\n",
        "    return obstacleGrid[-1][-1]"
      ],
      "execution_count": null,
      "outputs": []
    },
    {
      "cell_type": "markdown",
      "metadata": {
        "id": "wET6Rtz6u8Xn"
      },
      "source": [
        "## [Soup Servings](https://leetcode.com/problems/soup-servings/)\n",
        "*Return the probability that soup A will be empty first, plus half the probability that A and B become empty at the same time.*"
      ]
    },
    {
      "cell_type": "code",
      "metadata": {
        "id": "UfE5Bc-k-gJK"
      },
      "source": [
        "def soupServings(self, n: int) -> float:\n",
        "    \"\"\"\n",
        "    1 serving = 25 ml\n",
        "    dp[i][j]: the probability that i serving from A is first empty + half the probability i servings from A and j servings from B become empty at the same time\n",
        "    \n",
        "    ex) n = 100 -> n = 4\n",
        "\n",
        "    i(A)\\j(B) 0    1    2    3    4\n",
        "            0 0.5  1    1    1    1   \n",
        "            1   0\n",
        "            2   0\n",
        "            3   0\n",
        "            4   0\n",
        "            \n",
        "    (100, 0) ->(4, 0)\n",
        "    (75, 25) ->(3, 1) \n",
        "    (50, 50) ->(2, 2)\n",
        "    (25, 75) ->(1, 3)\n",
        "    \n",
        "    \"\"\"\n",
        "    if n >= 4800:\n",
        "        return 1.0\n",
        "    \n",
        "    n = (n + 24)//25\n",
        "    dp = [[0] * (n + 1) for _ in range(n + 1)]\n",
        "    dp[0][0] = 0.5\n",
        "    for i in range(1, n + 1):\n",
        "        dp[0][i] = 1\n",
        "    \n",
        "    \n",
        "    for i in range(1, n + 1):\n",
        "        for j in range(1, n + 1):\n",
        "            \n",
        "            candidates = [\n",
        "                (i-4, j),\n",
        "                (i-3, j-1),\n",
        "                (i-2, j-2),\n",
        "                (i-1, j-3)\n",
        "            ]\n",
        "            \n",
        "            for r, c in candidates:\n",
        "                dp[i][j] += dp[max(0, r)][max(0, c)]\n",
        "            dp[i][j] *= 0.25 \n",
        "            \n",
        "            # dp[i][j] = 0.25 * (dp[max(0, i-4)][j] + \n",
        "            #                    dp[max(0, i-3)][max(0, j-1)] + \n",
        "            #                    dp[max(0, i-2)][max(0, j-2)] + \n",
        "            #                    dp[max(0, i-1)][max(0, j-3)])\n",
        "            \n",
        "    \n",
        "    return dp[-1][-1]"
      ],
      "execution_count": null,
      "outputs": []
    },
    {
      "cell_type": "markdown",
      "metadata": {
        "id": "L6r4DaH0scDu"
      },
      "source": [
        "## Longest Increasing Subsequence Series\n",
        "1. Longest Continuous Increasing Subsequence\n",
        "1. Longest Increasing Subsequence\n",
        "1. Number of Longest Increasing Subsequence"
      ]
    },
    {
      "cell_type": "markdown",
      "metadata": {
        "id": "9CjpRsyIs4pz"
      },
      "source": [
        "### [1. Longest Continuous Increasing Subsequence](https://leetcode.com/problems/longest-continuous-increasing-subsequence/)\n",
        "*Return the length of the longest continuous increasing subsequence*"
      ]
    },
    {
      "cell_type": "code",
      "metadata": {
        "id": "zJfhmF6XtD1e"
      },
      "source": [
        "def findLengthOfLCIS(self, nums: List[int]) -> int:\n",
        "    \n",
        "    n = len(nums)\n",
        "    maxlen = 0\n",
        "    l = 0\n",
        "    while l < n:\n",
        "        r = l + 1\n",
        "        while r < n and nums[r-1] < nums[r]:\n",
        "            r += 1\n",
        "        maxlen = max(maxlen, r - l)\n",
        "        l = r\n",
        "    \n",
        "    return maxlen"
      ],
      "execution_count": null,
      "outputs": []
    },
    {
      "cell_type": "markdown",
      "metadata": {
        "id": "xZI3eV4EtHnZ"
      },
      "source": [
        "### [2. Longest Increasing Subsequence](https://leetcode.com/problems/longest-increasing-subsequence/)\n",
        "*Return the length of the longest strictly increasing subsequence.*"
      ]
    },
    {
      "cell_type": "code",
      "metadata": {
        "id": "vBgn6rentR97"
      },
      "source": [
        "def lengthOfLIS(self, nums: List[int]) -> int:\n",
        "    \"\"\"\n",
        "    Solution 1. DP\n",
        "    dp[i]: the length of the longest increasing subsequence that ends at i\n",
        "    \n",
        "    \"\"\"\n",
        "    # O(n^2) & O(n)\n",
        "    n = len(nums)\n",
        "    dp = [1] * n\n",
        "    \n",
        "    for i in range(1, n):\n",
        "        for j in range(i):\n",
        "            if nums[j] < nums[i]:\n",
        "                if dp[i] < dp[j] + 1:\n",
        "                    dp[i] = dp[j] + 1\n",
        "    \n",
        "    return max(dp)\n",
        "    \n",
        "    \"\"\"\n",
        "    Solution 2. Monotonic increasing stack\n",
        "    nums = [10,9,2,5,3,7,101,18]\n",
        "    \n",
        "    stack = [2, 3, 7, 18]\n",
        "    \n",
        "    \"\"\"\n",
        "    # O(n^2) & O(n)\n",
        "    stack = []\n",
        "    for num in nums:\n",
        "        if not stack or stack[-1] < num:\n",
        "            stack.append(num)\n",
        "        else:\n",
        "            i = 0\n",
        "            while stack[i] < num:\n",
        "                i += 1\n",
        "            stack[i] = num\n",
        "    \n",
        "    return len(stack)\n",
        "    \n",
        "    \"\"\"\n",
        "    Solution 3. Solution 2 + Binary Search\n",
        "    \"\"\"\n",
        "    # O(n*logn) & O(n)\n",
        "    stack = []\n",
        "    for num in nums:\n",
        "        if not stack or stack[-1] < num:\n",
        "            stack.append(num)\n",
        "        else:\n",
        "            l, r = 0, len(stack) \n",
        "            while l < r:\n",
        "                mid = (l + r) // 2\n",
        "                if stack[mid] >= num: \n",
        "                    r = mid\n",
        "                else:\n",
        "                    l = mid + 1\n",
        "            stack[l] = num\n",
        "    return len(stack)"
      ],
      "execution_count": null,
      "outputs": []
    },
    {
      "cell_type": "markdown",
      "metadata": {
        "id": "afsmMC08plwk"
      },
      "source": [
        "### [3. Number of Longest Increasing Subsequence](https://leetcode.com/problems/number-of-longest-increasing-subsequence/)\n",
        "*Return the number of longest increasing subsequences.*"
      ]
    },
    {
      "cell_type": "code",
      "metadata": {
        "id": "aAm_p7yRpvZ-"
      },
      "source": [
        "def findNumberOfLIS(self, nums: List[int]) -> int:\n",
        "    \"\"\"\n",
        "    dp[i]: the longest length of increasing subsequences ending with nums[i]\n",
        "    cnt_dp[i]: the number of longest length of increasing subsequences ending with nums[i]\n",
        "    \n",
        "    \"\"\"\n",
        "    n = len(nums)\n",
        "    dp, cnt_dp = [1] * n, [1] * n\n",
        "    \n",
        "    maxlen = 1        \n",
        "    for i in range(1, n):\n",
        "        for j in range(i):\n",
        "            if nums[j] < nums[i]:\n",
        "                if dp[i] < dp[j] + 1:\n",
        "                    dp[i] = dp[j] + 1\n",
        "                    cnt_dp[i] = cnt_dp[j]\n",
        "                elif dp[i] == dp[j] + 1:\n",
        "                    cnt_dp[i] += cnt_dp[j]\n",
        "                    \n",
        "        maxlen = max(maxlen, dp[i])\n",
        "    \n",
        "    maxcnt = 0\n",
        "    for i in range(n):\n",
        "        if dp[i] == maxlen:\n",
        "            maxcnt += cnt_dp[i]\n",
        "\n",
        "    return maxcnt"
      ],
      "execution_count": null,
      "outputs": []
    },
    {
      "cell_type": "markdown",
      "metadata": {
        "id": "SsvvR0ongSNv"
      },
      "source": [
        "## [Dice Roll Simulation](https://leetcode.com/problems/dice-roll-simulation/)\n",
        "*Return the number of distinct sequences that can be obtained with exact n rolls.*"
      ]
    },
    {
      "cell_type": "code",
      "metadata": {
        "id": "Uw1X61fKgc7C"
      },
      "source": [
        "def dieSimulator(self, n: int, rollMax: List[int]) -> int:\n",
        "    \"\"\"\n",
        "    dp[i][j]: the number of distinct sequences with i rolls ending with j\n",
        "\n",
        "rollMax = [ 1, 1, 1, 2, 2, 3], n = 3  \n",
        "    i\\j  0  1  2  3  4  5 total\n",
        "        0  0  0  0  0  0  0     1  \n",
        "        1  1  1  1  1  1  1     6 \n",
        "        2  5  5  6  6  6  6    34\n",
        "        3 29 29 29 \n",
        "    dp[3][0] = 34 - (sum_dp[1] - dp[1][0]) = 29 _y00\n",
        "    dp[3][1] = 34 - (sum_dp[1] - dp[1][1]) = 29 _y11\n",
        "    dp[3][2] = 34 - (sum_dp[1] - dp[1][1]) = 29 _y22\n",
        "    dp[3][3] = 34 - (sum_dp[0] - dp[0][3]) = 30 y333\n",
        "    dp[3][4] = 34 - (sum_dp[0] - dp[0][4]) = 30 y444\n",
        "    dp[3][5] = 34                               5555\n",
        "\n",
        "    \n",
        "    \"\"\"\n",
        "    MOD = 10**9 + 7\n",
        "    dp =[[0] * 6 for _ in range(n + 1)]\n",
        "    sum_dp = [0] * (n + 1)\n",
        "    \n",
        "    sum_dp[0] = 1\n",
        "    for i in range(6):\n",
        "        if rollMax[i] > 0:\n",
        "            dp[1][i] = 1\n",
        "            sum_dp[1] += dp[1][i]\n",
        "\n",
        "    for i in range(2, n + 1):\n",
        "        for j in range(6):\n",
        "            dp[i][j] = sum_dp[i-1]\n",
        "            k = i - rollMax[j] - 1\n",
        "            if k >= 0:\n",
        "                dp[i][j] -= (sum_dp[k] - dp[k][j])\n",
        "            \n",
        "            sum_dp[i] = (sum_dp[i] + dp[i][j]) % MOD\n",
        "\n",
        "            \n",
        "    return sum_dp[-1]"
      ],
      "execution_count": null,
      "outputs": []
    },
    {
      "cell_type": "markdown",
      "metadata": {
        "id": "1FGpqJ4biQKQ"
      },
      "source": [
        "# Pattern 2.2 dp = { initial_state : 1 }, curr_dp = collections.defaultdict(int)"
      ]
    },
    {
      "cell_type": "markdown",
      "metadata": {
        "id": "Bf4PtH_2pMML"
      },
      "source": [
        "## [Target Sum](https://leetcode.com/problems/target-sum/)\n",
        "*Return the number of different expressions that you can build, which evaluates to target.*"
      ]
    },
    {
      "cell_type": "code",
      "metadata": {
        "id": "eM0Yk3DepTEU"
      },
      "source": [
        "def findTargetSumWays(self, nums: List[int], S: int) -> int:\n",
        "    \n",
        "    # edge case\n",
        "    cumsum = 0\n",
        "    for num in nums:\n",
        "        cumsum += abs(num)\n",
        "    if cumsum < S or -cumsum > S:\n",
        "        return 0\n",
        "    \n",
        "    dp = {0:1}\n",
        "    for num in nums:\n",
        "        curr_dp = collections.defaultdict(int)\n",
        "        for key, val in dp.items():\n",
        "            curr_dp[key + num] += val\n",
        "            curr_dp[key - num] += val\n",
        "        dp = curr_dp\n",
        "    return dp[S]"
      ],
      "execution_count": null,
      "outputs": []
    },
    {
      "cell_type": "markdown",
      "metadata": {
        "id": "jQLsyRXZKFrf"
      },
      "source": [
        "## [Knight Probability in Chessboard](https://leetcode.com/problems/knight-probability-in-chessboard/)\n",
        "*Return the probability that the knight remains on the board after it has stopped moving.*"
      ]
    },
    {
      "cell_type": "code",
      "metadata": {
        "id": "TZJEjG45ikKd"
      },
      "source": [
        "def knightProbability(self, n: int, k: int, row: int, column: int) -> float:\n",
        "    \"\"\"\n",
        "    (i, j)\n",
        "    \n",
        "    (i-2, j-1)\n",
        "    (i-2, j+1)\n",
        "    (i-1, j-2)\n",
        "    (i-1, j+2)\n",
        "    (i+1, j-2)\n",
        "    (i+1, j+2)\n",
        "    (i+2, j-1)\n",
        "    (i+2, j+1)\n",
        "    \"\"\"\n",
        "    \n",
        "    h = {(row, column):1}\n",
        "    \n",
        "    for _ in range(k):\n",
        "        curr_h = collections.defaultdict(int)\n",
        "        for (i, j), val in h.items():\n",
        "            \n",
        "            candidates = [\n",
        "                (i-2, j-1),\n",
        "                (i-2, j+1),\n",
        "                (i-1, j-2),\n",
        "                (i-1, j+2),\n",
        "                (i+1, j-2),\n",
        "                (i+1, j+2),\n",
        "                (i+2, j-1),\n",
        "                (i+2, j+1)]\n",
        "            \n",
        "            for r, c in candidates:\n",
        "                if 0 <= r < n and 0<= c < n:\n",
        "                    curr_h[(r, c)] += val\n",
        "        h = curr_h\n",
        "\n",
        "    return sum(h.values())/8**k"
      ],
      "execution_count": null,
      "outputs": []
    },
    {
      "cell_type": "markdown",
      "metadata": {
        "id": "UKogzGSfN2Kx"
      },
      "source": [
        "## [Out of Boundary Paths](https://leetcode.com/problems/out-of-boundary-paths/)\n",
        "*Return the number of paths to move the ball out of the grid boundary.*\n",
        "\n",
        "\n"
      ]
    },
    {
      "cell_type": "code",
      "metadata": {
        "id": "O6P5FK_fOHFL"
      },
      "source": [
        "def findPaths(self, m: int, n: int, N: int, i: int, j: int) -> int:\n",
        "    \"\"\"\n",
        "    m = 2, n = 2, N = 2, i = 0, j = 0\n",
        "    \n",
        "    (i, j):\n",
        "    \n",
        "    (i, j + 1)\n",
        "    (i, j - 1)\n",
        "    (i + 1, j)\n",
        "    (i - 1, j)\n",
        "    \n",
        "    \"\"\"\n",
        "    MOD = 10**9 + 7\n",
        "    \n",
        "    h = {(i, j):1}\n",
        "    cnt = 0\n",
        "    for _ in range(N):\n",
        "        curr_h = collections.defaultdict(int)\n",
        "        for (i, j), val in h.items():\n",
        "            candidates = [\n",
        "                (i, j + 1),\n",
        "                (i, j - 1),\n",
        "                (i + 1, j),\n",
        "                (i - 1, j),\n",
        "            ]\n",
        "            for r, c in candidates:\n",
        "                if 0 <= r < m and 0 <= c < n:\n",
        "                    curr_h[(r, c)] = (curr_h[(r, c)] + val) % MOD\n",
        "                else:\n",
        "                    cnt = (cnt + val) % MOD\n",
        "        h = curr_h\n",
        "    return cnt"
      ],
      "execution_count": null,
      "outputs": []
    },
    {
      "cell_type": "markdown",
      "metadata": {
        "id": "MFuqDYtmPkgq"
      },
      "source": [
        "## [Number of Ways to Stay in the Same Place After Some Steps](https://leetcode.com/problems/number-of-ways-to-stay-in-the-same-place-after-some-steps/)\n",
        "*Return the number of ways such that your pointer still at index 0 after exactly steps steps.*"
      ]
    },
    {
      "cell_type": "code",
      "metadata": {
        "id": "bDtyb9twPvMO"
      },
      "source": [
        "def numWays(self, steps: int, arrLen: int) -> int:\n",
        "    \"\"\"\n",
        "    arrLen:2\n",
        "    0 1\n",
        "    \n",
        "    \"\"\"\n",
        "    MOD = 10**9 + 7\n",
        "    dp = {0:1}\n",
        "    \n",
        "    for _ in range(steps):\n",
        "        curr_dp = collections.defaultdict(int)\n",
        "        for i, val in dp.items():\n",
        "            candidates = [i, i-1, i+1]\n",
        "            for j in candidates:\n",
        "                if 0 <= j < arrLen:\n",
        "                    curr_dp[j] = (curr_dp[j] + val) % MOD\n",
        "        dp = curr_dp\n",
        "    return dp[0] "
      ],
      "execution_count": null,
      "outputs": []
    },
    {
      "cell_type": "markdown",
      "metadata": {
        "id": "X8UDciAgrfOU"
      },
      "source": [
        "# Pattern 2.3 dp = [1, 1, ..., 1], curr_dp = [0, 0, ..., 0 ]"
      ]
    },
    {
      "cell_type": "markdown",
      "metadata": {
        "id": "kHRJBsxSvXR6"
      },
      "source": [
        "## [Knight Dialer](https://leetcode.com/problems/knight-dialer/)\n",
        "*Return how many distinct phone numbers of length n we can dial.*"
      ]
    },
    {
      "cell_type": "code",
      "metadata": {
        "id": "Mo-I-MWJvhVO"
      },
      "source": [
        "def knightDialer(self, n: int) -> int:\n",
        "    \n",
        "    MOD = 10**9 + 7\n",
        "\n",
        "    validPath = {\n",
        "        0: [4, 6],\n",
        "        1: [6, 8],\n",
        "        2: [7, 9],\n",
        "        3: [4, 8],\n",
        "        4: [0, 3, 9],\n",
        "        5: [],\n",
        "        6: [0, 1, 7],\n",
        "        7: [2, 6],\n",
        "        8: [1, 3],\n",
        "        9: [2, 4]\n",
        "    }\n",
        "    \n",
        "    h = [1] * 10\n",
        "    \n",
        "    for i in range(n-1):\n",
        "        curr_h = [0] * 10\n",
        "        for num, val in enumerate(h):\n",
        "            for next_num in validPath[num]:\n",
        "                curr_h[next_num] = (curr_h[next_num] + val) % MOD        \n",
        "        h = curr_h \n",
        "    return sum(h) % MOD"
      ],
      "execution_count": null,
      "outputs": []
    },
    {
      "cell_type": "markdown",
      "metadata": {
        "id": "YBczTn0SVGaM"
      },
      "source": [
        "## [Count Vowels Permutation](https://leetcode.com/problems/count-vowels-permutation/)\n",
        "*Count how many strings of length n can be formed under the following rules*"
      ]
    },
    {
      "cell_type": "code",
      "metadata": {
        "id": "4jdAff8hVTcH"
      },
      "source": [
        "def countVowelPermutation(self, n: int) -> int:\n",
        "    \"\"\"\n",
        "    a, e, i, o, u\n",
        "    0  1  2  3  4\n",
        "    \"\"\"\n",
        "    \n",
        "    MOD = 10**9 + 7\n",
        "    rules = [[1], #a\n",
        "            [0, 2], #e \n",
        "            [0, 1, 3, 4], #i\n",
        "            [2, 4], #o\n",
        "            [0]] #u     \n",
        "    \n",
        "    dp = [1] * 5 # {'a':1, 'e':1, 'i':1, 'o':1, 'u':1}\n",
        "    \n",
        "    for _ in range(n-1):\n",
        "        curr_dp = [0] * 5\n",
        "        for i, val in enumerate(dp):\n",
        "            for j in rules[i]:\n",
        "                curr_dp[j] = (curr_dp[j] + val) % MOD\n",
        "        dp = curr_dp\n",
        "\n",
        "    return sum(dp) % MOD"
      ],
      "execution_count": null,
      "outputs": []
    },
    {
      "cell_type": "markdown",
      "metadata": {
        "id": "WL_IuLmylKAd"
      },
      "source": [
        "## [Domino and Tromino Tiling](https://leetcode.com/problems/domino-and-tromino-tiling/)\n",
        "*How many ways are there to tile a 2 x n board?*"
      ]
    },
    {
      "cell_type": "code",
      "metadata": {
        "id": "7ZXQACQJlSxd"
      },
      "source": [
        "def numTilings(self, n: int) -> int:\n",
        "    \"\"\"\n",
        "curr_state  next_state \n",
        "(0) x   1 x(0)  1 1(2)  1 x(1)  1 1(3) \n",
        "    x   1 x     1 x     1 1     2 2\n",
        "    \n",
        "(1) x   1 1(2)  1 1(3) \n",
        "    o   o x     o 1   \n",
        "    \n",
        "(2) o   o x(1)  o 1(3)\n",
        "    x   1 1     1 1\n",
        "    \n",
        "(3) o   o x(0)\n",
        "    o   o x\n",
        "    \n",
        "    dp[i]: the number of ways to fill tile 2 x i board\n",
        "    \n",
        "    \"\"\"\n",
        "    MOD = 10**9 + 7\n",
        "    path = [[0, 1, 2, 3], [2, 3], [1, 3], [0]]\n",
        "    dp = [1, 0, 0, 0]\n",
        "    \n",
        "    for i in range(n):\n",
        "        curr_dp = [0, 0, 0, 0]\n",
        "        for curr_state, val in enumerate(dp):\n",
        "            if val > 0:\n",
        "                for next_state in path[curr_state]:\n",
        "                    curr_dp[next_state] = (curr_dp[next_state] + val) % MOD\n",
        "        dp = curr_dp\n",
        "    return dp[0]"
      ],
      "execution_count": null,
      "outputs": []
    }
  ]
}
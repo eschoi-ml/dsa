{
  "nbformat": 4,
  "nbformat_minor": 0,
  "metadata": {
    "colab": {
      "name": "greedy.ipynb",
      "provenance": [],
      "toc_visible": true,
      "authorship_tag": "ABX9TyOwXKZpZMyAepIuCegG/bD8",
      "include_colab_link": true
    },
    "kernelspec": {
      "name": "python3",
      "display_name": "Python 3"
    },
    "language_info": {
      "name": "python"
    }
  },
  "cells": [
    {
      "cell_type": "markdown",
      "metadata": {
        "id": "view-in-github",
        "colab_type": "text"
      },
      "source": [
        "<a href=\"https://colab.research.google.com/github/eschoi-ml/dsa/blob/main/greedy.ipynb\" target=\"_parent\"><img src=\"https://colab.research.google.com/assets/colab-badge.svg\" alt=\"Open In Colab\"/></a>"
      ]
    },
    {
      "cell_type": "markdown",
      "metadata": {
        "id": "gBz2lxXE8SWa"
      },
      "source": [
        "# Greedy Algorithm\n",
        "Let's try solving Top 8 Greedy algorithm questions!\n",
        "\n",
        "1. Activity selelction \n",
        "1. Fractional Knapsack\n",
        "1. Graph coloring\n",
        "1. Job sequencing with deadlines\n",
        "1. Minimum number of platforms/ meeting rooms\n",
        "1. Huffman Coding\n",
        "1. Dijkstra's algorithm for shortest paths from a single source (in-progress)\n",
        "1. Kruska's and Prim's minimum spanning tree (in-progress)\n",
        "\n",
        "Inspired by these two articles [[Top 7]](https://medium.com/techie-delight/top-7-greedy-algorithm-problems-3885feaf9430) & [[Top 20]](https://www.geeksforgeeks.org/top-20-greedy-algorithms-interview-questions/?ref=rp).\n"
      ]
    },
    {
      "cell_type": "markdown",
      "metadata": {
        "id": "XxSix0rOIM4V"
      },
      "source": [
        "### Activity selection\n",
        "You are given n activities with their start and finish times. Select the maximum number of activities that can be performed by a single person, assuming that a person can only work on a single activity at a time. \n",
        "\n",
        "---\n",
        "1. Sort the activities in ascending order based on their finish times.\n",
        "2. Select the first activity from this sorted list.\n",
        "3. Select a new activity from the list if its start time is greater than or equal to the finish time of the previously selected activity.\n",
        "4. Repeat the last step until all activities in the sorted list are checked."
      ]
    },
    {
      "cell_type": "code",
      "metadata": {
        "colab": {
          "base_uri": "https://localhost:8080/"
        },
        "id": "N_yroq5PIEPe",
        "outputId": "25bfc52a-fb0a-4736-c345-0cec1b0148df"
      },
      "source": [
        "def activity_selection(start, finish):\n",
        "    cnt = 1\n",
        "    n = len(start)\n",
        "    i = 0\n",
        "    for j in range(n):\n",
        "        if start[j] >= finish[i]:\n",
        "            cnt += 1\n",
        "            i = j\n",
        "    return cnt\n",
        "\n",
        "start = [10, 12, 20]\n",
        "finish = [20, 25, 30]\n",
        "activity_selection(start, finish)\n",
        "\n",
        "start = [1, 3, 0, 5, 8, 5]\n",
        "finish = [2, 4, 6, 7, 9, 9]\n",
        "activity_selection(start, finish)"
      ],
      "execution_count": null,
      "outputs": [
        {
          "output_type": "execute_result",
          "data": {
            "text/plain": [
              "4"
            ]
          },
          "metadata": {
            "tags": []
          },
          "execution_count": 8
        }
      ]
    },
    {
      "cell_type": "markdown",
      "metadata": {
        "id": "x8i0J9z3f22G"
      },
      "source": [
        "### Fractional Knapsack \n",
        "Given weights and values of n items, we need to put these items in a knapsack of capacity W to get the maximum total value in the knapsack. In Fractional Knapsack, we can break items for maximizing the total value of knapsack. 0/fractional/1 Knapsack!\n",
        "\n",
        "---\n",
        "- Calculate cost as (value / weight, index) \n",
        "- Sort cost \n",
        "- Select one or fractional weight & value depending on the remaining capacity\n",
        "\n",
        "value = [60, 40, 100, 120]\n",
        "\n",
        "weight = [10, 40, 20, 30]\n",
        "\n",
        "capacity = 50"
      ]
    },
    {
      "cell_type": "code",
      "metadata": {
        "colab": {
          "base_uri": "https://localhost:8080/"
        },
        "id": "IDg3nOQggbNJ",
        "outputId": "90456afc-fc8a-4824-f8fd-e903db5ed05a"
      },
      "source": [
        "def fractiona_knapsack(value, weight, capacity):\n",
        "\n",
        "    n = len(value)\n",
        "    cost = [(value[i]/weight[i], i) for i in range(n)]\n",
        "    cost.sort(reverse=True)\n",
        "\n",
        "    total_value = 0\n",
        "    for i in range(n):\n",
        "        idx = cost[i][1]\n",
        "        curr_value = value[idx]\n",
        "        curr_weight = weight[idx]\n",
        "\n",
        "        if curr_weight < capacity:\n",
        "            capacity -= curr_weight\n",
        "            total_value += curr_value\n",
        "        else:\n",
        "            total_value += curr_value * capacity / curr_weight\n",
        "            break\n",
        "    \n",
        "    return total_value\n",
        "\n",
        "value = [60, 40, 100, 120]\n",
        "weight = [10, 40, 20, 30]\n",
        "# cost = [(6, 0), (1, 1), (5, 2), (4, 3)]\n",
        "# cost = [(6, 0), (5, 2), (4, 3), (1, 1)]\n",
        "capacity = 50\n",
        "fractiona_knapsack(value, weight, capacity)"
      ],
      "execution_count": 5,
      "outputs": [
        {
          "output_type": "execute_result",
          "data": {
            "text/plain": [
              "240.0"
            ]
          },
          "metadata": {
            "tags": []
          },
          "execution_count": 5
        }
      ]
    },
    {
      "cell_type": "markdown",
      "metadata": {
        "id": "DGuAD0PiQZ-A"
      },
      "source": [
        "### Graph coloring\n",
        "Graph coloring (also called vertex coloring) is a way of coloring a graph's vertices such that no two adjacent vertices share the same color. \n",
        "1. K-colorable graph: Given K colors, find a way of coloring the vertices. \n",
        "2. K-chromatic graph: Find the minimum number K of colors used. \n",
        "---\n",
        "1. Color first vertex with first color. \n",
        "2. Do the following for remaining V-1 vertices\n",
        "    - Consider the currently picked vertex and color it with the lowest numbered color that has NOT been used on any previously colored vertices adjacent to it. If all previously used colors appear on vertices adjacent to v, assign a new color to it. "
      ]
    },
    {
      "cell_type": "code",
      "metadata": {
        "colab": {
          "base_uri": "https://localhost:8080/"
        },
        "id": "SATxheyuQZsI",
        "outputId": "fd3bf705-f143-48f5-f49c-ea896dc34d71"
      },
      "source": [
        "def graph_coloring(graph, V):\n",
        "\n",
        "    res = [-1] * V \n",
        "    res[0] = 0\n",
        "\n",
        "    for i in range(1, V):\n",
        "        \n",
        "        available = [True] * V\n",
        "\n",
        "        for j in graph[i]:\n",
        "            if res[j] != -1:\n",
        "                available[res[j]] = False\n",
        "\n",
        "        color = 0\n",
        "        while color < V and not available[color]:\n",
        "            color += 1\n",
        "        \n",
        "        res[i] = color\n",
        "    \n",
        "    return res\n",
        "\n",
        "graph = {\n",
        "    0: [1, 4, 5],\n",
        "    1: [0, 3, 4],\n",
        "    2: [3, 4],\n",
        "    3: [1, 2],\n",
        "    4: [0, 1, 2, 5],\n",
        "    5: [0, 4]\n",
        "}\n",
        "graph_coloring(graph, len(graph))\n",
        "\n",
        "graph = [[1, 2],[0, 2, 3],[0, 1, 3],[1, 2, 4],[3]]\n",
        "graph_coloring(graph, len(graph))"
      ],
      "execution_count": null,
      "outputs": [
        {
          "output_type": "execute_result",
          "data": {
            "text/plain": [
              "[0, 1, 2, 0, 1]"
            ]
          },
          "metadata": {
            "tags": []
          },
          "execution_count": 9
        }
      ]
    },
    {
      "cell_type": "markdown",
      "metadata": {
        "id": "04-cusImGt_Q"
      },
      "source": [
        "### Job sequencing with deadlines\n",
        "\n",
        "Given an array of jobs where every job has a deadline and associated profit if the job is finished before the deadline. Find the maximum total profit earned by executing the tasks within the specified deadlines. Assume that a task takes one unit of time to execute, and it can't execute beyond its deadline. Also, only a single task will be executed at a time.\n",
        "\n",
        "---\n",
        "\n",
        "1. Sort all jobs in decreasing order of profit\n",
        "2. Iterate on jobs in decreasing order of profit. For each job, do the following\n",
        "    - For each job, find an empty time slot from deadline to 0. If found empty slot, put the job in the slot and mark this slot filled."
      ]
    },
    {
      "cell_type": "code",
      "metadata": {
        "colab": {
          "base_uri": "https://localhost:8080/"
        },
        "id": "Wu9s9_sQPh3m",
        "outputId": "cb768511-b9b6-49c0-eead-f06412f47be3"
      },
      "source": [
        "def job_sequencing(job, deadline):\n",
        "\n",
        "    job.sort(key = lambda x: x[2], reverse=True)\n",
        "\n",
        "    res = [-1] * deadline\n",
        "\n",
        "    for i in range(len(job)):\n",
        "\n",
        "        j = min(deadline - 1, job[i][1] - 1)\n",
        "        while j >= 0 and res[j] != -1:\n",
        "            j -= 1\n",
        "        res[j] = job[i][0]\n",
        "\n",
        "    return res\n",
        "\n",
        "job = [['a', 2, 100],  # Job Array\n",
        "       ['b', 1, 19],\n",
        "       ['c', 2, 27],\n",
        "       ['d', 1, 25],\n",
        "       ['e', 3, 15]]\n",
        "deadline = 3\n",
        "job_sequencing(job, deadline)"
      ],
      "execution_count": null,
      "outputs": [
        {
          "output_type": "execute_result",
          "data": {
            "text/plain": [
              "['c', 'a', 'e']"
            ]
          },
          "metadata": {
            "tags": []
          },
          "execution_count": 3
        }
      ]
    },
    {
      "cell_type": "markdown",
      "metadata": {
        "id": "Lk2n5gEUhyQS"
      },
      "source": [
        "### Minimum number of platforms\n",
        "\n",
        "Given a schedule containing the arrival and departure time of trains in a station, find the minimum number of platforms needed to avoid delay in any train’s arrival.\n",
        "___\n",
        "1. sort arr, dep\n",
        "2. For each time, platform += 1 if arr platform -= 1 if dep\n",
        "\n"
      ]
    },
    {
      "cell_type": "code",
      "metadata": {
        "colab": {
          "base_uri": "https://localhost:8080/"
        },
        "id": "FGasBwyHIy5b",
        "outputId": "04a6197f-8513-4412-9d45-ce8ac3611126"
      },
      "source": [
        "def minimum_platform(arr, dep):\n",
        "\n",
        "    arr.sort()\n",
        "    dep.sort()\n",
        "\n",
        "    n = len(arr)\n",
        "\n",
        "    cnt = curr_cnt = 0\n",
        "    i = j = 0\n",
        "    while i < n and j < n:\n",
        "\n",
        "        if arr[i] < dep[j]:\n",
        "            curr_cnt += 1\n",
        "            i += 1\n",
        "            cnt = max(cnt, curr_cnt)\n",
        "        else:\n",
        "            curr_cnt -= 1\n",
        "            j += 1\n",
        "    return cnt\n",
        "\n",
        "\n",
        "arr = [900, 940, 950, 1100, 1500, 1800]\n",
        "dep = [910, 1200, 1120, 1130, 1900, 2000]\n",
        "minimum_platform(arr, dep)\n",
        "\n",
        "arr = [2.00, 2.10, 3.00, 3.20, 3.50, 5.00]\n",
        "dep = [2.30, 3.40, 3.20, 4.30, 4.00, 5.20]\n",
        "minimum_platform(arr, dep)"
      ],
      "execution_count": null,
      "outputs": [
        {
          "output_type": "execute_result",
          "data": {
            "text/plain": [
              "2"
            ]
          },
          "metadata": {
            "tags": []
          },
          "execution_count": 18
        }
      ]
    },
    {
      "cell_type": "markdown",
      "metadata": {
        "id": "9LtQfZbZnHnl"
      },
      "source": [
        "#### [Meeting Rooms II](https://leetcode.com/problems/meeting-rooms-ii/submissions/)\n",
        "Given an array of meeting time intervals intervals where intervals[i] = [starti, endi], return the minimum number of conference rooms required.\n"
      ]
    },
    {
      "cell_type": "code",
      "metadata": {
        "id": "ardTGGI8nPGN"
      },
      "source": [
        "def minMeetingRooms(self, intervals: List[List[int]]) -> int:\n",
        "    \n",
        "    n = len(intervals)\n",
        "    arr = []\n",
        "    dep = []\n",
        "    for i in range(n):\n",
        "        arr.append(intervals[i][0])\n",
        "        dep.append(intervals[i][1])\n",
        "    arr.sort()\n",
        "    dep.sort()\n",
        "    \n",
        "    cnt = curr_cnt = 0\n",
        "    i = j = 0\n",
        "    while i < n and j < n:\n",
        "        if arr[i] < dep[j]:\n",
        "            curr_cnt += 1\n",
        "            i += 1\n",
        "            cnt = max(cnt, curr_cnt)\n",
        "        else:\n",
        "            curr_cnt -= 1\n",
        "            j += 1\n",
        "            \n",
        "    return cnt"
      ],
      "execution_count": null,
      "outputs": []
    },
    {
      "cell_type": "markdown",
      "metadata": {
        "id": "caxD2qMtCJUE"
      },
      "source": [
        "### Huffman Coding\n",
        "The basic idea is to use 'variable-length encoding.' We assign a variable number of bits to characters depending upon their frequency in the given text. Thus, the more frequently used characters are, the shorter their encodings are resulting in overal small file size. The condition is the 'prefix rule,' which no code is is a prefix of another code.\n",
        " \n",
        "- a 0\n",
        "- b 11\n",
        "- c 100\n",
        "- d 011"
      ]
    },
    {
      "cell_type": "code",
      "metadata": {
        "colab": {
          "base_uri": "https://localhost:8080/"
        },
        "id": "j8iMqggbDqWN",
        "outputId": "c6d4717b-c281-4388-9bdd-ec254133d84e"
      },
      "source": [
        "import heapq\n",
        "from collections import Counter\n",
        "\n",
        "# Tree node\n",
        "class Node:\n",
        "    def __init__(self, ch, freq, left=None, right=None):\n",
        "        self.ch = ch\n",
        "        self.freq = freq\n",
        "        self.left = left\n",
        "        self.right = right\n",
        "\n",
        "    # Override the '__lt__' funtion to make 'Node' class work with mean heap\n",
        "    def __lt__(self, other):\n",
        "        return self.freq < other.freq\n",
        "\n",
        "def Encode_HuffmanCode(text):\n",
        "\n",
        "    # Build Huffman Tree from text\n",
        "    def build_HuffmanTree(text):\n",
        "        if len(text)==0:\n",
        "            return \n",
        "\n",
        "        freq = Counter(text)\n",
        "        pq = [Node(ch, freq) for ch, freq in freq.items()]\n",
        "        heapq.heapify(pq)\n",
        "\n",
        "        while len(pq) != 1:\n",
        "            left = heapq.heappop(pq)\n",
        "            right = heapq.heappop(pq)\n",
        "            total = left.freq + right.freq\n",
        "            heapq.heappush(pq, Node(None, total, left, right))\n",
        "        root = pq[0]\n",
        "        return root\n",
        "    \n",
        "    def encode_HuffmanTree(node, s):\n",
        "\n",
        "        if not node:\n",
        "            return\n",
        "        \n",
        "        if not node.left and not node.right:\n",
        "            huffman_code[node.ch] = s if len(s) > 0 else '1'\n",
        "        \n",
        "        encode_HuffmanTree(node.left, s + '0')\n",
        "        encode_HuffmanTree(node.right, s + '1')\n",
        "\n",
        "    def encode(text, huffman_code):\n",
        "\n",
        "        encoded_text = \"\"\n",
        "        for ch in text:\n",
        "            encoded_text += huffman_code.get(ch)\n",
        "        return encoded_text \n",
        "\n",
        "    root = build_HuffmanTree(text)\n",
        "\n",
        "    huffman_code = {}\n",
        "    encode_HuffmanTree(root, \"\")\n",
        "    encoded_text = encode(text, huffman_code)\n",
        "\n",
        "    return encoded_text, root\n",
        "\n",
        "def Decode_Huffmancode(encoded_text, root):\n",
        "\n",
        "    # Traverse ethe Huffman Tree and decode the encoded text\n",
        "    # return the index\n",
        "    def decode(encoded_text, index, node):\n",
        "        \n",
        "        if not node.left and not node.right:\n",
        "            decoded_text.append(node.ch)\n",
        "            return index\n",
        "\n",
        "        if encoded_text[index] == '0':\n",
        "            return decode(encoded_text, index+1, node.left)\n",
        "        else:\n",
        "            return decode(encoded_text, index+1, node.right)\n",
        "    \n",
        "    #When the tree has only one root node \n",
        "    if root and not root.left and not root.right:\n",
        "        decoded_text = \"\"\n",
        "        while root.freq > 0:\n",
        "            decoded_text += root.ch\n",
        "            root.freq -= 1\n",
        "    else:\n",
        "        decoded_text = []\n",
        "        index = 0\n",
        "        while index < len(encoded_text):\n",
        "            index = decode(encoded_text, index, root)\n",
        "        decoded_text = \"\".join(decoded_text)\n",
        "    return decoded_text\n",
        "\n",
        "#text = 'Huffman coding is a data compression algorithm.'\n",
        "text = 'I love estelle!'\n",
        "#text = 'aaa'\n",
        "encoded_text, root = Encode_HuffmanCode(text)\n",
        "print('Original text: ', text)\n",
        "print('Encoded text: ', encoded_text)\n",
        "\n",
        "decoded_text = Decode_Huffmancode(encoded_text, root)\n",
        "print('Decoded text: ', decoded_text)"
      ],
      "execution_count": 61,
      "outputs": [
        {
          "output_type": "stream",
          "text": [
            "Original text:  I love estelle!\n",
            "Encoded text:  10011100011101010011100110001111010000011011\n",
            "Decoded text:  I love estelle!\n"
          ],
          "name": "stdout"
        }
      ]
    },
    {
      "cell_type": "markdown",
      "metadata": {
        "id": "7KV3nltIpx_V"
      },
      "source": [
        "### Dijkstra's algorithm for shortest paths from a single source\n",
        "given a source vertex s from a set of vertices V in a weighted graph where all its edge weights w(u, v) are non-negative, find the shortest/smallest path weights d(s, v) for all vertices v present in the graph.\n",
        "\n"
      ]
    },
    {
      "cell_type": "code",
      "metadata": {
        "colab": {
          "base_uri": "https://localhost:8080/"
        },
        "id": "0QnvVz76CtVs",
        "outputId": "94a030e2-dfec-488f-f508-e837c507b54a"
      },
      "source": [
        "import heapq\n",
        "def get_route(target, previous):\n",
        "\n",
        "    route = []\n",
        "    v = target\n",
        "    while v != -1:\n",
        "        route.append(v)\n",
        "        v = previous[v]\n",
        "    return route[::-1]\n",
        "\n",
        "def Dijkstra(source, graph):\n",
        "\n",
        "    N = len(graph)\n",
        "    pq = [(0, source)]\n",
        "\n",
        "    distance = [float('inf')] * N\n",
        "    distance[source] = 0\n",
        "\n",
        "    visited = [False] * N\n",
        "    visited[source] = True\n",
        "\n",
        "    previous = [-1] * N\n",
        "    route = []\n",
        "\n",
        "    while pq:\n",
        "\n",
        "        d, v = heapq.heappop(pq)\n",
        "        visited[v] = True\n",
        "\n",
        "        for n, w in graph[v].items():\n",
        "            new_dist = d + w\n",
        "            if not visited[n] and new_dist < distance[n]:\n",
        "                distance[n] = new_dist\n",
        "                previous[n] = v\n",
        "                heapq.heappush(pq, (distance[n], n))\n",
        "\n",
        "    for i in range(1, N):\n",
        "        if i!= source and distance[i]!=float('inf'):\n",
        "            route = get_route(i, previous)\n",
        "            print(f'Path from {source} to {i}: {route} with the minimum cost {distance[i]}')\n",
        "\n",
        "graph = {0:{1:10, 4:3},\n",
        "         1:{2:2, 4:4},\n",
        "         2:{3:9},\n",
        "         3:{2:7},\n",
        "         4:{1:1, 2:8, 3:2}\n",
        "         }\n",
        "Dijkstra(0, graph)"
      ],
      "execution_count": 10,
      "outputs": [
        {
          "output_type": "stream",
          "text": [
            "Path from 0 to 1: [0, 4, 1] with the minimum cost 4\n",
            "Path from 0 to 2: [0, 4, 1, 2] with the minimum cost 6\n",
            "Path from 0 to 3: [0, 4, 3] with the minimum cost 5\n",
            "Path from 0 to 4: [0, 4] with the minimum cost 3\n"
          ],
          "name": "stdout"
        }
      ]
    },
    {
      "cell_type": "markdown",
      "metadata": {
        "id": "Bh6duexte1yY"
      },
      "source": [
        "### Minimum Spanning Tree (MST)\n",
        "\n",
        "#### Kruska's MST\n",
        "#### Prim's MST\n",
        "\n"
      ]
    }
  ]
}
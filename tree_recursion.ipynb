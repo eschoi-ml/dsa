{
  "nbformat": 4,
  "nbformat_minor": 0,
  "metadata": {
    "colab": {
      "name": "tree_recursion.ipynb",
      "provenance": [],
      "authorship_tag": "ABX9TyNB2BypUo5wegbgO+Bfh5/L",
      "include_colab_link": true
    },
    "kernelspec": {
      "name": "python3",
      "display_name": "Python 3"
    },
    "language_info": {
      "name": "python"
    }
  },
  "cells": [
    {
      "cell_type": "markdown",
      "metadata": {
        "id": "view-in-github",
        "colab_type": "text"
      },
      "source": [
        "<a href=\"https://colab.research.google.com/github/eschoi-ml/dsa/blob/main/tree_recursion.ipynb\" target=\"_parent\"><img src=\"https://colab.research.google.com/assets/colab-badge.svg\" alt=\"Open In Colab\"/></a>"
      ]
    },
    {
      "cell_type": "markdown",
      "metadata": {
        "id": "UVSFC9ZZRz33"
      },
      "source": [
        "# Tree Recursion Top-down or Bottom-up"
      ]
    },
    {
      "cell_type": "markdown",
      "metadata": {
        "id": "WJBMewQK6i3I"
      },
      "source": [
        "## Basic application"
      ]
    },
    {
      "cell_type": "markdown",
      "metadata": {
        "id": "wmRAW4phI7pD"
      },
      "source": [
        "### [104. Maximum Depth of Binary Tree](https://leetcode.com/problems/maximum-depth-of-binary-tree/)"
      ]
    },
    {
      "cell_type": "code",
      "metadata": {
        "id": "-UgOCU_jI1g_"
      },
      "source": [
        "def maxDepth(self, root: TreeNode) -> int:\n",
        "    \n",
        "    # Top-down\n",
        "    def helper(node, depth):\n",
        "        \n",
        "        if not node:\n",
        "            return \n",
        "        \n",
        "        if not node.left and not node.right:\n",
        "            self.max_depth = max(self.max_depth, depth)\n",
        "        \n",
        "        helper(node.left, depth + 1)\n",
        "        helper(node.right, depth + 1)\n",
        "        \n",
        "    \n",
        "    self.max_depth = 0\n",
        "    helper(root, 1)\n",
        "    return self.max_depth\n",
        "    \n",
        "    # Bottom up\n",
        "    if not root:\n",
        "        return 0\n",
        "    \n",
        "    left = self.maxDepth(root.left)\n",
        "    right = self.maxDepth(root.right)\n",
        "    \n",
        "    return max(left, right) + 1"
      ],
      "execution_count": null,
      "outputs": []
    },
    {
      "cell_type": "markdown",
      "metadata": {
        "id": "Ubl8RAi7ODZY"
      },
      "source": [
        "### [111. Minimum Depth of Binary Tree](https://leetcode.com/problems/minimum-depth-of-binary-tree/)"
      ]
    },
    {
      "cell_type": "code",
      "metadata": {
        "id": "JJsPaSYsOIy4"
      },
      "source": [
        "def minDepth(self, root: TreeNode) -> int:\n",
        "    \n",
        "    # Top down\n",
        "    def helper(node, depth):\n",
        "        \n",
        "        if not node:\n",
        "            return \n",
        "        \n",
        "        if not node.left and not node.right:\n",
        "            self.min_depth = min(self.min_depth, depth)\n",
        "        \n",
        "        helper(node.left, depth + 1)\n",
        "        helper(node.right, depth + 1)\n",
        "    \n",
        "    if not root: return 0\n",
        "    self.min_depth = float('inf')\n",
        "    helper(root, 1)\n",
        "    return self.min_depth\n",
        "    \n",
        "\n",
        "    # Bottom up\n",
        "    if not root:\n",
        "        return 0\n",
        "    \n",
        "    left = self.minDepth(root.left)\n",
        "    right = self.minDepth(root.right)\n",
        "    \n",
        "    if root.left and root.right:\n",
        "        return min(left, right) + 1\n",
        "    return max(left, right) + 1"
      ],
      "execution_count": null,
      "outputs": []
    },
    {
      "cell_type": "markdown",
      "metadata": {
        "id": "RCUi7iqLRjWX"
      },
      "source": [
        "### [559. Maximum Depth of N-ary Tree](https://leetcode.com/problems/maximum-depth-of-n-ary-tree/)"
      ]
    },
    {
      "cell_type": "code",
      "metadata": {
        "id": "uNEeX1-oTFCV"
      },
      "source": [
        "def maxDepth(self, root: 'Node') -> int:\n",
        "    \n",
        "    def helper(node, depth):\n",
        "        if not node:\n",
        "            return \n",
        "        \n",
        "        if not node.children:\n",
        "            self.max_depth = max(self.max_depth, depth)\n",
        "        \n",
        "        for child in node.children:\n",
        "            helper(child, depth + 1)\n",
        "    \n",
        "    self.max_depth = 0\n",
        "    helper(root, 1)\n",
        "    return self.max_depth"
      ],
      "execution_count": null,
      "outputs": []
    },
    {
      "cell_type": "markdown",
      "metadata": {
        "id": "scW1ihLs69xl"
      },
      "source": [
        "### [129. Sum Root to Leaf Numbers](https://leetcode.com/problems/sum-root-to-leaf-numbers/)"
      ]
    },
    {
      "cell_type": "code",
      "metadata": {
        "id": "ySJS-7dA7EoH"
      },
      "source": [
        "def sumNumbers(self, root: TreeNode) -> int:\n",
        "    \n",
        "    def helper(node, num):\n",
        "        \n",
        "        if not node: \n",
        "            return \n",
        "        \n",
        "        num = 10*num + node.val\n",
        "        if not node.left and not node.right:\n",
        "            self.sum_nums += num\n",
        "        \n",
        "        helper(node.left, num)\n",
        "        helper(node.right, num)\n",
        "    \n",
        "    if not root:\n",
        "        return 0\n",
        "    self.sum_nums = 0\n",
        "    helper(root, 0)\n",
        "    return self.sum_nums"
      ],
      "execution_count": null,
      "outputs": []
    },
    {
      "cell_type": "markdown",
      "metadata": {
        "id": "8yGYz-HKVJt-"
      },
      "source": [
        "### [112. Path Sum](https://leetcode.com/problems/path-sum/)"
      ]
    },
    {
      "cell_type": "code",
      "metadata": {
        "id": "C_vVzRuyVO0S"
      },
      "source": [
        "def hasPathSum(self, root: TreeNode, sum: int) -> bool:\n",
        "    \n",
        "    if not root: \n",
        "        return False\n",
        "    \n",
        "    sum -= root.val\n",
        "    \n",
        "    if not root.left and not root.right:\n",
        "        return sum == 0\n",
        "    \n",
        "    left = self.hasPathSum(root.left, sum)\n",
        "    right = self.hasPathSum(root.right, sum)\n",
        "    \n",
        "    return left or right"
      ],
      "execution_count": null,
      "outputs": []
    },
    {
      "cell_type": "markdown",
      "metadata": {
        "id": "lUVGqnKCbfuR"
      },
      "source": [
        "### [113. Path Sum II](https://leetcode.com/problems/path-sum-ii/)"
      ]
    },
    {
      "cell_type": "code",
      "metadata": {
        "id": "abuItY7YblgR"
      },
      "source": [
        "def pathSum(self, root: TreeNode, targetSum: int) -> List[List[int]]:\n",
        "    \n",
        "    def helper(node, ts, path):\n",
        "        \n",
        "        if not node:\n",
        "            return \n",
        "        \n",
        "        ts -= node.val\n",
        "        path.append(node.val)\n",
        "        \n",
        "        if not node.left and not node.right and ts == 0:\n",
        "            res.append(path[:])\n",
        "        \n",
        "        helper(node.left, ts, path)\n",
        "        helper(node.right, ts, path)\n",
        "        \n",
        "        path.pop()\n",
        "                \n",
        "    res = []\n",
        "    helper(root, targetSum, [])\n",
        "    return res"
      ],
      "execution_count": null,
      "outputs": []
    },
    {
      "cell_type": "markdown",
      "metadata": {
        "id": "yhco5vHf6plw"
      },
      "source": [
        "## Advanced application"
      ]
    },
    {
      "cell_type": "markdown",
      "metadata": {
        "id": "LuGuBoohzCxU"
      },
      "source": [
        "### [124. Binary Tree Maximum Path Sum](https://leetcode.com/problems/binary-tree-maximum-path-sum/)"
      ]
    },
    {
      "cell_type": "code",
      "metadata": {
        "id": "ugMfYhMVzIWe"
      },
      "source": [
        "def maxPathSum(self, root: TreeNode) -> int:  \n",
        "    \n",
        "    def helper(node):\n",
        "        \n",
        "        if not node:\n",
        "            return 0\n",
        "        \n",
        "        left = helper(node.left)\n",
        "        right = helper(node.right)\n",
        "        \n",
        "        sum_left, sum_right = 0, 0\n",
        "        if left > 0:\n",
        "            sum_left = left\n",
        "        if right > 0:\n",
        "            sum_right = right\n",
        "        \n",
        "        self.max_sum = max(self.max_sum, sum_left + sum_right + node.val)\n",
        "        \n",
        "        return max(sum_left, sum_right) + node.val\n",
        "        \n",
        "    self.max_sum = float('-inf')\n",
        "    helper(root)\n",
        "    return self.max_sum"
      ],
      "execution_count": null,
      "outputs": []
    },
    {
      "cell_type": "markdown",
      "metadata": {
        "id": "67aCwTchzg88"
      },
      "source": [
        "### [687. Longest Univalue Path](https://leetcode.com/problems/longest-univalue-path/)"
      ]
    },
    {
      "cell_type": "code",
      "metadata": {
        "id": "0oLgoBxKzMRT"
      },
      "source": [
        "def longestUnivaluePath(self, root: TreeNode) -> int:\n",
        "    \n",
        "    def helper(node):\n",
        "        \"\"\"\n",
        "        return maximum uni_depth either from left or right path            \n",
        "        \"\"\"\n",
        "        if not node:\n",
        "            return 0\n",
        "        \n",
        "        left = helper(node.left)\n",
        "        right = helper(node.right)\n",
        "        \n",
        "        uni_left, uni_right = 0, 0\n",
        "        if node.left and node.val == node.left.val:\n",
        "            uni_left = left + 1\n",
        "        if node.right and node.val == node.right.val:\n",
        "            uni_right = right + 1\n",
        "        \n",
        "        self.max_path = max(self.max_path, uni_left + uni_right)\n",
        "        \n",
        "        return max(uni_left, uni_right) \n",
        "        \n",
        "    self.max_path = 0\n",
        "    helper(root)\n",
        "    return self.max_path"
      ],
      "execution_count": null,
      "outputs": []
    },
    {
      "cell_type": "markdown",
      "metadata": {
        "id": "bYXkixAf4UVU"
      },
      "source": [
        "### [250. Count Univalue Subtrees](https://leetcode.com/problems/count-univalue-subtrees/)"
      ]
    },
    {
      "cell_type": "code",
      "metadata": {
        "id": "o-VW_B9L4ato"
      },
      "source": [
        "def countUnivalSubtrees(self, root: TreeNode) -> int:\n",
        "    \n",
        "    def helper(node):\n",
        "        \n",
        "        if not node:\n",
        "            return True\n",
        "        \n",
        "        left = helper(node.left)\n",
        "        right = helper(node.right)\n",
        "        \n",
        "        if not left or not right:\n",
        "            return False\n",
        "        \n",
        "        if node.left and node.left.val != node.val:\n",
        "            return False\n",
        "        if node.right and node.right.val != node.val:\n",
        "            return False\n",
        "        \n",
        "        self.cnt += 1\n",
        "        \n",
        "        return True\n",
        "        \n",
        "    self.cnt = 0\n",
        "    helper(root)\n",
        "    return self.cnt"
      ],
      "execution_count": null,
      "outputs": []
    },
    {
      "cell_type": "markdown",
      "metadata": {
        "id": "W_w0cMbp-CAD"
      },
      "source": [
        "### [572. Subtree of Another Tree](https://leetcode.com/problems/subtree-of-another-tree/)\n",
        "\n"
      ]
    },
    {
      "cell_type": "code",
      "metadata": {
        "id": "N6do_SFj-Dum"
      },
      "source": [
        "def isSubtree(self, root: TreeNode, subRoot: TreeNode) -> bool:\n",
        "    \n",
        "    def helper(p, q):\n",
        "        \n",
        "        if not p and not q:\n",
        "            return True\n",
        "        \n",
        "        if not p or not q:\n",
        "            return False\n",
        "        \n",
        "        if p.val != q.val:\n",
        "            return False\n",
        "        \n",
        "        return helper(p.left, q.left) and helper(p.right, q.right)\n",
        "        \n",
        "    if helper(root, subRoot):\n",
        "        return True\n",
        "    \n",
        "    if not root:\n",
        "        return False\n",
        "    \n",
        "    left = self.isSubtree(root.left, subRoot)\n",
        "    right = self.isSubtree(root.right, subRoot)\n",
        "    \n",
        "    return left or right"
      ],
      "execution_count": null,
      "outputs": []
    },
    {
      "cell_type": "markdown",
      "metadata": {
        "id": "3Lp45MKRErJE"
      },
      "source": [
        "### [508. Most Frequent Subtree Sum](https://leetcode.com/problems/most-frequent-subtree-sum/)"
      ]
    },
    {
      "cell_type": "code",
      "metadata": {
        "id": "JwN5xXZiEwEh"
      },
      "source": [
        "def findFrequentTreeSum(self, root: TreeNode) -> List[int]:\n",
        "    \n",
        "    def helper(node):\n",
        "        \n",
        "        if not node:\n",
        "            return 0\n",
        "        \n",
        "        left = helper(node.left)\n",
        "        right = helper(node.right)\n",
        "        \n",
        "        s_sum = left + right + node.val\n",
        "        res[s_sum] += 1\n",
        "        \n",
        "        return s_sum\n",
        "\n",
        "    res = collections.Counter()\n",
        "    helper(root)\n",
        "    \n",
        "    max_val = max(res.values())\n",
        "    max_res = []\n",
        "    for key, val in res.items():\n",
        "        if val == max_val:\n",
        "            max_res.append(key)\n",
        "    return max_res"
      ],
      "execution_count": null,
      "outputs": []
    },
    {
      "cell_type": "markdown",
      "metadata": {
        "id": "v613llsfdZ3Q"
      },
      "source": [
        "### [560. Subarray Sum Equals K](https://leetcode.com/problems/subarray-sum-equals-k/)"
      ]
    },
    {
      "cell_type": "code",
      "metadata": {
        "id": "f4dNIO8-ddQP"
      },
      "source": [
        "def subarraySum(self, nums: List[int], k: int) -> int:\n",
        "    \"\"\"\n",
        "    nums = [1, 2, 3]\n",
        "    h = [0:1, 1:1, 3:1, 6:1]\n",
        "    sum nums from i to j (k) = cumsum j - cumsum i\n",
        "    cumsum i = cumsum j - k\n",
        "    \n",
        "    \"\"\"\n",
        "\n",
        "    h = collections.defaultdict(int)\n",
        "    h[0] = 1\n",
        "    \n",
        "    cumsum = 0\n",
        "    cnt = 0\n",
        "    for num in nums:\n",
        "        \n",
        "        cumsum += num\n",
        "        if cumsum - k in h:\n",
        "            cnt += h[cumsum - k]\n",
        "        h[cumsum] += 1\n",
        "        \n",
        "    return cnt"
      ],
      "execution_count": null,
      "outputs": []
    },
    {
      "cell_type": "markdown",
      "metadata": {
        "id": "1b4I4f0SdlYp"
      },
      "source": [
        "### [437. Path Sum III](https://leetcode.com/problems/path-sum-iii/)"
      ]
    },
    {
      "cell_type": "code",
      "metadata": {
        "id": "i7fgQjiZdtJd"
      },
      "source": [
        "def pathSum(self, root: TreeNode, targetSum: int) -> int:\n",
        "    def helper(node, cumsum):\n",
        "        if not node: \n",
        "            return \n",
        "        \n",
        "        cumsum += node.val\n",
        "        if cumsum == targetSum:\n",
        "            self.cnt += 1\n",
        "        if cumsum - targetSum in h:\n",
        "            self.cnt += h[cumsum - targetSum]\n",
        "        h[cumsum] += 1\n",
        "        helper(node.left, cumsum)\n",
        "        helper(node.right, cumsum)\n",
        "        h[cumsum] -= 1\n",
        "    \n",
        "    self.cnt = 0\n",
        "    h = collections.defaultdict(int)\n",
        "    helper(root, 0)\n",
        "    return self.cnt"
      ],
      "execution_count": null,
      "outputs": []
    }
  ]
}
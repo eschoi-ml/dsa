{
  "nbformat": 4,
  "nbformat_minor": 0,
  "metadata": {
    "colab": {
      "name": "dp-pattern1.ipynb",
      "provenance": [],
      "toc_visible": true,
      "authorship_tag": "ABX9TyPE5CVS+w3Xws/uslsFAgHh",
      "include_colab_link": true
    },
    "kernelspec": {
      "name": "python3",
      "display_name": "Python 3"
    },
    "language_info": {
      "name": "python"
    }
  },
  "cells": [
    {
      "cell_type": "markdown",
      "metadata": {
        "id": "view-in-github",
        "colab_type": "text"
      },
      "source": [
        "<a href=\"https://colab.research.google.com/github/eschoi-ml/dsa/blob/main/dp_pattern1.ipynb\" target=\"_parent\"><img src=\"https://colab.research.google.com/assets/colab-badge.svg\" alt=\"Open In Colab\"/></a>"
      ]
    },
    {
      "cell_type": "markdown",
      "metadata": {
        "id": "uYV9JZTh7sIS"
      },
      "source": [
        "# Dynamic Programming \n",
        "# Pattern 1. Min/Max value to reach a target\n",
        "\n",
        "Given a target, find the minimum/maximum cost/path/sum to reach the target.\n",
        "- 0/1 Knapsack\n",
        "- Unbounded knapsack\n",
        "- Coin Change\n",
        "- Min Cost Climbing Stairs\n",
        "- Minimum Path Sum\n",
        "- Minimum Cost For Tickets\n",
        "- 2 Keys Keyboard\n",
        "- Perfect Squares\n",
        "- Triangle\n",
        "- Ones and Zeros\n",
        "- Maximal Square\n",
        "- Last Stone Weight II\n",
        "- Partition Equal Subset Sum"
      ]
    },
    {
      "cell_type": "markdown",
      "metadata": {
        "id": "WN5zADegDVV4"
      },
      "source": [
        "## 0/1 Knapsack \n",
        "Given weights and values of n items, put these items in a knapsack of capacity W to get the maximum total value in the knapsack. Find the maximum value subset of value such that sum of the weights of this subset is smaller than or equal to W. You cannot break an item, either pick the complete item or don’t pick it (0-1 property).\n",
        "\n",
        "value = [10, 15, 40]\n",
        "\n",
        "weight = [1, 2, 3]\n",
        "\n",
        "W = 6"
      ]
    },
    {
      "cell_type": "code",
      "metadata": {
        "colab": {
          "base_uri": "https://localhost:8080/"
        },
        "id": "OLMrWTVv5n1G",
        "outputId": "4b1056a9-6812-4256-a01c-90dcf2e14884"
      },
      "source": [
        "def zero_one_knapsack(value, weight, W):\n",
        "    \"\"\"\n",
        "    dp[i][j] the maximum value to make weight j using 0~i-1 items\n",
        "    dp[i][j] = max(dp[i-1][j], value[i-1] + dp[i-1][j-weight[i-1]]) \n",
        "             = dp[i-1][j] \n",
        "    item\\W   0 1 2 3 4 5 6 \n",
        "        0    0 0 0 0 0 0 0 \n",
        "        1    0 \n",
        "        2    0 \n",
        "        3    0\n",
        "    \"\"\"\n",
        "    n = len(value)\n",
        "    dp = [[0] * (W+1) for _ in range(n+1)]\n",
        "\n",
        "    for i in range(1, n+1): # item\n",
        "        for j in range(1, W+1): # weight\n",
        "            if weight[i-1] <= j:\n",
        "                dp[i][j] = max(dp[i-1][j], value[i-1] + dp[i - 1][j-weight[i-1]])\n",
        "            else:\n",
        "                dp[i][j] = dp[i-1][j]\n",
        "\n",
        "    return dp[-1][-1]\n",
        "\n",
        "def optimized_zero_one_knapsack(value, weight, W):\n",
        "    \"\"\"\n",
        "    dp[i] the maximum value to make weight j using 0~i-1 items\n",
        "\n",
        "    \"\"\"\n",
        "    n = len(value)\n",
        "    dp = [0] * (W+1)\n",
        "\n",
        "    for i in range(1, n+1):\n",
        "        for j in range(W, 0, -1):\n",
        "            if weight[i-1] <= j:\n",
        "                dp[j] = max(dp[j], value[i-1] + dp[j-weight[i-1]])\n",
        "\n",
        "    return dp[-1]\n",
        "\n",
        "value = [10, 15, 40]\n",
        "weight = [1, 2, 3]\n",
        "W = 6\n",
        "\n",
        "zero_one_knapsack(value, weight, W)\n",
        "optimized_zero_one_knapsack(value, weight, W)\n"
      ],
      "execution_count": null,
      "outputs": [
        {
          "output_type": "execute_result",
          "data": {
            "text/plain": [
              "65"
            ]
          },
          "metadata": {
            "tags": []
          },
          "execution_count": 3
        }
      ]
    },
    {
      "cell_type": "markdown",
      "metadata": {
        "id": "arLibjNZJll5"
      },
      "source": [
        "## Unbounded Knapsack\n",
        "\n",
        "Given a knapsack weight W and a set of n items with certain value and weight, find the maximum value that could make up this quantity exactly when repetition of items allowed."
      ]
    },
    {
      "cell_type": "code",
      "metadata": {
        "colab": {
          "base_uri": "https://localhost:8080/"
        },
        "id": "n98K5lOjBa25",
        "outputId": "ef80fa1a-368e-4e59-dfb7-6b5c767409a7"
      },
      "source": [
        "def unbounded_knapsack(value, weight, W):\n",
        "    \"\"\"\n",
        "    dp[i]: the maximum value to make weight i using items\n",
        "    dp[i] = max(dp[i], value[j] + dp[i - weight[j]])\n",
        "    weight 0 1 2 3 4 5 6\n",
        "\n",
        "    \"\"\"\n",
        "    n = len(value)\n",
        "    dp = [0] * (W + 1)\n",
        "    for i in range(1, W + 1):\n",
        "        for j in range(n):\n",
        "            if weight[j] <= i:\n",
        "                dp[i] = max(dp[i], value[j] + dp[i-weight[j]])\n",
        "    \n",
        "    return dp[-1]\n",
        "\n",
        "value = [10, 15, 40]\n",
        "weight = [1, 2, 3]\n",
        "W = 6\n",
        "unbounded_knapsack(value, weight, W)"
      ],
      "execution_count": null,
      "outputs": [
        {
          "output_type": "execute_result",
          "data": {
            "text/plain": [
              "80"
            ]
          },
          "metadata": {
            "tags": []
          },
          "execution_count": 4
        }
      ]
    },
    {
      "cell_type": "markdown",
      "metadata": {
        "id": "AWs6pOv1Na3a"
      },
      "source": [
        "## [Coin Change](https://leetcode.com/problems/coin-change/)\n",
        "*Return the fewest number of coins that you need to make up that amount.*"
      ]
    },
    {
      "cell_type": "code",
      "metadata": {
        "id": "2i1B8bpzNd_t"
      },
      "source": [
        "def coinChange(self, coins: List[int], amount: int) -> int:\n",
        "    \"\"\"\n",
        "    dp[i]: the min number of coins to make amount i using all coins \n",
        "    dp[i] = min(dp[i], 1 + dp[i-coins[j]]) if coins[j] <= i\n",
        "    amount 0 1 2 3 4 5 6 7 8 9 10 11\n",
        "           0 \n",
        "    \"\"\"\n",
        "    \n",
        "    n = len(coins)\n",
        "    dp = [float('inf')] * (amount + 1)\n",
        "    dp[0] = 0\n",
        "    \n",
        "    for i in range(1, amount + 1):\n",
        "        for j in range(n):\n",
        "            if coins[j] <= i:\n",
        "                dp[i] = min(dp[i], 1 + dp[i-coins[j]])\n",
        "    return dp[-1] if dp[-1]!= float('inf') else -1"
      ],
      "execution_count": null,
      "outputs": []
    },
    {
      "cell_type": "markdown",
      "metadata": {
        "id": "-HXMdIOsVAq9"
      },
      "source": [
        "## [Min Cost Climbing Stairs](https://leetcode.com/problems/min-cost-climbing-stairs/)\n",
        "*Return the minimum cost to reach the top of the floor.*"
      ]
    },
    {
      "cell_type": "code",
      "metadata": {
        "id": "0t9vhchtMWTo"
      },
      "source": [
        "def minCostClimbingStairs(self, cost: List[int]) -> int:\n",
        "    \"\"\"\n",
        "    dp[i]: the minimum cost to reach i\n",
        "    dp[i] = cost[i] + min(dp[i-2], dp[i-1])\n",
        "    \n",
        "    \"\"\"\n",
        "    n = len(cost)\n",
        "    dp = [0] * n\n",
        "    dp[0], dp[1] = cost[0], cost[1]\n",
        "    for i in range(2, n):\n",
        "        dp[i] = cost[i] + min(dp[i-2], dp[i-1])\n",
        "\n",
        "    return min(dp[-2], dp[-1])"
      ],
      "execution_count": null,
      "outputs": []
    },
    {
      "cell_type": "markdown",
      "metadata": {
        "id": "j3DFlIpjWe_4"
      },
      "source": [
        "## [Minimum Path Sum](https://leetcode.com/problems/minimum-path-sum/)\n",
        "*Find a path from top left to bottom right, which minimizes the sum of all numbers along its path.*"
      ]
    },
    {
      "cell_type": "code",
      "metadata": {
        "id": "aRhBEuy1WjMx"
      },
      "source": [
        "def minPathSum(self, grid: List[List[int]]) -> int:\n",
        "    \"\"\"\n",
        "    grid[i][j]: the minimum sum upto the path (i, j)\n",
        "        1 3 1\n",
        "        1\n",
        "        4\n",
        "    grid[i][j] += min(grid[i-1][j], grid[i][j-1])\n",
        "        1 4 5\n",
        "        2\n",
        "        6\n",
        "    \n",
        "    \"\"\"\n",
        "    m, n = len(grid), len(grid[0])\n",
        "    for i in range(1, m):\n",
        "        grid[i][0] += grid[i-1][0]\n",
        "    for i in range(1, n):\n",
        "        grid[0][i] += grid[0][i-1]\n",
        "    \n",
        "    for i in range(1, m):\n",
        "        for j in range(1, n):\n",
        "            grid[i][j] += min(grid[i-1][j], grid[i][j-1])\n",
        "    \n",
        "    return grid[-1][-1]"
      ],
      "execution_count": null,
      "outputs": []
    },
    {
      "cell_type": "markdown",
      "metadata": {
        "id": "8EhKP1A_Yd_G"
      },
      "source": [
        "## [Minimum Falling Path Sum](https://leetcode.com/problems/minimum-falling-path-sum/)\n",
        "*Return the minimum sum of any falling path through matrix.*"
      ]
    },
    {
      "cell_type": "code",
      "metadata": {
        "id": "KmVV_whhYbUt"
      },
      "source": [
        "def minFallingPathSum(self, A: List[List[int]]) -> int:\n",
        "    \"\"\"\n",
        "    A[i][j]: the minimum path sum upto (i, j)\n",
        "    \n",
        "    \"\"\"\n",
        "    \n",
        "    n = len(A)\n",
        "    \n",
        "    for i in range(1, n):\n",
        "        for j in range(n):\n",
        "            \n",
        "            A[i][j] += min(A[i-1][max(0, j-1):min(n-1, j+1) + 1])\n",
        "    \n",
        "    return min(A[n-1])"
      ],
      "execution_count": null,
      "outputs": []
    },
    {
      "cell_type": "markdown",
      "metadata": {
        "id": "EsuuyBRgD7de"
      },
      "source": [
        "## [Minimum Cost For Tickets](https://leetcode.com/problems/minimum-cost-for-tickets/)\n",
        "*Return the minimum number of dollars you need to travel every day in the given list of days.*"
      ]
    },
    {
      "cell_type": "code",
      "metadata": {
        "id": "8atDb8G_EEWN"
      },
      "source": [
        "def mincostTickets(self, days: List[int], costs: List[int]) -> int:\n",
        "    \"\"\"\n",
        "\n",
        "    dp[i]: the minimum cost to travel until day i\n",
        "    \n",
        "    dp[i] = min(dp[i-1] + costs[0], dp[max(0, i-7)] + costs[1], dp[max(0, i-30)] + costs[2])\n",
        "    dp[i] = dp[i-1]\n",
        "    \n",
        "    day 0 1 2 3 4 5 6 7 8 9 ... 20\n",
        "        0 inf inf \n",
        "    \n",
        "    \"\"\"\n",
        "    n = days[-1]\n",
        "    \n",
        "    days = set(days)\n",
        "    \n",
        "    dp = [float('inf')] * (n + 1)\n",
        "    dp[0] = 0\n",
        "    \n",
        "    for i in range(1, n+1):\n",
        "        if i not in days:\n",
        "            dp[i] = dp[i-1]\n",
        "        else:\n",
        "            dp[i] = min(dp[i-1] + costs[0], dp[max(0, i-7)] + costs[1], dp[max(0, i-30)] + costs[2])\n",
        "            \n",
        "    return dp[-1]"
      ],
      "execution_count": null,
      "outputs": []
    },
    {
      "cell_type": "markdown",
      "metadata": {
        "id": "rOMr8sFcKUpV"
      },
      "source": [
        "## [2 Keys Keyboard](https://leetcode.com/problems/2-keys-keyboard/)\n",
        "*Return the minimum number of operations to get the character 'A' exactly n times on the screen.*"
      ]
    },
    {
      "cell_type": "code",
      "metadata": {
        "id": "Q6qsocWEKhfI"
      },
      "source": [
        "def minSteps(self, n: int) -> int:\n",
        "    \"\"\"\n",
        "    dp[i]: the minimum number of operations to get 'A' i times\n",
        "\n",
        "    \"\"\"\n",
        "    # Solution 1\n",
        "    dp = [ i for i in range(n+1)]\n",
        "    dp[0] = dp[1] = 0\n",
        "    for i in range(2, n+1):\n",
        "        \n",
        "        j = 2\n",
        "        while i * j < n + 1:\n",
        "            dp[i * j] = min(dp[i * j], dp[i] + j)\n",
        "            j += 1\n",
        "            \n",
        "    return dp[-1]\n",
        "\n",
        "    # Solution 2\n",
        "    cnt = 0\n",
        "    i = 2\n",
        "    while i < n + 1:\n",
        "        if n % i == 0:\n",
        "            cnt += i \n",
        "            n //= i\n",
        "        else:\n",
        "            i += 1\n",
        "            \n",
        "    return cnt"
      ],
      "execution_count": null,
      "outputs": []
    },
    {
      "cell_type": "markdown",
      "metadata": {
        "id": "moGxUYe0T3hZ"
      },
      "source": [
        "## [Perfect Squares](https://leetcode.com/problems/perfect-squares/)\n",
        "*Return the least number of perfect square numbers that sum to n*"
      ]
    },
    {
      "cell_type": "code",
      "metadata": {
        "id": "d0FxudmBT_Fb"
      },
      "source": [
        "def numSquares(self, n: int) -> int:\n",
        "    \"\"\"\n",
        "    dp[i]: the minimum number of perfect square numbers that sum to i\n",
        "\n",
        "    \"\"\"\n",
        "    squares = [ i*i for i in range(1, int(sqrt(n)) + 1)]\n",
        "    \n",
        "    dp = [float('inf')] * (n + 1)\n",
        "    dp[0] = 0\n",
        "    \n",
        "    for i in range(1, n + 1):\n",
        "        for square in squares:\n",
        "            if square <= i:\n",
        "                dp[i] = min(dp[i], dp[i - square] + 1)\n",
        "    \n",
        "    return dp[-1]"
      ],
      "execution_count": null,
      "outputs": []
    },
    {
      "cell_type": "markdown",
      "metadata": {
        "id": "I8C0j25YwMZV"
      },
      "source": [
        "## [Triangle](https://leetcode.com/problems/triangle/)\n",
        "*Return the minimum path sum from top to bottom.*"
      ]
    },
    {
      "cell_type": "code",
      "metadata": {
        "id": "eyzNiobxwVOa"
      },
      "source": [
        "def minimumTotal(self, triangle: List[List[int]]) -> int:\n",
        "    \"\"\"\n",
        "    triangle[i][j]: the minimum path sum to (i, j)\n",
        "\n",
        "    \"\"\"\n",
        "    n = len(triangle)\n",
        "    \n",
        "    for i in range(1, n):\n",
        "        triangle[i][0] += triangle[i-1][0]\n",
        "        triangle[i][i] += triangle[i-1][i-1] \n",
        "        for j in range(1, i):\n",
        "            triangle[i][j] += min(triangle[i-1][j-1], triangle[i-1][j])\n",
        "    \n",
        "    return min(triangle[-1])"
      ],
      "execution_count": null,
      "outputs": []
    },
    {
      "cell_type": "markdown",
      "metadata": {
        "id": "QidiNIWjypxt"
      },
      "source": [
        "## [Ones and Zeros](https://leetcode.com/problems/ones-and-zeroes/)\n",
        "*Return the size of the largest subset*"
      ]
    },
    {
      "cell_type": "code",
      "metadata": {
        "id": "AbKyPhFLCg6E"
      },
      "source": [
        "def findMaxForm(self, strs: List[str], m: int, n: int) -> int:\n",
        "    \"\"\"\n",
        "    dp[k][i][j]: the maximum number of strings that can be included in the subset \n",
        "                    given only i 0's and j 1's using 0 to k-1 items in strs\n",
        "    \n",
        "    \"\"\"\n",
        "    # Basic Solution: O(k * m * n) & O(k * m * n)\n",
        "    len_strs = len(strs)\n",
        "    for i in range(len_strs):\n",
        "        strs[i] = collections.Counter(strs[i])\n",
        "    \n",
        "    dp = [[[0] * (n + 1) for _ in range(m + 1)] for _ in range(len_strs + 1)]\n",
        "            \n",
        "    for k in range(1, len_strs + 1):\n",
        "        zeros = strs[k-1]['0']\n",
        "        ones = strs[k-1]['1']\n",
        "        for i in range(m + 1):\n",
        "            for j in range(n + 1):\n",
        "                if i >= zeros and j >= ones:\n",
        "                    dp[k][i][j] = max(dp[k-1][i][j], dp[k-1][i - zeros][j - ones] + 1)\n",
        "                else:\n",
        "                    dp[k][i][j] = dp[k-1][i][j]\n",
        "\n",
        "    return dp[-1][-1][-1]\n",
        "\n",
        "\n",
        "    \"\"\"\n",
        "    dp[i][j]: the maximum number of strings that can be included in the subset \n",
        "                given only i 0's and j 1's\n",
        "    \"\"\"\n",
        "    # Optimized Solution: O(k * m * n) & O(m * n)\n",
        "\n",
        "    len_strs = len(strs)\n",
        "    for i in range(len_strs):\n",
        "        strs[i] = collections.Counter(strs[i])\n",
        "    \n",
        "    dp = [[0] * (n + 1) for _ in range(m + 1)]\n",
        "            \n",
        "    for k in range(len_strs):\n",
        "        zeros = strs[k]['0']\n",
        "        ones = strs[k]['1']\n",
        "\n",
        "        for i in range(m, -1, -1):\n",
        "            for j in range(n, -1, -1):\n",
        "                if i >= zeros and j >= ones:\n",
        "                    dp[i][j] = max(dp[i][j], dp[i - zeros][j - ones] + 1)\n",
        "\n",
        "    return dp[-1][-1]"
      ],
      "execution_count": null,
      "outputs": []
    },
    {
      "cell_type": "markdown",
      "metadata": {
        "id": "br-GIU3-ChYq"
      },
      "source": [
        "## [Maximal Square](https://leetcode.com/problems/maximal-square/)\n",
        "*Find the largest square containing only 1's*"
      ]
    },
    {
      "cell_type": "code",
      "metadata": {
        "id": "wG0GYe2zCnSN"
      },
      "source": [
        "def maximalSquare(self, matrix: List[List[str]]) -> int:\n",
        "    \"\"\"\n",
        "    dp[i][j]: the longest length of square at (i+1, j+1)\n",
        "    \n",
        "    \"\"\"\n",
        "    # Basic Solution: O(m * n) & O(m * n)\n",
        "    m, n = len(matrix), len(matrix[0])\n",
        "    dp = [[0] * (n + 1) for _ in range(m + 1)]\n",
        "    maxlen = 0\n",
        "    for i in range(1, m + 1):\n",
        "        for j in range(1, n + 1):\n",
        "            if matrix[i-1][j-1] == '1':\n",
        "                dp[i][j] = min(dp[i-1][j-1], dp[i][j-1], dp[i-1][j]) + 1\n",
        "                maxlen = max(maxlen, dp[i][j])\n",
        "    \n",
        "    return maxlen ** 2\n",
        "    \n",
        "    \"\"\"\n",
        "    dp[i]: the longest length of square at column i \n",
        "    \"\"\"\n",
        "    # Optimized Solution 1. O(m * n) & O(m + n)\n",
        "    m, n = len(matrix), len(matrix[0])\n",
        "    dp = [0] * (n + 1)\n",
        "    maxlen = 0\n",
        "    for i in range(1, m + 1):\n",
        "        temp_dp = [0] * (n + 1)\n",
        "        for j in range(1, n + 1):\n",
        "            if matrix[i-1][j-1] == '1':\n",
        "                temp_dp[j] = min(dp[j-1], dp[j], temp_dp[j-1]) + 1\n",
        "                maxlen = max(maxlen, temp_dp[j])\n",
        "        dp = temp_dp\n",
        "    return maxlen ** 2\n",
        "            \n",
        "    # Optimized Solution 2. O(m * n) & O(n)\n",
        "    m, n = len(matrix), len(matrix[0])\n",
        "    dp = [0] * (n + 1)\n",
        "    maxlen = 0\n",
        "    for i in range(1, m + 1):\n",
        "        prev = 0\n",
        "        for j in range(1, n + 1):\n",
        "            if matrix[i-1][j-1] == '1':\n",
        "                dp[j] = min(dp[j-1], dp[j], prev) + 1\n",
        "                maxlen = max(maxlen, dp[j])\n",
        "                prev = dp[j]\n",
        "            else:\n",
        "                prev = 0\n",
        "    return maxlen ** 2"
      ],
      "execution_count": null,
      "outputs": []
    },
    {
      "cell_type": "markdown",
      "metadata": {
        "id": "I92rxTHUospx"
      },
      "source": [
        "## [Last Stone Weight II](https://leetcode.com/problems/last-stone-weight-ii/)\n",
        "*Return the smallest possible weight of the left stone. (The minimum difference between the sum of two groups.)*"
      ]
    },
    {
      "cell_type": "code",
      "metadata": {
        "id": "HwqCXGA_ozEr"
      },
      "source": [
        "def lastStoneWeightII(self, stones: List[int]) -> int:\n",
        "    \"\"\"\n",
        "    dp = {0}\n",
        "    stones = 2, 7, 4, 1, 8, 1\n",
        "                +  +  +  +  +  +\n",
        "                -  -  -  -  -  -\n",
        "    \"\"\"\n",
        "    dp = {0}\n",
        "    for stone in stones:\n",
        "        temp_dp = set()\n",
        "        for i in dp:\n",
        "            temp_dp.add(stone + i)\n",
        "            temp_dp.add(abs(stone - i))\n",
        "        dp = temp_dp\n",
        "    return min(dp)"
      ],
      "execution_count": null,
      "outputs": []
    },
    {
      "cell_type": "markdown",
      "metadata": {
        "id": "HmxXzLhmoK-4"
      },
      "source": [
        "## [Partition Equal Subset Sum](https://leetcode.com/problems/partition-equal-subset-sum/)\n",
        "*Find if the array can be partitioned into two subsets such that the sum of elements in both subsets is equal.*\n"
      ]
    },
    {
      "cell_type": "code",
      "metadata": {
        "id": "jLaSCQBWob6Y"
      },
      "source": [
        "def canPartition(self, nums: List[int]) -> bool:\n",
        "    \"\"\"\n",
        "    h = {0}\n",
        "    nums = [1,  5,  11,  5]\n",
        "            +/0 +/0 +/0 +/0\n",
        "    \"\"\"\n",
        "    \n",
        "    target = sum(nums)\n",
        "    if target % 2 == 1:\n",
        "        return False\n",
        "    target //= 2\n",
        "    \n",
        "    h = {0}\n",
        "    for num in nums:\n",
        "        curr_h = set()\n",
        "        for i in h:\n",
        "            curr_sum = num + i\n",
        "            if curr_sum == target:\n",
        "                return True\n",
        "            if curr_sum < target:\n",
        "                curr_h.add(curr_sum)\n",
        "        h = h | curr_h\n",
        "\n",
        "    return False"
      ],
      "execution_count": null,
      "outputs": []
    }
  ]
}